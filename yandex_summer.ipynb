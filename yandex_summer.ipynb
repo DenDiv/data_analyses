{
 "cells": [
  {
   "cell_type": "code",
   "execution_count": 2,
   "metadata": {},
   "outputs": [],
   "source": [
    "import numpy as np\n",
    "import pandas as pd\n",
    "import matplotlib.pyplot as plt\n",
    "from sklearn.datasets import make_blobs\n",
    "from sklearn import svm\n",
    "from sklearn.metrics import roc_auc_score\n",
    "from sklearn.linear_model import LogisticRegression\n",
    "from sklearn.svm import SVC\n",
    "from sklearn.manifold import TSNE\n",
    "from sklearn.linear_model import LinearRegression\n",
    "%matplotlib inline"
   ]
  },
  {
   "cell_type": "code",
   "execution_count": 60,
   "metadata": {},
   "outputs": [],
   "source": [
    "##не юзается\n",
    "def exp_func(x,y,w):\n",
    "    return np.exp(-y*np.dot(w,x))\n",
    "\n",
    "def sigmoid_func(x,y,w):\n",
    "    return 1./(1. + np.exp(y*np.dot(w,x)))\n",
    "\n",
    "def grad(X, y, w, func = sigmoid_func):\n",
    "    pred_grad = np.zeros(X.shape[0])\n",
    "    for i in range(len(pred_grad)):\n",
    "        pred_grad[i] = func(X[i,:],y[i],w)\n",
    "    pred_grad = -pred_grad*y\n",
    "    return np.dot(pred_grad,X)\n",
    "\n",
    "def grad_desc(X, y, eta = 0.001):\n",
    "    X = np.hstack((np.ones((X.shape[0],1)),X))\n",
    "    w = np.array([0]*X.shape[1])\n",
    "    n_iter = 0\n",
    "    \n",
    "    while np.sum(y != np.sign(np.dot(X,w)))!=0:\n",
    "        w = w - (1/X.shape[0])*eta*grad(X,y,w)\n",
    "        n_iter += 1\n",
    "        #eta= 1./n_iter\n",
    "        print(np.sum(y != np.sign(np.dot(X,w)))/X.shape[0])\n",
    "    print(n_iter)\n",
    "    return w\n"
   ]
  },
  {
   "cell_type": "code",
   "execution_count": 11,
   "metadata": {},
   "outputs": [],
   "source": [
    "#персептрон розенблатта\n",
    "def perc_roz(X, y, eta = 1):\n",
    "    w = np.array([0.001]*X.shape[1])\n",
    "    y_pred = np.sign(np.dot(X,w))\n",
    "    \n",
    "    while np.sum(y_pred != y) != 0:\n",
    "        index = np.where(y_pred != y)[0][0]   \n",
    "        w = w + eta * X[index,:] * (y[index]-y_pred[index])\n",
    "        y_pred = np.sign(np.dot(X,w))\n",
    "        #print(np.sum(y_pred != y))\n",
    "        \n",
    "    return w\n",
    "    "
   ]
  },
  {
   "cell_type": "code",
   "execution_count": 11,
   "metadata": {},
   "outputs": [],
   "source": [
    "#раб. вар.\n",
    "def process_input(s):\n",
    "    N = int(s[0])\n",
    "    y, t = [0] * N, [0] * N\n",
    "    for i in range(N):\n",
    "        arr = s[i+1].split()\n",
    "        t[i], y[i] = arr[0], arr[1]\n",
    "    return t, y\n",
    "\n",
    "def b_auc(t, y):\n",
    "    summ, counter = 0, 0\n",
    "    for i in range(len(y)):\n",
    "        for j in range(len(y)):\n",
    "            if t[i] > t[j]:\n",
    "                counter += 1\n",
    "                summ += (int(y[i] > y[j]) + 0.5 * int(y[i] == y[j]))\n",
    "\n",
    "    return summ / counter"
   ]
  },
  {
   "cell_type": "code",
   "execution_count": 145,
   "metadata": {},
   "outputs": [],
   "source": [
    "#бинарный roc auc по воронцову\n",
    "def binary_roc_auc(t, y, mult = False):\n",
    "    classes = np.unique(t).tolist()\n",
    "    classes.sort(reverse=True)\n",
    "    tup_arr = list(zip(y,t))\n",
    "    tup_arr.sort(reverse=True)\n",
    "    auc = 0\n",
    "    tpr = 0\n",
    "    for i in range(len(y)):\n",
    "        if tup_arr[i][1] != classes[0]:\n",
    "            auc += tpr\n",
    "        else:\n",
    "            tpr += 1\n",
    "    if mult:\n",
    "        return auc\n",
    "    else:\n",
    "        return auc/(np.sum(t == classes[0])*np.sum(t != classes[0]))\n",
    "   "
   ]
  },
  {
   "cell_type": "code",
   "execution_count": 146,
   "metadata": {},
   "outputs": [],
   "source": [
    "#обобщение бинарного\n",
    "def multi_roc_auc(t, y):\n",
    "    \n",
    "    classes = np.unique(t).tolist()\n",
    "    classes.sort(reverse=True)\n",
    "    classes_count = []\n",
    "    for i in classes:\n",
    "        classes_count.append(np.sum(t == i))\n",
    "        \n",
    "    auc = 0\n",
    "    classes = np.array(list(zip(classes, classes_count)))\n",
    "    tup_arr = list(zip(t,y))\n",
    "    tup_arr.sort(reverse=True)\n",
    "    tup_arr = np.array(tup_arr)\n",
    "    #посчет знаменателя\n",
    "    counter_const = 0\n",
    "    \n",
    "    for i in range(classes.shape[0] - 1):\n",
    "        for j in range(i+1,classes.shape[0]):\n",
    "            counter_const += classes[i][1] * classes[j][1]\n",
    "            #границы для подачи на бинарный roc_auc\n",
    "            b_1 = np.sum(classes[:i,1])\n",
    "            b_2 = np.sum(classes[:i,1]) + classes[i,1]\n",
    "            b_3 = np.sum(classes[:j,1])\n",
    "            b_4 = np.sum(classes[:j,1]) + classes[j,1]\n",
    "           \n",
    "            auc += binary_roc_auc(np.hstack((tup_arr[b_1:b_2,0], tup_arr[b_3:b_4,0])), np.hstack((tup_arr[b_1:b_2,1], tup_arr[b_3:b_4,1])),\n",
    "                                 mult=True)\n",
    "    \n",
    "        \n",
    "    return auc/counter_const"
   ]
  },
  {
   "cell_type": "code",
   "execution_count": 25,
   "metadata": {},
   "outputs": [],
   "source": [
    "X, Y = make_blobs(n_samples=1000,n_features=2, centers=3)\n",
    "Y = Y*2 -1"
   ]
  },
  {
   "cell_type": "code",
   "execution_count": 232,
   "metadata": {},
   "outputs": [
    {
     "data": {
      "image/png": "[encoded data removed]",
      "text/plain": [
       "<Figure size 432x288 with 1 Axes>"
      ]
     },
     "metadata": {
      "needs_background": "light"
     },
     "output_type": "display_data"
    }
   ],
   "source": [
    "\n",
    "#plt.plot(xx, yy, 'k-')\n",
    "plt.title(\"Two blobs\", fontsize='small')\n",
    "plt.scatter(X[:, 0], X[:, 1], marker='o', c=Y,\n",
    "            s=25, edgecolor='k')\n",
    "plt.show()"
   ]
  },
  {
   "cell_type": "code",
   "execution_count": 40,
   "metadata": {},
   "outputs": [
    {
     "name": "stdout",
     "output_type": "stream",
     "text": [
      "3112\n",
      "1\n",
      "0\n",
      "[20.95940384 -6.83163722]\n",
      "0\n",
      "CPU times: user 1.84 ms, sys: 208 µs, total: 2.05 ms\n",
      "Wall time: 1.5 ms\n"
     ]
    }
   ],
   "source": [
    "#тест перцептрона\n",
    "%%time\n",
    "w = perc_roz(X,Y)\n",
    "print(w)\n",
    "print(np.sum(Y != np.sign(np.dot(X,w))))"
   ]
  },
  {
   "cell_type": "code",
   "execution_count": 26,
   "metadata": {},
   "outputs": [
    {
     "name": "stderr",
     "output_type": "stream",
     "text": [
      "/home/dencerr/anaconda3/lib/python3.7/site-packages/sklearn/linear_model/logistic.py:433: FutureWarning: Default solver will be changed to 'lbfgs' in 0.22. Specify a solver to silence this warning.\n",
      "  FutureWarning)\n",
      "/home/dencerr/anaconda3/lib/python3.7/site-packages/sklearn/linear_model/logistic.py:460: FutureWarning: Default multi_class will be changed to 'auto' in 0.22. Specify the multi_class option to silence this warning.\n",
      "  \"this warning.\", FutureWarning)\n"
     ]
    }
   ],
   "source": [
    "#тест mult_roc_auc\n",
    "clf_log = LogisticRegression(C=1).fit(X,Y)"
   ]
  },
  {
   "cell_type": "code",
   "execution_count": 30,
   "metadata": {},
   "outputs": [
    {
     "name": "stdout",
     "output_type": "stream",
     "text": [
      "CPU times: user 1.2 s, sys: 3.01 ms, total: 1.2 s\n",
      "Wall time: 1.2 s\n"
     ]
    },
    {
     "data": {
      "text/plain": [
       "0.5100515100515101"
      ]
     },
     "execution_count": 30,
     "metadata": {},
     "output_type": "execute_result"
    }
   ],
   "source": [
    "%%time\n",
    "b_auc(Y,clf_log.predict_proba(X)[:,1])"
   ]
  },
  {
   "cell_type": "code",
   "execution_count": 27,
   "metadata": {},
   "outputs": [
    {
     "name": "stdout",
     "output_type": "stream",
     "text": [
      "[[ 3.00000000e+00  4.10920223e-01]\n",
      " [ 3.00000000e+00  3.81357825e-01]\n",
      " [ 3.00000000e+00  3.61691178e-01]\n",
      " ...\n",
      " [-1.00000000e+00  1.10567990e-03]\n",
      " [-1.00000000e+00  8.88286602e-04]\n",
      " [-1.00000000e+00  7.10986883e-04]]\n",
      "0 333 333 666\n",
      "[[ 3.00000000e+00  4.10920223e-01]\n",
      " [ 3.00000000e+00  3.81357825e-01]\n",
      " [ 3.00000000e+00  3.61691178e-01]\n",
      " ...\n",
      " [-1.00000000e+00  1.10567990e-03]\n",
      " [-1.00000000e+00  8.88286602e-04]\n",
      " [-1.00000000e+00  7.10986883e-04]]\n",
      "0 333 666 1000\n",
      "[[ 3.00000000e+00  4.10920223e-01]\n",
      " [ 3.00000000e+00  3.81357825e-01]\n",
      " [ 3.00000000e+00  3.61691178e-01]\n",
      " ...\n",
      " [-1.00000000e+00  1.10567990e-03]\n",
      " [-1.00000000e+00  8.88286602e-04]\n",
      " [-1.00000000e+00  7.10986883e-04]]\n",
      "333 666 666 1000\n",
      "CPU times: user 7.49 ms, sys: 7.43 ms, total: 14.9 ms\n",
      "Wall time: 274 ms\n"
     ]
    },
    {
     "data": {
      "text/plain": [
       "0.5100515100515101"
      ]
     },
     "execution_count": 27,
     "metadata": {},
     "output_type": "execute_result"
    }
   ],
   "source": [
    "%%time\n",
    "multi_roc_auc(Y,clf_log.predict_proba(X)[:,1])"
   ]
  },
  {
   "cell_type": "code",
   "execution_count": 34,
   "metadata": {},
   "outputs": [
    {
     "data": {
      "text/plain": [
       "array([4.96517308e-02, 9.07698651e-02, 9.99436519e-01, 2.83971201e-03,\n",
       "       9.99800649e-01, 9.98534189e-01, 9.94347559e-01, 9.99701123e-01,\n",
       "       2.24576522e-01, 9.97656379e-01, 9.89905132e-01, 9.97647886e-01,\n",
       "       2.54199482e-02, 4.60741939e-03, 1.79164982e-02, 9.99733733e-01,\n",
       "       9.99411886e-01, 1.21576306e-01, 3.22517203e-02, 8.74474984e-02,\n",
       "       1.41323232e-01, 9.99030318e-01, 9.99786805e-01, 9.98933530e-01,\n",
       "       5.18765167e-02, 1.16507907e-01, 1.70782194e-01, 2.07788772e-01,\n",
       "       3.52371999e-02, 5.47490294e-02, 9.37259347e-01, 5.72748558e-03,\n",
       "       1.76044864e-02, 9.74589252e-02, 3.21431381e-02, 8.65856252e-02,\n",
       "       9.99182183e-01, 9.99918760e-01, 9.88727180e-01, 2.11937296e-02,\n",
       "       9.99038247e-01, 9.98211051e-01, 9.98637258e-01, 9.98947671e-01,\n",
       "       9.99644749e-01, 4.90563285e-02, 1.01781048e-01, 1.69745321e-02,\n",
       "       9.99568918e-01, 1.28198459e-02, 9.92815386e-01, 1.13120125e-03,\n",
       "       2.98728755e-02, 9.97110531e-01, 3.63596650e-03, 9.97328517e-01,\n",
       "       4.23419772e-01, 6.58117509e-02, 1.62511764e-01, 9.72259623e-03,\n",
       "       9.99017607e-01, 1.28773955e-01, 7.71258055e-02, 9.98342035e-01,\n",
       "       4.33318137e-02, 2.72557336e-02, 2.41075570e-02, 4.24834043e-03,\n",
       "       9.97786432e-01, 2.36600322e-02, 9.98966925e-01, 2.12213360e-01,\n",
       "       1.88756476e-02, 9.97135190e-01, 9.99885070e-01, 5.27636545e-02,\n",
       "       2.73494415e-02, 9.90723575e-01, 9.27296152e-02, 9.97626672e-01,\n",
       "       4.70886957e-02, 9.58202533e-02, 5.69945817e-02, 3.29425883e-01,\n",
       "       1.51913446e-01, 2.06907735e-02, 9.99674373e-01, 9.97690748e-04,\n",
       "       1.24374775e-02, 5.10901433e-02, 3.64118906e-02, 1.32449318e-01,\n",
       "       1.75919477e-02, 1.24333868e-01, 4.60328808e-02, 9.99553739e-01,\n",
       "       3.65912614e-03, 9.89777327e-01, 5.95194265e-04, 9.99643111e-01,\n",
       "       4.71148120e-03, 3.71279208e-02, 9.99852483e-01, 9.99862768e-01,\n",
       "       1.89263842e-02, 9.99850938e-01, 1.12874956e-01, 6.91771928e-02,\n",
       "       1.03062042e-02, 9.99732402e-01, 9.99856434e-01, 7.80919588e-03,\n",
       "       1.55516202e-03, 1.87209202e-01, 2.08439479e-02, 4.15820076e-02,\n",
       "       8.64535865e-03, 3.95965540e-02, 8.08994007e-03, 7.12331272e-02,\n",
       "       9.99573446e-01, 9.99332711e-01, 3.28051547e-02, 1.05961651e-02,\n",
       "       9.98961560e-01, 3.57651258e-02, 3.79527930e-02, 3.80511107e-02,\n",
       "       3.54799339e-01, 1.50988424e-01, 3.03784994e-02, 4.39598808e-03,\n",
       "       9.99392439e-01, 8.43238768e-02, 9.98162508e-01, 8.06737239e-02,\n",
       "       1.11670880e-01, 1.85104862e-01, 1.73461863e-02, 9.99798920e-01,\n",
       "       9.99007590e-01, 9.99672308e-01, 1.69231439e-02, 9.99777012e-01,\n",
       "       1.20580315e-01, 3.07072458e-02, 3.68674574e-02, 9.98439529e-01,\n",
       "       1.25969317e-02, 9.95665574e-01, 1.04965775e-02, 2.74558956e-01,\n",
       "       1.29474494e-01, 9.99208120e-01, 9.99114019e-01, 9.98856964e-01,\n",
       "       5.22574444e-02, 6.96860781e-03, 1.94109981e-02, 3.09189730e-03,\n",
       "       4.89497012e-02, 2.22191575e-02, 9.99066613e-01, 9.99831812e-01,\n",
       "       9.98262703e-01, 1.29384537e-01, 2.40347699e-02, 9.97255022e-01,\n",
       "       2.60649406e-03, 9.98500197e-01, 9.99129398e-01, 1.11139614e-02,\n",
       "       1.13668653e-02, 7.70093547e-02, 3.83055050e-03, 9.97436652e-01,\n",
       "       9.45538476e-02, 9.98800176e-01, 8.48180906e-02, 9.99576764e-01,\n",
       "       2.26919667e-02, 9.99925617e-01, 9.99828268e-01, 9.99785477e-01,\n",
       "       2.84153398e-02, 5.94003557e-02, 1.13062957e-01, 5.00734573e-03,\n",
       "       9.99574193e-01, 1.56669395e-01, 4.17132934e-02, 9.96085522e-01,\n",
       "       9.99448517e-01, 5.84598739e-02, 9.93819632e-01, 9.96569820e-04,\n",
       "       9.98733958e-01, 9.99575404e-01, 9.99282309e-01, 1.46007647e-01,\n",
       "       2.36719785e-02, 2.02338752e-02, 9.99356765e-01, 6.29632339e-03,\n",
       "       9.99848308e-01, 7.64135459e-02, 3.36206651e-01, 9.67171520e-03,\n",
       "       3.98614148e-02, 3.27994488e-02, 9.98008304e-01, 9.75196742e-02,\n",
       "       5.37164186e-02, 3.36568201e-02, 1.02984906e-02, 7.00372811e-02,\n",
       "       4.65380830e-01, 2.90012837e-02, 1.39036007e-02, 9.99004925e-01,\n",
       "       2.71954546e-02, 9.99849106e-01, 6.47056263e-02, 1.20744106e-02,\n",
       "       7.35239391e-02, 9.99586085e-01, 5.18566156e-03, 1.85601480e-02,\n",
       "       9.99904153e-01, 2.75823468e-01, 3.49530219e-01, 1.07399290e-01,\n",
       "       4.96074369e-02, 7.09968727e-03, 9.99951766e-01, 7.08560152e-02,\n",
       "       9.98752571e-01, 9.99609091e-01, 1.26021805e-01, 9.95127781e-02,\n",
       "       9.99164204e-01, 1.38843491e-02, 6.29783672e-02, 1.80780866e-02,\n",
       "       9.97557491e-01, 1.36838718e-02, 9.93560582e-01, 6.07944650e-03,\n",
       "       8.15777146e-02, 8.81637347e-02, 2.12511612e-03, 9.99970689e-01,\n",
       "       8.42666916e-02, 9.99141874e-01, 9.82633223e-02, 1.34808147e-02,\n",
       "       9.99435785e-01, 4.94119617e-03, 9.99379848e-01, 3.78956004e-03,\n",
       "       7.95210777e-03, 9.97639151e-01, 3.46922754e-02, 9.99391274e-01,\n",
       "       4.98478302e-02, 9.91818696e-01, 5.85956494e-03, 1.93169821e-02,\n",
       "       5.41792792e-02, 9.99457141e-01, 9.98893914e-01, 2.47789791e-01,\n",
       "       2.30082350e-01, 2.71849096e-02, 3.99727104e-02, 9.99667560e-01,\n",
       "       9.99281612e-01, 9.98862776e-01, 9.99647608e-01, 3.34587207e-01,\n",
       "       1.31922376e-02, 9.98931301e-01, 1.12326326e-02, 9.99900261e-01,\n",
       "       4.63568992e-02, 1.55670231e-02, 9.99699041e-01, 1.00898588e-01,\n",
       "       6.64615120e-02, 9.98656883e-01, 3.95730612e-02, 9.99779344e-01,\n",
       "       9.97411195e-01, 1.17548610e-02, 2.28470722e-01, 1.22679415e-01,\n",
       "       9.94284072e-01, 1.10567990e-03, 9.99720265e-01, 9.53378984e-02,\n",
       "       9.96952782e-01, 9.91000945e-01, 7.58845466e-02, 9.99572056e-01,\n",
       "       9.99080805e-01, 6.10647199e-02, 9.95231913e-01, 3.81357825e-01,\n",
       "       6.22828647e-03, 9.99497442e-01, 9.96704340e-01, 2.30994611e-02,\n",
       "       9.99372946e-01, 9.99268215e-01, 3.76114379e-03, 9.98922507e-01,\n",
       "       9.99780032e-01, 5.05524397e-03, 9.98518566e-01, 9.99961299e-01,\n",
       "       6.60835771e-02, 5.13115372e-02, 1.26088212e-02, 7.45702560e-04,\n",
       "       2.51529456e-01, 9.99770078e-01, 9.99729599e-01, 9.99750229e-01,\n",
       "       5.29187827e-02, 7.67034443e-02, 7.32991871e-02, 1.51596165e-02,\n",
       "       5.90247390e-02, 1.55842825e-02, 6.76946770e-02, 9.97810399e-01,\n",
       "       9.99723216e-01, 4.23783020e-03, 9.99051658e-01, 1.28379751e-01,\n",
       "       9.02146200e-02, 9.99436462e-01, 2.48490281e-03, 4.11809042e-02,\n",
       "       9.97151715e-01, 4.76509654e-02, 4.39355333e-02, 6.96921384e-02,\n",
       "       1.06108724e-01, 3.61481163e-03, 8.36435644e-02, 1.80297063e-01,\n",
       "       1.51370764e-01, 1.24125851e-02, 9.99814085e-01, 5.29315727e-02,\n",
       "       4.15816460e-03, 9.99381906e-01, 7.87319366e-02, 1.97967996e-03,\n",
       "       8.84582020e-02, 7.62530636e-02, 9.99261917e-01, 1.54919659e-02,\n",
       "       1.11019600e-01, 1.23819600e-01, 9.97593760e-01, 9.99791677e-01,\n",
       "       2.66207605e-02, 8.95524041e-03, 1.67023032e-02, 9.99627298e-01,\n",
       "       6.67570772e-03, 1.03008873e-01, 9.97951620e-01, 9.78360207e-02,\n",
       "       9.99740721e-01, 9.86400043e-02, 9.99782969e-01, 9.92439497e-01,\n",
       "       1.21744432e-01, 6.51611934e-03, 9.99946895e-01, 7.23462496e-02,\n",
       "       9.99321730e-01, 3.08304827e-02, 1.21759108e-01, 8.19461956e-03,\n",
       "       2.12544003e-03, 8.48166708e-02, 1.52935950e-02, 1.42281966e-01,\n",
       "       9.95753384e-01, 5.10620441e-02, 9.99398737e-01, 1.25290564e-01,\n",
       "       9.98972301e-01, 6.40203286e-03, 2.44218682e-02, 1.07412060e-01,\n",
       "       9.99742102e-01, 1.03651620e-01, 6.89181178e-03, 9.99468562e-01,\n",
       "       1.27439311e-02, 1.88757743e-02, 6.31967790e-02, 4.90341299e-03,\n",
       "       4.75924647e-02, 1.19905541e-01, 3.12703462e-03, 6.34587582e-02,\n",
       "       3.19660165e-03, 9.94093875e-01, 1.63535117e-02, 2.73527117e-02,\n",
       "       2.28185442e-01, 6.80355447e-03, 9.95816546e-01, 1.62426136e-02,\n",
       "       9.99257897e-01, 2.98784872e-02, 9.71257183e-01, 1.44327064e-01,\n",
       "       1.33365282e-01, 4.97073491e-02, 4.57933056e-02, 3.36999796e-03,\n",
       "       3.16378986e-02, 2.50741091e-01, 3.02232708e-03, 9.99762261e-01,\n",
       "       2.47712873e-01, 1.10976559e-01, 1.37719946e-02, 6.29813484e-03,\n",
       "       1.90798322e-02, 4.93629090e-02, 9.99037499e-01, 2.12900062e-02,\n",
       "       8.88847686e-02, 9.99800773e-01, 1.69954587e-02, 9.97774789e-01,\n",
       "       9.99395449e-01, 1.25855612e-01, 9.99962003e-01, 6.90146379e-02,\n",
       "       3.30784460e-02, 1.04380860e-02, 9.98590564e-01, 9.99426811e-01,\n",
       "       1.89446192e-02, 1.60315537e-01, 9.99385587e-01, 9.96644054e-01,\n",
       "       9.98825451e-01, 5.40164476e-02, 9.98072414e-01, 2.63548355e-02,\n",
       "       1.81251123e-02, 1.78150154e-01, 1.14875327e-01, 2.18165178e-01,\n",
       "       9.99097348e-01, 9.98855223e-01, 9.99805668e-01, 2.56221643e-02,\n",
       "       1.30569429e-01, 1.00099880e-01, 9.99176797e-01, 4.83437032e-02,\n",
       "       1.42586972e-02, 4.95471590e-02, 1.31843952e-03, 9.45270536e-02,\n",
       "       3.26215908e-02, 9.99724221e-01, 2.11349508e-01, 3.66683359e-03,\n",
       "       9.96664828e-01, 3.39653198e-01, 1.59321654e-02, 2.69952240e-01,\n",
       "       6.06175663e-02, 9.73708139e-01, 9.99708239e-01, 2.99788104e-03,\n",
       "       9.99673928e-01, 1.41829164e-02, 9.98389920e-01, 9.98720534e-01,\n",
       "       9.97876928e-01, 3.21192108e-01, 8.55116602e-02, 1.36694554e-01,\n",
       "       9.84412968e-02, 6.39589254e-03, 1.82256239e-02, 1.13397224e-02,\n",
       "       2.32693815e-02, 4.08817258e-02, 1.54107096e-01, 2.78454678e-01,\n",
       "       7.40293327e-03, 1.01415165e-01, 1.36029236e-01, 1.05494442e-02,\n",
       "       8.40027083e-02, 1.63256380e-02, 6.45765313e-02, 1.58483399e-03,\n",
       "       5.13130537e-02, 8.67355686e-02, 1.64391487e-01, 1.84602899e-01,\n",
       "       9.98037828e-01, 2.92269835e-02, 9.99317392e-01, 2.56738584e-02,\n",
       "       7.64209143e-03, 1.68622546e-01, 9.98405246e-01, 3.81110189e-01,\n",
       "       2.22474875e-03, 2.30860209e-01, 9.80809235e-01, 9.99483255e-01,\n",
       "       3.60724871e-02, 1.07816568e-02, 9.97375296e-01, 7.15255464e-03,\n",
       "       9.99136586e-01, 9.99772864e-01, 9.94217647e-01, 2.20058570e-02,\n",
       "       4.10514471e-02, 1.35653935e-02, 8.15104960e-02, 9.99728310e-01,\n",
       "       4.18248458e-03, 4.39464793e-02, 3.45395691e-02, 5.98444622e-02,\n",
       "       9.98788209e-01, 9.97666212e-01, 1.10785142e-01, 6.77911495e-02,\n",
       "       1.84913067e-02, 9.87023609e-01, 7.04342447e-02, 9.99964648e-01,\n",
       "       6.42251423e-03, 9.98485926e-01, 8.59303878e-03, 9.99850111e-01,\n",
       "       1.74137438e-01, 5.47407888e-02, 9.98442646e-01, 3.49839889e-02,\n",
       "       9.99000143e-01, 5.63163710e-02, 6.10387838e-02, 1.66747867e-02,\n",
       "       9.98296998e-01, 9.99512012e-01, 3.83744565e-01, 1.05686920e-01,\n",
       "       9.95506984e-01, 3.66369135e-02, 9.62653873e-02, 1.91170415e-02,\n",
       "       9.98795012e-01, 3.01861542e-01, 1.47336251e-02, 9.42601113e-02,\n",
       "       2.07328972e-02, 1.03809675e-02, 9.99568620e-01, 9.94189230e-01,\n",
       "       3.60371096e-02, 5.31037574e-02, 4.04553181e-03, 9.95427999e-01,\n",
       "       1.20518152e-02, 1.36548972e-01, 2.32976524e-02, 9.40906926e-02,\n",
       "       1.94663424e-02, 7.32479888e-02, 9.99071069e-01, 3.28472353e-01,\n",
       "       9.99673070e-01, 9.98381957e-01, 1.64832317e-02, 9.99594021e-01,\n",
       "       9.99731200e-01, 3.04739138e-02, 1.95002351e-02, 9.99268770e-01,\n",
       "       9.99824842e-01, 3.91408791e-02, 9.96809148e-01, 9.97426581e-01,\n",
       "       8.91682847e-02, 1.92633464e-01, 3.90977577e-02, 9.99874045e-01,\n",
       "       4.01783698e-02, 9.98920021e-01, 9.99432894e-01, 1.41892353e-02,\n",
       "       9.97641344e-01, 2.47488361e-02, 3.15290200e-02, 5.31793174e-02,\n",
       "       5.90312802e-03, 9.99878128e-01, 4.74574330e-02, 9.10419831e-02,\n",
       "       1.88756100e-02, 9.98213260e-01, 9.09870890e-02, 1.34050482e-01,\n",
       "       8.68063494e-02, 2.17159592e-02, 1.67492448e-01, 1.08803281e-02,\n",
       "       1.95410459e-02, 3.15304640e-03, 1.72736098e-03, 1.85812016e-02,\n",
       "       7.45115550e-02, 1.31931362e-02, 9.99793665e-01, 1.10099623e-01,\n",
       "       9.97996013e-01, 1.17885986e-02, 5.35848822e-03, 1.74515511e-01,\n",
       "       5.25084980e-02, 2.57497919e-02, 1.81336152e-02, 1.03269685e-02,\n",
       "       8.90887732e-02, 2.50865668e-02, 9.99081147e-01, 3.17051845e-02,\n",
       "       6.06865936e-03, 2.62351441e-02, 4.36333985e-02, 3.32292941e-01,\n",
       "       4.11184957e-02, 2.62779888e-03, 8.33737349e-03, 6.91007457e-03,\n",
       "       9.99925808e-01, 9.97363662e-01, 5.45358870e-02, 4.10920223e-01,\n",
       "       9.99867884e-01, 1.19129508e-01, 1.70689439e-01, 3.37154195e-02,\n",
       "       3.21604007e-02, 7.23223300e-03, 6.97667845e-03, 9.99101885e-01,\n",
       "       9.99700837e-01, 2.47531140e-02, 9.99457091e-01, 5.86888783e-02,\n",
       "       2.54218353e-03, 9.87512553e-01, 3.17270186e-02, 1.02446477e-02,\n",
       "       1.79457639e-02, 4.85167599e-02, 2.20845150e-01, 2.32945085e-01,\n",
       "       9.98424149e-01, 9.99877705e-01, 9.85979592e-01, 9.99468561e-01,\n",
       "       7.42159995e-02, 5.95575520e-02, 3.30424441e-02, 6.19362295e-02,\n",
       "       6.10831954e-02, 7.38985961e-02, 2.72491133e-01, 5.60765176e-03,\n",
       "       9.99486123e-01, 1.07294601e-01, 9.92438295e-01, 9.99920225e-01,\n",
       "       1.48944204e-02, 1.89092898e-02, 9.92734599e-01, 4.68969505e-03,\n",
       "       5.24644356e-02, 9.99111847e-01, 1.46419123e-01, 1.53920091e-02,\n",
       "       1.42684651e-03, 9.99736239e-01, 9.99650450e-01, 6.91096345e-03,\n",
       "       5.19386225e-02, 2.53583793e-02, 1.78196433e-02, 9.99892128e-01,\n",
       "       9.99431376e-01, 5.82509397e-02, 1.35093278e-01, 9.99485632e-01,\n",
       "       8.80500408e-03, 3.41078854e-02, 9.99219306e-01, 5.02803338e-03,\n",
       "       9.99718354e-01, 6.11255301e-03, 9.97923316e-01, 9.98574728e-01,\n",
       "       9.99906407e-01, 9.98989934e-01, 1.41984031e-02, 9.99881008e-01,\n",
       "       1.76082040e-02, 5.58287786e-02, 2.50717825e-02, 3.67791000e-02,\n",
       "       1.54180616e-01, 6.95378300e-02, 6.91499427e-01, 4.92246005e-02,\n",
       "       9.97668428e-01, 8.30366477e-02, 9.99623415e-01, 1.31737073e-02,\n",
       "       9.99886908e-01, 9.31413034e-02, 9.98686979e-01, 3.39642599e-02,\n",
       "       9.95184239e-01, 2.39540292e-02, 3.38608263e-02, 9.99350540e-01,\n",
       "       3.25567090e-03, 9.99528247e-01, 4.53375313e-02, 1.49171632e-01,\n",
       "       1.70422239e-02, 9.98961120e-01, 9.99898606e-01, 1.09601160e-01,\n",
       "       1.57397894e-02, 3.10925002e-03, 8.54971898e-02, 6.28102578e-02,\n",
       "       3.62919779e-02, 9.96847186e-01, 2.63187311e-01, 7.36776519e-02,\n",
       "       7.38072535e-03, 1.07201487e-02, 1.87258684e-02, 9.89166008e-01,\n",
       "       2.62932571e-02, 3.97041801e-02, 9.55348394e-01, 9.50930570e-01,\n",
       "       8.41267647e-03, 9.97391190e-01, 6.06252646e-02, 2.59886649e-02,\n",
       "       1.97029907e-02, 1.67697205e-01, 1.71496918e-02, 7.55558029e-02,\n",
       "       9.99570479e-01, 9.97041567e-03, 9.97828251e-01, 9.98364814e-01,\n",
       "       8.12536673e-02, 9.59158611e-03, 1.53060792e-03, 1.28882373e-02,\n",
       "       9.99585644e-01, 9.99794048e-01, 9.97429050e-01, 2.17879088e-02,\n",
       "       3.02345350e-01, 7.40393669e-02, 9.99609301e-01, 2.58985658e-02,\n",
       "       9.97986846e-01, 1.76192863e-01, 4.31547323e-02, 1.00066854e-01,\n",
       "       9.99549798e-01, 9.97341960e-01, 9.99673470e-01, 9.95313520e-01,\n",
       "       8.47467888e-03, 1.97634072e-02, 1.14055655e-02, 5.49370311e-02,\n",
       "       1.86782366e-02, 3.70322848e-03, 4.83220275e-02, 2.11799466e-02,\n",
       "       2.06858051e-02, 9.99864830e-01, 3.23588861e-02, 1.47498025e-02,\n",
       "       9.99886916e-01, 3.69698170e-02, 3.38503415e-01, 3.93267206e-02,\n",
       "       7.68790582e-02, 8.27752422e-03, 9.99144993e-01, 3.85140659e-02,\n",
       "       4.49232518e-02, 2.93062531e-02, 2.27322519e-03, 6.28448220e-02,\n",
       "       1.37626041e-02, 2.17029551e-01, 9.99322176e-01, 1.83201284e-01,\n",
       "       1.84325647e-03, 9.99569343e-01, 9.98268095e-01, 1.27621182e-01,\n",
       "       1.28043341e-02, 3.01505875e-02, 4.47547541e-02, 9.11135956e-02,\n",
       "       7.44172386e-03, 1.24440426e-02, 9.89008827e-01, 8.46562537e-02,\n",
       "       9.75286856e-02, 9.99809301e-01, 2.04768436e-03, 1.24204254e-02,\n",
       "       9.99979644e-01, 9.99338512e-01, 9.99766411e-01, 9.98885060e-01,\n",
       "       1.80822666e-02, 7.10986883e-04, 8.43281013e-02, 3.51663096e-02,\n",
       "       9.99799368e-01, 1.58475270e-02, 2.38407783e-01, 2.24099126e-02,\n",
       "       9.93678122e-01, 9.14604720e-03, 1.94534266e-01, 6.54079637e-03,\n",
       "       9.99772369e-01, 1.49171497e-02, 9.99788913e-01, 9.99683754e-01,\n",
       "       2.65649697e-02, 1.41291640e-02, 1.13066327e-01, 9.96994474e-01,\n",
       "       2.45070823e-03, 9.97476428e-01, 1.06684616e-01, 1.66663004e-02,\n",
       "       9.99593549e-01, 8.65533474e-03, 9.99680494e-01, 7.29727996e-03,\n",
       "       3.74324498e-02, 9.99201043e-01, 3.06998887e-02, 9.86980134e-01,\n",
       "       6.41390089e-02, 1.55238191e-02, 9.96395785e-01, 1.49565705e-01,\n",
       "       9.97538968e-01, 1.29134223e-02, 3.65563643e-02, 1.08550044e-02,\n",
       "       9.90844892e-01, 9.99816475e-01, 9.99966111e-01, 9.97887061e-01,\n",
       "       1.86314331e-01, 2.47435493e-01, 9.96539086e-01, 9.98394141e-01,\n",
       "       2.50027174e-01, 9.99570021e-01, 7.57572184e-03, 9.97452542e-01,\n",
       "       9.99446180e-01, 3.61691178e-01, 7.70118239e-02, 1.04259302e-02,\n",
       "       2.45789001e-02, 1.19789297e-01, 2.73052362e-02, 9.98705939e-01,\n",
       "       4.92782667e-02, 4.22863080e-03, 2.48242635e-02, 3.38154165e-03,\n",
       "       8.88286602e-04, 2.38752002e-02, 2.59041007e-02, 9.98506667e-01,\n",
       "       7.45631723e-03, 9.97357860e-01, 2.09415275e-02, 8.05619867e-03,\n",
       "       1.73137497e-02, 1.10908926e-02, 5.64517390e-02, 8.95568725e-02,\n",
       "       1.26716064e-02, 8.12555891e-03, 9.99758723e-01, 4.43173248e-03,\n",
       "       3.08320163e-02, 9.99694003e-01, 5.97114046e-02, 9.99731806e-01,\n",
       "       1.03568792e-01, 2.53036612e-02, 3.91119500e-02, 9.99947456e-01,\n",
       "       6.29565875e-03, 4.41337160e-02, 8.19035222e-03, 9.99608519e-01,\n",
       "       1.43723580e-01, 8.29573194e-02, 9.99809753e-01, 4.66103843e-02,\n",
       "       1.59167909e-02, 9.97100538e-01, 8.63280798e-03, 9.91436140e-01,\n",
       "       6.77420072e-03, 1.64884170e-03, 3.32715811e-01, 3.99435220e-02,\n",
       "       2.87886534e-02, 4.85176206e-02, 9.99490268e-01, 9.96127367e-01,\n",
       "       1.18681808e-02, 9.98896513e-01, 1.86276007e-01, 5.22919005e-02,\n",
       "       3.65003721e-02, 3.22123434e-02, 9.98265523e-01, 1.19079901e-03,\n",
       "       9.96335637e-01, 2.70140984e-02, 3.45385533e-02, 9.86320230e-01,\n",
       "       1.96862782e-02, 8.77691733e-02, 9.98090033e-01, 4.53836002e-03,\n",
       "       9.99204148e-01, 9.99722690e-01, 6.56662200e-03, 1.52917129e-02,\n",
       "       1.56437373e-01, 1.26295336e-01, 9.99282049e-01, 1.38945579e-01,\n",
       "       2.52285401e-02, 9.59584027e-01, 3.39820099e-01, 9.00995923e-02,\n",
       "       9.99547108e-01, 1.87898054e-03, 5.11034626e-03, 2.77857112e-01,\n",
       "       7.12966367e-02, 2.18045557e-03, 5.13528481e-03, 9.99141163e-01,\n",
       "       5.55805933e-03, 6.04431437e-03, 9.96461408e-01, 1.11802944e-01])"
      ]
     },
     "execution_count": 34,
     "metadata": {},
     "output_type": "execute_result"
    }
   ],
   "source": [
    "clf_log.predict_proba(X)[:,1]"
   ]
  },
  {
   "cell_type": "code",
   "execution_count": null,
   "metadata": {},
   "outputs": [],
   "source": []
  },
  {
   "cell_type": "code",
   "execution_count": null,
   "metadata": {},
   "outputs": [],
   "source": []
  },
  {
   "cell_type": "code",
   "execution_count": null,
   "metadata": {},
   "outputs": [],
   "source": []
  },
  {
   "cell_type": "code",
   "execution_count": 46,
   "metadata": {},
   "outputs": [],
   "source": [
    "import random\n",
    "def RandomPermutation():\n",
    "    perm = list(range(8))\n",
    "    random.shuffle(perm)\n",
    "    return perm\n",
    "\n",
    "def StupidPermutation():\n",
    "    partialSums = [0,1,8,35,111,285,628,1230,2191,3606,5546,\n",
    "        8039,11056,14056,18242,22078,25814,29264,32281,34774,36714,\n",
    "        38129,39090,39692,40035,40209,40285,40312,40319,40320]\n",
    "    r = random.randint(0, partialSums[-1])\n",
    "    numInv = 0\n",
    "    while partialSums[numInv] < r:\n",
    "        numInv += 1\n",
    "    perm = list(range(8))\n",
    "    for step in range(numInv):\n",
    "        t1 = random.randint(0, 7)\n",
    "        t2 = random.randint(0, 7)\n",
    "        perm[t1], perm[t2] = perm[t2], perm[t1]\n",
    "    return perm"
   ]
  },
  {
   "cell_type": "code",
   "execution_count": 47,
   "metadata": {},
   "outputs": [],
   "source": [
    "def gen_perm(func = RandomPermutation, n = 2000000):\n",
    "    d = dict()\n",
    "    for i in range(n):\n",
    "        try:\n",
    "            a = func()\n",
    "            d[''.join([str(i) for i in a])] += 1\n",
    "        except KeyError:\n",
    "            d[''.join([str(i) for i in a])] = 1\n",
    "    return np.array(list(d.values()))\n"
   ]
  },
  {
   "cell_type": "code",
   "execution_count": 105,
   "metadata": {},
   "outputs": [
    {
     "data": {
      "text/plain": [
       "<matplotlib.collections.PathCollection at 0x7fb118579fd0>"
      ]
     },
     "execution_count": 105,
     "metadata": {},
     "output_type": "execute_result"
    },
    {
     "data": {
      "image/png": "[encoded data removed]",
      "text/plain": [
       "<Figure size 432x288 with 1 Axes>"
      ]
     },
     "metadata": {
      "needs_background": "light"
     },
     "output_type": "display_data"
    }
   ],
   "source": [
    "new_d = gen_perm(StupidPermutation)\n",
    "count_dict = dict()\n",
    "for i in np.unique(new_d):\n",
    "    count_dict[i] = np.sum(new_d == i)\n",
    "plt.scatter(count_dict.keys(), count_dict.values())"
   ]
  },
  {
   "cell_type": "code",
   "execution_count": 106,
   "metadata": {},
   "outputs": [
    {
     "data": {
      "text/plain": [
       "<matplotlib.collections.PathCollection at 0x7fb113db0e10>"
      ]
     },
     "execution_count": 106,
     "metadata": {},
     "output_type": "execute_result"
    },
    {
     "data": {
      "image/png": "[encoded data removed]",
      "text/plain": [
       "<Figure size 432x288 with 1 Axes>"
      ]
     },
     "metadata": {
      "needs_background": "light"
     },
     "output_type": "display_data"
    }
   ],
   "source": [
    "new_d = gen_perm(RandomPermutation)\n",
    "count_dict = dict()\n",
    "for i in np.unique(new_d):\n",
    "    count_dict[i] = np.sum(new_d == i)\n",
    "plt.scatter(count_dict.keys(), count_dict.values())"
   ]
  },
  {
   "cell_type": "code",
   "execution_count": 48,
   "metadata": {},
   "outputs": [],
   "source": [
    "def get_count():\n",
    "    with open('permutations.in','r') as f:\n",
    "        f.readline()\n",
    "        d = dict()\n",
    "        for _ in range(1000):\n",
    "            str_ = f.readline().replace(' ','')\n",
    "            try:\n",
    "                d[str_] += 1\n",
    "            except KeyError:\n",
    "                d[str_] = 1\n",
    "        new_d = np.array(list(d.values()))\n",
    "        count_dict = dict()\n",
    "        for i in np.unique(new_d):\n",
    "            count_dict[i] = np.sum(new_d == i)\n",
    "        return count_dict"
   ]
  },
  {
   "cell_type": "code",
   "execution_count": 49,
   "metadata": {},
   "outputs": [],
   "source": [
    "def gen_perm_clf(func = RandomPermutation, n = 2000000):\n",
    "    d = dict()\n",
    "    for i in range(n):\n",
    "        try:\n",
    "            a = func()\n",
    "            d[''.join([str(i) for i in a])] += 1\n",
    "        except KeyError:\n",
    "            d[''.join([str(i) for i in a])] = 1\n",
    "    return d"
   ]
  },
  {
   "cell_type": "code",
   "execution_count": 50,
   "metadata": {},
   "outputs": [],
   "source": [
    "class naiv_clf:\n",
    "    def __init__(self):\n",
    "        self.freq_1 = None\n",
    "        self.freq_2 = None\n",
    "    \n",
    "    def fit(self, freq_1, freq_2):\n",
    "        '''freq_1 - для равном генер'''\n",
    "        self.freq_1 = freq_1\n",
    "        self.freq_2 = freq_2\n",
    "    \n",
    "    def predict(self, X):\n",
    "        pred_1 = 0\n",
    "        pred_2 = 0\n",
    "        for key in np.unique(X):\n",
    "            pred_1 += np.log(self.freq_1[key])\n",
    "            pred_2 += np.log(self.freq_2[key])\n",
    "        return pred_1, pred_2"
   ]
  },
  {
   "cell_type": "code",
   "execution_count": 51,
   "metadata": {},
   "outputs": [],
   "source": [
    "clf = naiv_clf()\n",
    "clf.fit(gen_perm_clf(),gen_perm_clf(StupidPermutation))"
   ]
  },
  {
   "cell_type": "code",
   "execution_count": 53,
   "metadata": {},
   "outputs": [
    {
     "name": "stdout",
     "output_type": "stream",
     "text": [
      "3855.4205538681317 3881.467154331783\n"
     ]
    }
   ],
   "source": [
    "pred_1, pred_2 = clf.predict(list(gen_perm_clf(n=1000,func = StupidPermutation).keys()))\n",
    "print(pred_1,pred_2,sep=' ')"
   ]
  },
  {
   "cell_type": "code",
   "execution_count": 74,
   "metadata": {},
   "outputs": [
    {
     "name": "stdout",
     "output_type": "stream",
     "text": [
      "[0 1 0 0 0 1 0 1 1 1 0 1 1 1 0 0 0 0 0 0 1 1 1 1 1 0 0 1 1 0 1 0 0 0 0 1 1\n",
      " 0 1 0 1 0 0 0 0 1 1 0 0 1 0 0 1 0 1 0 1 0 1 1 0 1 0 0 0 1 0 0 1 1 0 0 1 1\n",
      " 0 1 1 1 1 0 1 0 0 1 1 1 1 1 0 1 0 0 0 1 1 1 0 1 1 1 1 1 1 1 0 1 0 1 1 1 0\n",
      " 0 1 0 0 0 1 0 0 0 0 1 1 1 1 0 0 1 1 1 1 0 0 1 0 1 0 0 1 0 0 0 1 1 0 0 1 0\n",
      " 1 1 0 1 0 1 1 1 1 0 0 1 1 0 0 1 0 1 1 0 0 1 0 1 0 0 0 1 0 1 1 0 1 1 1 0 0\n",
      " 1 0 0 1 0 0 1 0 0 1 1 1 0 1 0]\n"
     ]
    }
   ],
   "source": [
    "with open('permutations.in','r') as f:\n",
    "    n = f.readline()\n",
    "    res = []\n",
    "    d = dict()\n",
    "    for i in range(int(n)):\n",
    "        for j in range(1000):\n",
    "            s = f.readline().replace(' ', '')[:-1]\n",
    "            d[s] = 0\n",
    "        pred_1, pred_2 = clf.predict(list(d.keys()))\n",
    "        res.append(0 if pred_1 > pred_2 else 1)\n",
    "        d = dict()\n",
    "res = np.array(res)\n",
    "print(res)\n",
    "res = np.argsort(res)"
   ]
  },
  {
   "cell_type": "code",
   "execution_count": 77,
   "metadata": {},
   "outputs": [],
   "source": [
    "def write_ans(res):\n",
    "    with open('answer_perm.txt', 'w') as f:\n",
    "        for i in res:\n",
    "            f.write(str(i)+'\\n')"
   ]
  },
  {
   "cell_type": "code",
   "execution_count": 78,
   "metadata": {},
   "outputs": [],
   "source": [
    "write_ans(res)"
   ]
  },
  {
   "cell_type": "code",
   "execution_count": 103,
   "metadata": {},
   "outputs": [
    {
     "data": {
      "text/html": [
       "<div>\n",
       "<style scoped>\n",
       "    .dataframe tbody tr th:only-of-type {\n",
       "        vertical-align: middle;\n",
       "    }\n",
       "\n",
       "    .dataframe tbody tr th {\n",
       "        vertical-align: top;\n",
       "    }\n",
       "\n",
       "    .dataframe thead th {\n",
       "        text-align: right;\n",
       "    }\n",
       "</style>\n",
       "<table border=\"1\" class=\"dataframe\">\n",
       "  <thead>\n",
       "    <tr style=\"text-align: right;\">\n",
       "      <th></th>\n",
       "      <th>0</th>\n",
       "      <th>1</th>\n",
       "      <th>2</th>\n",
       "      <th>3</th>\n",
       "      <th>4</th>\n",
       "    </tr>\n",
       "  </thead>\n",
       "  <tbody>\n",
       "    <tr>\n",
       "      <th>0</th>\n",
       "      <td>0.5</td>\n",
       "      <td>8.154642</td>\n",
       "      <td>-1.000000</td>\n",
       "      <td>0.000552</td>\n",
       "      <td>0.000483</td>\n",
       "    </tr>\n",
       "    <tr>\n",
       "      <th>1</th>\n",
       "      <td>1.0</td>\n",
       "      <td>-1.000000</td>\n",
       "      <td>9.105132</td>\n",
       "      <td>0.075709</td>\n",
       "      <td>0.024765</td>\n",
       "    </tr>\n",
       "    <tr>\n",
       "      <th>2</th>\n",
       "      <td>0.0</td>\n",
       "      <td>7.349630</td>\n",
       "      <td>-1.000000</td>\n",
       "      <td>0.045557</td>\n",
       "      <td>0.006901</td>\n",
       "    </tr>\n",
       "    <tr>\n",
       "      <th>3</th>\n",
       "      <td>0.0</td>\n",
       "      <td>7.077312</td>\n",
       "      <td>-1.000000</td>\n",
       "      <td>0.000369</td>\n",
       "      <td>0.004083</td>\n",
       "    </tr>\n",
       "    <tr>\n",
       "      <th>4</th>\n",
       "      <td>1.0</td>\n",
       "      <td>-1.000000</td>\n",
       "      <td>-1.000000</td>\n",
       "      <td>0.002481</td>\n",
       "      <td>0.002171</td>\n",
       "    </tr>\n",
       "  </tbody>\n",
       "</table>\n",
       "</div>"
      ],
      "text/plain": [
       "     0         1         2         3         4\n",
       "0  0.5  8.154642 -1.000000  0.000552  0.000483\n",
       "1  1.0 -1.000000  9.105132  0.075709  0.024765\n",
       "2  0.0  7.349630 -1.000000  0.045557  0.006901\n",
       "3  0.0  7.077312 -1.000000  0.000369  0.004083\n",
       "4  1.0 -1.000000 -1.000000  0.002481  0.002171"
      ]
     },
     "execution_count": 103,
     "metadata": {},
     "output_type": "execute_result"
    }
   ],
   "source": [
    "df = pd.read_csv('restaurants_train.txt/restaurants_train.txt',sep='\\t',header=None)\n",
    "df.head()"
   ]
  },
  {
   "cell_type": "code",
   "execution_count": 16,
   "metadata": {},
   "outputs": [],
   "source": [
    "df_0 = df[df[0]==0][[1,3]]\n",
    "df_1 = df[df[0]==1][[2,4]]"
   ]
  },
  {
   "cell_type": "code",
   "execution_count": 26,
   "metadata": {},
   "outputs": [
    {
     "data": {
      "image/png": "[encoded data removed]",
      "text/plain": [
       "<Figure size 432x288 with 1 Axes>"
      ]
     },
     "metadata": {
      "needs_background": "light"
     },
     "output_type": "display_data"
    }
   ],
   "source": [
    "plt.scatter(df_0[1],df_0[3],c='blue',s=10)\n",
    "plt.scatter(df_1[2],df_1[4],c='red', s=10)\n",
    "plt.xlabel = 'rating'\n",
    "plt.ylabel = 'distance'\n",
    "plt.show()"
   ]
  },
  {
   "cell_type": "code",
   "execution_count": 29,
   "metadata": {},
   "outputs": [],
   "source": [
    "tsne = TSNE()\n",
    "tsne_representation = tsne.fit_transform(df[[1,2,3,4]])"
   ]
  },
  {
   "cell_type": "code",
   "execution_count": 30,
   "metadata": {},
   "outputs": [
    {
     "data": {
      "text/plain": [
       "<matplotlib.legend.Legend at 0x7f5b0b3f6748>"
      ]
     },
     "execution_count": 30,
     "metadata": {},
     "output_type": "execute_result"
    },
    {
     "data": {
      "image/png": "[encoded data removed]",
      "text/plain": [
       "<Figure size 432x288 with 1 Axes>"
      ]
     },
     "metadata": {
      "needs_background": "light"
     },
     "output_type": "display_data"
    }
   ],
   "source": [
    "colors = ['red', 'blue', 'black']\n",
    "for y, c in zip(set(df[0]), colors):\n",
    "    plt.scatter(tsne_representation[df[0]==y, 0], \n",
    "                tsne_representation[df[0]==y, 1], c=c, alpha=0.5, label=str(y))\n",
    "plt.legend()"
   ]
  },
  {
   "cell_type": "code",
   "execution_count": 112,
   "metadata": {},
   "outputs": [],
   "source": [
    "new_df = pd.DataFrame()\n",
    "new_df[0] = df[0]\n",
    "new_df[1] = df[1]/df[2]\n",
    "new_df[2] = df[3]-df[4]\n",
    "\n",
    "df_0 = new_df[new_df[0]==0][[1,2]]\n",
    "df_1 = new_df[new_df[0]==1][[1,2]]"
   ]
  },
  {
   "cell_type": "code",
   "execution_count": 113,
   "metadata": {},
   "outputs": [
    {
     "data": {
      "image/png": "[encoded data removed]",
      "text/plain": [
       "<Figure size 432x288 with 1 Axes>"
      ]
     },
     "metadata": {
      "needs_background": "light"
     },
     "output_type": "display_data"
    }
   ],
   "source": [
    "plt.scatter(df_0[1],df_0[2],c='blue',s=10)\n",
    "plt.scatter(df_1[1],df_1[2],c='red', s=10)\n",
    "plt.xlabel = 'rating'\n",
    "plt.ylabel = 'distance'\n",
    "plt.show()"
   ]
  },
  {
   "cell_type": "code",
   "execution_count": 104,
   "metadata": {},
   "outputs": [],
   "source": [
    "d1 = df[df[1]!=-1]\n",
    "d2 = df[df[2]!=-1]\n",
    "df = d1.merge(d2)\n",
    "d1 = df[df[3]!=1]\n",
    "d2 = df[df[4]!=1]\n",
    "df = d1.merge(d2)"
   ]
  },
  {
   "cell_type": "code",
   "execution_count": 24,
   "metadata": {},
   "outputs": [
    {
     "ename": "KeyboardInterrupt",
     "evalue": "",
     "output_type": "error",
     "traceback": [
      "\u001b[0;31m---------------------------------------------------------------------------\u001b[0m",
      "\u001b[0;31mKeyboardInterrupt\u001b[0m                         Traceback (most recent call last)",
      "\u001b[0;32m~/anaconda3/lib/python3.7/site-packages/ipykernel/kernelbase.py\u001b[0m in \u001b[0;36m_input_request\u001b[0;34m(self, prompt, ident, parent, password)\u001b[0m\n\u001b[1;32m    877\u001b[0m             \u001b[0;32mtry\u001b[0m\u001b[0;34m:\u001b[0m\u001b[0;34m\u001b[0m\u001b[0;34m\u001b[0m\u001b[0m\n\u001b[0;32m--> 878\u001b[0;31m                 \u001b[0mident\u001b[0m\u001b[0;34m,\u001b[0m \u001b[0mreply\u001b[0m \u001b[0;34m=\u001b[0m \u001b[0mself\u001b[0m\u001b[0;34m.\u001b[0m\u001b[0msession\u001b[0m\u001b[0;34m.\u001b[0m\u001b[0mrecv\u001b[0m\u001b[0;34m(\u001b[0m\u001b[0mself\u001b[0m\u001b[0;34m.\u001b[0m\u001b[0mstdin_socket\u001b[0m\u001b[0;34m,\u001b[0m \u001b[0;36m0\u001b[0m\u001b[0;34m)\u001b[0m\u001b[0;34m\u001b[0m\u001b[0;34m\u001b[0m\u001b[0m\n\u001b[0m\u001b[1;32m    879\u001b[0m             \u001b[0;32mexcept\u001b[0m \u001b[0mException\u001b[0m\u001b[0;34m:\u001b[0m\u001b[0;34m\u001b[0m\u001b[0;34m\u001b[0m\u001b[0m\n",
      "\u001b[0;32m~/anaconda3/lib/python3.7/site-packages/jupyter_client/session.py\u001b[0m in \u001b[0;36mrecv\u001b[0;34m(self, socket, mode, content, copy)\u001b[0m\n\u001b[1;32m    802\u001b[0m         \u001b[0;32mtry\u001b[0m\u001b[0;34m:\u001b[0m\u001b[0;34m\u001b[0m\u001b[0;34m\u001b[0m\u001b[0m\n\u001b[0;32m--> 803\u001b[0;31m             \u001b[0mmsg_list\u001b[0m \u001b[0;34m=\u001b[0m \u001b[0msocket\u001b[0m\u001b[0;34m.\u001b[0m\u001b[0mrecv_multipart\u001b[0m\u001b[0;34m(\u001b[0m\u001b[0mmode\u001b[0m\u001b[0;34m,\u001b[0m \u001b[0mcopy\u001b[0m\u001b[0;34m=\u001b[0m\u001b[0mcopy\u001b[0m\u001b[0;34m)\u001b[0m\u001b[0;34m\u001b[0m\u001b[0;34m\u001b[0m\u001b[0m\n\u001b[0m\u001b[1;32m    804\u001b[0m         \u001b[0;32mexcept\u001b[0m \u001b[0mzmq\u001b[0m\u001b[0;34m.\u001b[0m\u001b[0mZMQError\u001b[0m \u001b[0;32mas\u001b[0m \u001b[0me\u001b[0m\u001b[0;34m:\u001b[0m\u001b[0;34m\u001b[0m\u001b[0;34m\u001b[0m\u001b[0m\n",
      "\u001b[0;32m~/anaconda3/lib/python3.7/site-packages/zmq/sugar/socket.py\u001b[0m in \u001b[0;36mrecv_multipart\u001b[0;34m(self, flags, copy, track)\u001b[0m\n\u001b[1;32m    466\u001b[0m         \"\"\"\n\u001b[0;32m--> 467\u001b[0;31m         \u001b[0mparts\u001b[0m \u001b[0;34m=\u001b[0m \u001b[0;34m[\u001b[0m\u001b[0mself\u001b[0m\u001b[0;34m.\u001b[0m\u001b[0mrecv\u001b[0m\u001b[0;34m(\u001b[0m\u001b[0mflags\u001b[0m\u001b[0;34m,\u001b[0m \u001b[0mcopy\u001b[0m\u001b[0;34m=\u001b[0m\u001b[0mcopy\u001b[0m\u001b[0;34m,\u001b[0m \u001b[0mtrack\u001b[0m\u001b[0;34m=\u001b[0m\u001b[0mtrack\u001b[0m\u001b[0;34m)\u001b[0m\u001b[0;34m]\u001b[0m\u001b[0;34m\u001b[0m\u001b[0;34m\u001b[0m\u001b[0m\n\u001b[0m\u001b[1;32m    468\u001b[0m         \u001b[0;31m# have first part already, only loop while more to receive\u001b[0m\u001b[0;34m\u001b[0m\u001b[0;34m\u001b[0m\u001b[0;34m\u001b[0m\u001b[0m\n",
      "\u001b[0;32mzmq/backend/cython/socket.pyx\u001b[0m in \u001b[0;36mzmq.backend.cython.socket.Socket.recv\u001b[0;34m()\u001b[0m\n",
      "\u001b[0;32mzmq/backend/cython/socket.pyx\u001b[0m in \u001b[0;36mzmq.backend.cython.socket.Socket.recv\u001b[0;34m()\u001b[0m\n",
      "\u001b[0;32mzmq/backend/cython/socket.pyx\u001b[0m in \u001b[0;36mzmq.backend.cython.socket._recv_copy\u001b[0;34m()\u001b[0m\n",
      "\u001b[0;32m~/anaconda3/lib/python3.7/site-packages/zmq/backend/cython/checkrc.pxd\u001b[0m in \u001b[0;36mzmq.backend.cython.checkrc._check_rc\u001b[0;34m()\u001b[0m\n",
      "\u001b[0;31mKeyboardInterrupt\u001b[0m: ",
      "\nDuring handling of the above exception, another exception occurred:\n",
      "\u001b[0;31mKeyboardInterrupt\u001b[0m                         Traceback (most recent call last)",
      "\u001b[0;32m<ipython-input-24-36e429e739fa>\u001b[0m in \u001b[0;36m<module>\u001b[0;34m\u001b[0m\n\u001b[0;32m----> 1\u001b[0;31m \u001b[0ms\u001b[0m \u001b[0;34m=\u001b[0m \u001b[0minput\u001b[0m\u001b[0;34m(\u001b[0m\u001b[0;34m)\u001b[0m\u001b[0;34m.\u001b[0m\u001b[0msplit\u001b[0m\u001b[0;34m(\u001b[0m\u001b[0;34m)\u001b[0m\u001b[0;34m\u001b[0m\u001b[0;34m\u001b[0m\u001b[0m\n\u001b[0m\u001b[1;32m      2\u001b[0m \u001b[0mn\u001b[0m \u001b[0;34m=\u001b[0m \u001b[0mint\u001b[0m\u001b[0;34m(\u001b[0m\u001b[0ms\u001b[0m\u001b[0;34m[\u001b[0m\u001b[0;36m0\u001b[0m\u001b[0;34m]\u001b[0m\u001b[0;34m)\u001b[0m\u001b[0;34m;\u001b[0m \u001b[0mm\u001b[0m \u001b[0;34m=\u001b[0m \u001b[0mint\u001b[0m\u001b[0;34m(\u001b[0m\u001b[0ms\u001b[0m\u001b[0;34m[\u001b[0m\u001b[0;36m1\u001b[0m\u001b[0;34m]\u001b[0m\u001b[0;34m)\u001b[0m\u001b[0;34m\u001b[0m\u001b[0;34m\u001b[0m\u001b[0m\n\u001b[1;32m      3\u001b[0m \u001b[0mX\u001b[0m \u001b[0;34m=\u001b[0m \u001b[0mnp\u001b[0m\u001b[0;34m.\u001b[0m\u001b[0mzeros\u001b[0m\u001b[0;34m(\u001b[0m\u001b[0;34m(\u001b[0m\u001b[0mn\u001b[0m\u001b[0;34m,\u001b[0m\u001b[0mm\u001b[0m\u001b[0;34m)\u001b[0m\u001b[0;34m)\u001b[0m\u001b[0;34m\u001b[0m\u001b[0;34m\u001b[0m\u001b[0m\n\u001b[1;32m      4\u001b[0m \u001b[0my\u001b[0m \u001b[0;34m=\u001b[0m \u001b[0mnp\u001b[0m\u001b[0;34m.\u001b[0m\u001b[0marray\u001b[0m\u001b[0;34m(\u001b[0m\u001b[0;34m[\u001b[0m\u001b[0;36m0\u001b[0m\u001b[0;34m]\u001b[0m\u001b[0;34m*\u001b[0m\u001b[0mn\u001b[0m\u001b[0;34m)\u001b[0m\u001b[0;34m\u001b[0m\u001b[0;34m\u001b[0m\u001b[0m\n\u001b[1;32m      5\u001b[0m \u001b[0;32mfor\u001b[0m \u001b[0mi\u001b[0m \u001b[0;32min\u001b[0m \u001b[0mrange\u001b[0m\u001b[0;34m(\u001b[0m\u001b[0mn\u001b[0m\u001b[0;34m)\u001b[0m\u001b[0;34m:\u001b[0m\u001b[0;34m\u001b[0m\u001b[0;34m\u001b[0m\u001b[0m\n",
      "\u001b[0;32m~/anaconda3/lib/python3.7/site-packages/ipykernel/kernelbase.py\u001b[0m in \u001b[0;36mraw_input\u001b[0;34m(self, prompt)\u001b[0m\n\u001b[1;32m    851\u001b[0m             \u001b[0mself\u001b[0m\u001b[0;34m.\u001b[0m\u001b[0m_parent_ident\u001b[0m\u001b[0;34m,\u001b[0m\u001b[0;34m\u001b[0m\u001b[0;34m\u001b[0m\u001b[0m\n\u001b[1;32m    852\u001b[0m             \u001b[0mself\u001b[0m\u001b[0;34m.\u001b[0m\u001b[0m_parent_header\u001b[0m\u001b[0;34m,\u001b[0m\u001b[0;34m\u001b[0m\u001b[0;34m\u001b[0m\u001b[0m\n\u001b[0;32m--> 853\u001b[0;31m             \u001b[0mpassword\u001b[0m\u001b[0;34m=\u001b[0m\u001b[0;32mFalse\u001b[0m\u001b[0;34m,\u001b[0m\u001b[0;34m\u001b[0m\u001b[0;34m\u001b[0m\u001b[0m\n\u001b[0m\u001b[1;32m    854\u001b[0m         )\n\u001b[1;32m    855\u001b[0m \u001b[0;34m\u001b[0m\u001b[0m\n",
      "\u001b[0;32m~/anaconda3/lib/python3.7/site-packages/ipykernel/kernelbase.py\u001b[0m in \u001b[0;36m_input_request\u001b[0;34m(self, prompt, ident, parent, password)\u001b[0m\n\u001b[1;32m    881\u001b[0m             \u001b[0;32mexcept\u001b[0m \u001b[0mKeyboardInterrupt\u001b[0m\u001b[0;34m:\u001b[0m\u001b[0;34m\u001b[0m\u001b[0;34m\u001b[0m\u001b[0m\n\u001b[1;32m    882\u001b[0m                 \u001b[0;31m# re-raise KeyboardInterrupt, to truncate traceback\u001b[0m\u001b[0;34m\u001b[0m\u001b[0;34m\u001b[0m\u001b[0;34m\u001b[0m\u001b[0m\n\u001b[0;32m--> 883\u001b[0;31m                 \u001b[0;32mraise\u001b[0m \u001b[0mKeyboardInterrupt\u001b[0m\u001b[0;34m\u001b[0m\u001b[0;34m\u001b[0m\u001b[0m\n\u001b[0m\u001b[1;32m    884\u001b[0m             \u001b[0;32melse\u001b[0m\u001b[0;34m:\u001b[0m\u001b[0;34m\u001b[0m\u001b[0;34m\u001b[0m\u001b[0m\n\u001b[1;32m    885\u001b[0m                 \u001b[0;32mbreak\u001b[0m\u001b[0;34m\u001b[0m\u001b[0;34m\u001b[0m\u001b[0m\n",
      "\u001b[0;31mKeyboardInterrupt\u001b[0m: "
     ]
    }
   ],
   "source": [
    "s = input().split()\n",
    "n = int(s[0]); m = int(s[1])\n",
    "X = np.zeros((n,m))\n",
    "y = np.array([0]*n)\n",
    "for i in range(n):\n",
    "    s = input().split()\n",
    "    y[i] = s[-1]\n",
    "    X[i,:] = s[:-1]\n",
    "w = perc_roz(X, y, eta = 1)\n",
    "print(' '.join(w.astype(str)))"
   ]
  },
  {
   "cell_type": "code",
   "execution_count": 20,
   "metadata": {},
   "outputs": [
    {
     "name": "stdout",
     "output_type": "stream",
     "text": [
      "1 2 3\n"
     ]
    }
   ],
   "source": [
    "w = np.array([1,2,3])\n",
    "print(' '.join(w.astype(str)))"
   ]
  },
  {
   "cell_type": "code",
   "execution_count": 156,
   "metadata": {},
   "outputs": [],
   "source": [
    "def process_input():\n",
    "    s = input()\n",
    "    N = int(s)\n",
    "    y, t = np.array([0.]*N), np.array([0.]*N)\n",
    "    for i in range(N):\n",
    "        s = input().split()\n",
    "        t[i], y[i] = int(s[0]), float(s[1])\n",
    "    return t, y"
   ]
  },
  {
   "cell_type": "code",
   "execution_count": 157,
   "metadata": {},
   "outputs": [
    {
     "name": "stdout",
     "output_type": "stream",
     "text": [
      "2\n",
      "0 0\n",
      "1 1\n"
     ]
    },
    {
     "ename": "TypeError",
     "evalue": "slice indices must be integers or None or have an __index__ method",
     "output_type": "error",
     "traceback": [
      "\u001b[0;31m---------------------------------------------------------------------------\u001b[0m",
      "\u001b[0;31mTypeError\u001b[0m                                 Traceback (most recent call last)",
      "\u001b[0;32m<ipython-input-157-1c7bc3fc8df8>\u001b[0m in \u001b[0;36m<module>\u001b[0;34m\u001b[0m\n\u001b[1;32m      1\u001b[0m \u001b[0mt\u001b[0m\u001b[0;34m,\u001b[0m \u001b[0my\u001b[0m \u001b[0;34m=\u001b[0m \u001b[0mprocess_input\u001b[0m\u001b[0;34m(\u001b[0m\u001b[0;34m)\u001b[0m\u001b[0;34m\u001b[0m\u001b[0;34m\u001b[0m\u001b[0m\n\u001b[0;32m----> 2\u001b[0;31m \u001b[0mprint\u001b[0m\u001b[0;34m(\u001b[0m\u001b[0mmulti_roc_auc\u001b[0m\u001b[0;34m(\u001b[0m\u001b[0mt\u001b[0m\u001b[0;34m,\u001b[0m\u001b[0my\u001b[0m\u001b[0;34m)\u001b[0m\u001b[0;34m)\u001b[0m\u001b[0;34m\u001b[0m\u001b[0;34m\u001b[0m\u001b[0m\n\u001b[0m",
      "\u001b[0;32m<ipython-input-146-51f6957052f0>\u001b[0m in \u001b[0;36mmulti_roc_auc\u001b[0;34m(t, y)\u001b[0m\n\u001b[1;32m     25\u001b[0m             \u001b[0mb_4\u001b[0m \u001b[0;34m=\u001b[0m \u001b[0mnp\u001b[0m\u001b[0;34m.\u001b[0m\u001b[0msum\u001b[0m\u001b[0;34m(\u001b[0m\u001b[0mclasses\u001b[0m\u001b[0;34m[\u001b[0m\u001b[0;34m:\u001b[0m\u001b[0mj\u001b[0m\u001b[0;34m,\u001b[0m\u001b[0;36m1\u001b[0m\u001b[0;34m]\u001b[0m\u001b[0;34m)\u001b[0m \u001b[0;34m+\u001b[0m \u001b[0mclasses\u001b[0m\u001b[0;34m[\u001b[0m\u001b[0mj\u001b[0m\u001b[0;34m,\u001b[0m\u001b[0;36m1\u001b[0m\u001b[0;34m]\u001b[0m\u001b[0;34m\u001b[0m\u001b[0;34m\u001b[0m\u001b[0m\n\u001b[1;32m     26\u001b[0m \u001b[0;34m\u001b[0m\u001b[0m\n\u001b[0;32m---> 27\u001b[0;31m             auc += binary_roc_auc(np.hstack((tup_arr[b_1:b_2,0], tup_arr[b_3:b_4,0])), np.hstack((tup_arr[b_1:b_2,1], tup_arr[b_3:b_4,1])),\n\u001b[0m\u001b[1;32m     28\u001b[0m                                  mult=True)\n\u001b[1;32m     29\u001b[0m \u001b[0;34m\u001b[0m\u001b[0m\n",
      "\u001b[0;31mTypeError\u001b[0m: slice indices must be integers or None or have an __index__ method"
     ]
    }
   ],
   "source": [
    "t, y = process_input()\n",
    "print(multi_roc_auc(t,y))"
   ]
  },
  {
   "cell_type": "code",
   "execution_count": null,
   "metadata": {},
   "outputs": [],
   "source": [
    "# def our_hash(s:str):\n",
    "    s = s.lower().replace(' ','')\n",
    "    #s = ''.join(sorted(s))\n",
    "    un = sorted(list(set(s)))\n",
    "    c_un = list()\n",
    "    for ch in un:\n",
    "        c_un.append(s.count(ch))\n",
    "    new_s = list()\n",
    "    for i in range(len(c_un)):\n",
    "        new_s.append(str(c_un[i])+un[i])\n",
    "    return hash(''.join(new_s))%10000\n",
    "    \n",
    "def req():\n",
    "    n = int(input())\n",
    "    l = list()\n",
    "    counter = 0\n",
    "    for i in range(n):\n",
    "        s = input()\n",
    "        h = our_hash(s)\n",
    "        if h in l:\n",
    "            continue\n",
    "        else:\n",
    "            l.append(h)\n",
    "            counter += 1\n",
    "    return counter"
   ]
  },
  {
   "cell_type": "code",
   "execution_count": 141,
   "metadata": {},
   "outputs": [
    {
     "name": "stdout",
     "output_type": "stream",
     "text": [
      "3\n",
      "aaasss\n",
      "sssaaa\n",
      "df\n"
     ]
    },
    {
     "data": {
      "text/plain": [
       "2"
      ]
     },
     "execution_count": 141,
     "metadata": {},
     "output_type": "execute_result"
    }
   ],
   "source": [
    "req()"
   ]
  },
  {
   "cell_type": "code",
   "execution_count": 97,
   "metadata": {},
   "outputs": [
    {
     "name": "stdout",
     "output_type": "stream",
     "text": [
      "3\n",
      "as\n",
      "as\n",
      "df\n",
      "2\n"
     ]
    }
   ],
   "source": [
    "print(req())"
   ]
  },
  {
   "cell_type": "code",
   "execution_count": 102,
   "metadata": {},
   "outputs": [
    {
     "data": {
      "text/plain": [
       "array([' ', '.', ';', 'a', 'd', 'f', 's'], dtype='<U1')"
      ]
     },
     "execution_count": 102,
     "metadata": {},
     "output_type": "execute_result"
    }
   ],
   "source": [
    "a = 'asdf. ;a'\n",
    "np.unique(list(a))"
   ]
  },
  {
   "cell_type": "code",
   "execution_count": 103,
   "metadata": {},
   "outputs": [
    {
     "data": {
      "text/plain": [
       "2"
      ]
     },
     "execution_count": 103,
     "metadata": {},
     "output_type": "execute_result"
    }
   ],
   "source": [
    "a.count('a')"
   ]
  },
  {
   "cell_type": "code",
   "execution_count": 104,
   "metadata": {},
   "outputs": [
    {
     "data": {
      "text/plain": [
       "[' ', '.', ';', 'a', 'a', 'd', 'f', 's']"
      ]
     },
     "execution_count": 104,
     "metadata": {},
     "output_type": "execute_result"
    }
   ],
   "source": [
    "sorted(a)"
   ]
  },
  {
   "cell_type": "code",
   "execution_count": 85,
   "metadata": {},
   "outputs": [
    {
     "data": {
      "text/plain": [
       "0.095367431640625"
      ]
     },
     "execution_count": 85,
     "metadata": {},
     "output_type": "execute_result"
    }
   ],
   "source": [
    "d = np.array([False]*100000)\n",
    "d.nbytes/1024/1024"
   ]
  },
  {
   "cell_type": "code",
   "execution_count": 92,
   "metadata": {},
   "outputs": [],
   "source": [
    "a = np.array([1,2,3])\n",
    "a = np.append(a,3)"
   ]
  },
  {
   "cell_type": "code",
   "execution_count": 93,
   "metadata": {},
   "outputs": [
    {
     "data": {
      "text/plain": [
       "array([1, 2, 3, 3])"
      ]
     },
     "execution_count": 93,
     "metadata": {},
     "output_type": "execute_result"
    }
   ],
   "source": [
    "a"
   ]
  },
  {
   "cell_type": "code",
   "execution_count": 144,
   "metadata": {},
   "outputs": [
    {
     "name": "stdout",
     "output_type": "stream",
     "text": [
      "3\n",
      "as\n",
      "ssssssssssssssssssssssssssssssssssss\n",
      "df\n",
      "3\n"
     ]
    }
   ],
   "source": [
    "import numpy as np\n",
    "def our_hash(s:str):\n",
    "    s = s.lower().replace(' ','')\n",
    "    #s = ''.join(sorted(s))\n",
    "    un = sorted(list(set(s)))\n",
    "    c_un = list()\n",
    "    for ch in un:\n",
    "        c_un.append(s.count(ch))\n",
    "    new_s = list()\n",
    "    for i in range(len(c_un)):\n",
    "        new_s.append(str(c_un[i])+un[i])\n",
    "    return hash(''.join(new_s))%100000\n",
    "\n",
    "def req():\n",
    "    n = int(input())\n",
    "    l = list()\n",
    "    counter = 0\n",
    "    for i in range(n):\n",
    "        s = input()\n",
    "        if len(s)>10:\n",
    "            counter += 1\n",
    "            continue\n",
    "        h = our_hash(s)\n",
    "        if h in l:\n",
    "            continue\n",
    "        else:\n",
    "            l.append(h)\n",
    "            counter += 1\n",
    "    return counter\n",
    "print(req())"
   ]
  },
  {
   "cell_type": "code",
   "execution_count": null,
   "metadata": {},
   "outputs": [],
   "source": [
    "multi_roc_auc()"
   ]
  },
  {
   "cell_type": "code",
   "execution_count": 158,
   "metadata": {},
   "outputs": [
    {
     "data": {
      "text/plain": [
       "array([0.5, 1. ])"
      ]
     },
     "execution_count": 158,
     "metadata": {},
     "output_type": "execute_result"
    }
   ],
   "source": [
    "np.unique([0.5,0.5,1])"
   ]
  },
  {
   "cell_type": "code",
   "execution_count": null,
   "metadata": {},
   "outputs": [],
   "source": []
  },
  {
   "cell_type": "code",
   "execution_count": null,
   "metadata": {},
   "outputs": [],
   "source": []
  },
  {
   "cell_type": "code",
   "execution_count": null,
   "metadata": {},
   "outputs": [],
   "source": []
  },
  {
   "cell_type": "code",
   "execution_count": 2,
   "metadata": {},
   "outputs": [],
   "source": [
    "def binary_roc_auc(t, y, mult = False):\n",
    "    classes = np.unique(t).tolist()\n",
    "    classes.sort(reverse=True)\n",
    "    tup_arr = list(zip(y,t))\n",
    "    tup_arr.sort(reverse=True)\n",
    "    auc = 0\n",
    "    tpr = 0\n",
    "    for i in range(len(y)):\n",
    "        if tup_arr[i][1] != classes[0]:\n",
    "            auc += tpr\n",
    "        else:\n",
    "            tpr += 1\n",
    "    if mult:\n",
    "        return auc\n",
    "    else:\n",
    "        return auc/(np.sum(t == classes[0])*np.sum(t != classes[0]))\n",
    "   "
   ]
  },
  {
   "cell_type": "code",
   "execution_count": 66,
   "metadata": {},
   "outputs": [],
   "source": [
    "#обобщение бинарного\n",
    "def multi_roc_auc(t, y):\n",
    "    \n",
    "    classes = np.unique(t).tolist()\n",
    "    classes.sort(reverse=True)\n",
    "    classes_count = []\n",
    "    for i in classes:\n",
    "        classes_count.append(np.sum(t == i))\n",
    "        \n",
    "    auc = 0\n",
    "    classes = np.array(list(zip(classes, classes_count)))\n",
    "    tup_arr = list(zip(t,y))\n",
    "    tup_arr.sort(reverse=True)\n",
    "    tup_arr = np.array(tup_arr)\n",
    "    #посчет знаменателя\n",
    "    counter_const = 0\n",
    "    \n",
    "    for i in range(classes.shape[0] - 1):\n",
    "        for j in range(i+1,classes.shape[0]):\n",
    "            counter_const += classes[i][1] * classes[j][1]   \n",
    "            #границы для подачи на бинарный roc_auc\n",
    "            b_1 = np.sum(classes[:i,1])\n",
    "            b_2 = np.sum(classes[:i,1]) + classes[i,1]\n",
    "            b_3 = np.sum(classes[:j,1])\n",
    "            b_4 = np.sum(classes[:j,1]) + classes[j,1]\n",
    "            auc += binary_roc_auc(np.hstack((tup_arr[int(b_1):int(b_2),0], tup_arr[int(b_3):int(b_4),0])), np.hstack((tup_arr[int(b_1):int(b_2),1], tup_arr[int(b_3):int(b_4),1])),\n",
    "                                 mult=True)\n",
    "    \n",
    "        \n",
    "    return auc/counter_const"
   ]
  },
  {
   "cell_type": "code",
   "execution_count": 64,
   "metadata": {},
   "outputs": [],
   "source": [
    "def process_input():\n",
    "    s = input()\n",
    "    N = int(s)\n",
    "    y, t = np.array([0.]*N), np.array([0.]*N)\n",
    "    for i in range(N):\n",
    "        s = input().split()\n",
    "        t[i], y[i] = float(s[0]), float(s[1])\n",
    "    return t, y"
   ]
  },
  {
   "cell_type": "code",
   "execution_count": 71,
   "metadata": {},
   "outputs": [
    {
     "name": "stdout",
     "output_type": "stream",
     "text": [
      "3\n",
      "0.5 0\n",
      "0.5 1\n",
      "2 0.5\n",
      "0.5\n"
     ]
    }
   ],
   "source": [
    "t, y = process_input()\n",
    "#print(t,y)\n",
    "print(multi_roc_auc(t,y))"
   ]
  },
  {
   "cell_type": "code",
   "execution_count": 70,
   "metadata": {},
   "outputs": [
    {
     "name": "stdout",
     "output_type": "stream",
     "text": [
      "1.0\n"
     ]
    }
   ],
   "source": [
    "t = np.array([0.5,1])\n",
    "y = np.array([0.1,1.0])\n",
    "print(multi_roc_auc(t,y))"
   ]
  },
  {
   "cell_type": "code",
   "execution_count": 52,
   "metadata": {},
   "outputs": [
    {
     "data": {
      "text/plain": [
       "1.0"
      ]
     },
     "execution_count": 52,
     "metadata": {},
     "output_type": "execute_result"
    }
   ],
   "source": [
    "b_auc(t,y)"
   ]
  },
  {
   "cell_type": "code",
   "execution_count": 16,
   "metadata": {},
   "outputs": [
    {
     "name": "stdout",
     "output_type": "stream",
     "text": [
      "2\n",
      "0.1 0.213\n",
      "0.4 0.123\n",
      "0.00000000\n"
     ]
    }
   ],
   "source": [
    "#обобщение бинарного\n",
    "def multi_roc_auc(t, y):\n",
    "    \n",
    "    classes = np.unique(t).tolist()\n",
    "    classes.sort(reverse=True)\n",
    "    classes_count = []\n",
    "    for i in classes:\n",
    "        classes_count.append(np.sum(t == i))\n",
    "        \n",
    "    auc = 0.\n",
    "    classes = np.array(list(zip(classes, classes_count)))\n",
    "    tup_arr = list(zip(t,y))\n",
    "    tup_arr.sort(reverse=True)\n",
    "    tup_arr = np.array(tup_arr)\n",
    "    #посчет знаменателя\n",
    "    counter_const = 0\n",
    "    \n",
    "    for i in range(classes.shape[0] - 1):\n",
    "        for j in range(i+1,classes.shape[0]):\n",
    "            counter_const += classes[i][1] * classes[j][1]   \n",
    "            #границы для подачи на бинарный roc_auc\n",
    "            b_1 = np.sum(classes[:i,1])\n",
    "            b_2 = np.sum(classes[:i,1]) + classes[i,1]\n",
    "            b_3 = np.sum(classes[:j,1])\n",
    "            b_4 = np.sum(classes[:j,1]) + classes[j,1]\n",
    "            auc += binary_roc_auc(np.hstack((tup_arr[int(b_1):int(b_2),0], tup_arr[int(b_3):int(b_4),0])), np.hstack((tup_arr[int(b_1):int(b_2),1], tup_arr[int(b_3):int(b_4),1])),\n",
    "                                 mult=True)\n",
    "    \n",
    "        \n",
    "    return auc/counter_const\n",
    "\n",
    "def binary_roc_auc(t, y, mult = False):\n",
    "    classes = np.unique(t).tolist()\n",
    "    classes.sort(reverse=True)\n",
    "    tup_arr = list(zip(y,t))\n",
    "    tup_arr.sort(reverse=True)\n",
    "    auc = 0.\n",
    "    tpr = 0.\n",
    "    for i in range(len(y)):\n",
    "        if tup_arr[i][1] != classes[0]:\n",
    "            auc += tpr\n",
    "        else:\n",
    "            tpr += 1\n",
    "    if mult:\n",
    "        return auc\n",
    "    else:\n",
    "        return auc/(np.sum(t == classes[0])*np.sum(t != classes[0]))\n",
    "\n",
    "def process_input():\n",
    "    s = input()\n",
    "    N = int(s)\n",
    "    y, t = np.array([0.]*N), np.array([0.]*N)\n",
    "    for i in range(N):\n",
    "        s = input().split()\n",
    "        t[i], y[i] = float(s[0]), float(s[1])\n",
    "    return t, y\n",
    "\n",
    "t, y = process_input()\n",
    "#print(t,y)\n",
    "print(str(\"%.8f\" % (multi_roc_auc(t,y))))"
   ]
  },
  {
   "cell_type": "code",
   "execution_count": 17,
   "metadata": {},
   "outputs": [
    {
     "name": "stdout",
     "output_type": "stream",
     "text": [
      "2\n",
      "0.1 0.213\n",
      "0.4 0.123\n",
      "0.0\n"
     ]
    }
   ],
   "source": [
    "t, y = process_input()\n",
    "print(b_auc(t,y))"
   ]
  },
  {
   "cell_type": "code",
   "execution_count": 18,
   "metadata": {},
   "outputs": [
    {
     "name": "stdout",
     "output_type": "stream",
     "text": [
      "3\n",
      "0.123 0.444\n",
      "0.22 0.99\n",
      "0.22 0.431\n",
      "0.50000000\n"
     ]
    }
   ],
   "source": [
    "import numpy as np\n",
    "#обобщение бинарного\n",
    "def multi_roc_auc(t, y):\n",
    "    \n",
    "    classes = np.unique(t).tolist()\n",
    "    classes.sort(reverse=True)\n",
    "    classes_count = []\n",
    "    for i in classes:\n",
    "        classes_count.append(np.sum(t == i))\n",
    "        \n",
    "    auc = 0.\n",
    "    classes = np.array(list(zip(classes, classes_count)))\n",
    "    tup_arr = list(zip(t,y))\n",
    "    tup_arr.sort(reverse=True)\n",
    "    tup_arr = np.array(tup_arr)\n",
    "    #посчет знаменателя\n",
    "    counter_const = 0\n",
    "    \n",
    "    for i in range(classes.shape[0] - 1):\n",
    "        for j in range(i+1,classes.shape[0]):\n",
    "            counter_const += classes[i][1] * classes[j][1]   \n",
    "            #границы для подачи на бинарный roc_auc\n",
    "            b_1 = np.sum(classes[:i,1])\n",
    "            b_2 = np.sum(classes[:i,1]) + classes[i,1]\n",
    "            b_3 = np.sum(classes[:j,1])\n",
    "            b_4 = np.sum(classes[:j,1]) + classes[j,1]\n",
    "            auc += binary_roc_auc(np.hstack((tup_arr[int(b_1):int(b_2),0], tup_arr[int(b_3):int(b_4),0])), np.hstack((tup_arr[int(b_1):int(b_2),1], tup_arr[int(b_3):int(b_4),1])),\n",
    "                                 mult=True)\n",
    "    \n",
    "        \n",
    "    return auc/counter_const\n",
    "\n",
    "def binary_roc_auc(t, y, mult = False):\n",
    "    classes = np.unique(t).tolist()\n",
    "    classes.sort(reverse=True)\n",
    "    tup_arr = list(zip(y,t))\n",
    "    tup_arr.sort(reverse=True)\n",
    "    auc = 0.\n",
    "    tpr = 0.\n",
    "    for i in range(len(y)):\n",
    "        if tup_arr[i][1] != classes[0]:\n",
    "            auc += tpr\n",
    "        else:\n",
    "            tpr += 1\n",
    "    if mult:\n",
    "        return auc\n",
    "    else:\n",
    "        return auc/(np.sum(t == classes[0])*np.sum(t != classes[0]))\n",
    "\n",
    "def process_input():\n",
    "    s = input()\n",
    "    N = int(s)\n",
    "    y, t = np.array([0.]*N), np.array([0.]*N)\n",
    "    for i in range(N):\n",
    "        s = input().split()\n",
    "        t[i], y[i] = float(s[0]), float(s[1])\n",
    "    return t, y\n",
    "\n",
    "t, y = process_input()\n",
    "#print(t,y)\n",
    "print(str(\"%.8f\" % (multi_roc_auc(t,y))))"
   ]
  },
  {
   "cell_type": "code",
   "execution_count": 19,
   "metadata": {},
   "outputs": [
    {
     "name": "stdout",
     "output_type": "stream",
     "text": [
      "3\n",
      "0.123 0.444\n",
      "0.22 0.99\n",
      "0.22 0.431\n",
      "0.5\n"
     ]
    }
   ],
   "source": [
    "t, y = process_input()\n",
    "print(b_auc(t,y))"
   ]
  },
  {
   "cell_type": "code",
   "execution_count": null,
   "metadata": {},
   "outputs": [],
   "source": []
  }
 ],
 "metadata": {
  "kernelspec": {
   "display_name": "Python 3",
   "language": "python",
   "name": "python3"
  },
  "language_info": {
   "codemirror_mode": {
    "name": "ipython",
    "version": 3
   },
   "file_extension": ".py",
   "mimetype": "text/x-python",
   "name": "python",
   "nbconvert_exporter": "python",
   "pygments_lexer": "ipython3",
   "version": "3.7.1"
  }
 },
 "nbformat": 4,
 "nbformat_minor": 2
}
