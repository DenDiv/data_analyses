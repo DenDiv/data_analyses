{
 "cells": [
  {
   "cell_type": "code",
   "execution_count": 4,
   "metadata": {},
   "outputs": [],
   "source": [
    "import re\n",
    "import numpy as np\n",
    "import scipy\n",
    "from scipy import spatial\n",
    "import matplotlib.pyplot as plt\n",
    "from scipy import linalg\n",
    "from scipy import optimize\n",
    "import scipy.stats as st\n",
    "from numpy import random\n",
    "from scipy.stats import chi2\n",
    "%matplotlib inline"
   ]
  },
  {
   "cell_type": "code",
   "execution_count": 43,
   "metadata": {},
   "outputs": [],
   "source": [
    "with open('cats.txt', 'r') as f:\n",
    "    read_data = f.read()\n",
    "read_data = read_data.lower()"
   ]
  },
  {
   "cell_type": "code",
   "execution_count": 44,
   "metadata": {},
   "outputs": [
    {
     "data": {
      "text/plain": [
       "['in',\n",
       " 'comparison',\n",
       " 'to',\n",
       " 'dogs',\n",
       " 'cats',\n",
       " 'have',\n",
       " 'not',\n",
       " 'undergone',\n",
       " 'major',\n",
       " 'changes',\n",
       " 'during',\n",
       " 'the',\n",
       " 'domestication',\n",
       " 'process',\n",
       " 'as',\n",
       " 'cat',\n",
       " 'simply',\n",
       " 'catenates',\n",
       " 'streams',\n",
       " 'of',\n",
       " 'bytes',\n",
       " 'it',\n",
       " 'can',\n",
       " 'be',\n",
       " 'also',\n",
       " 'used',\n",
       " 'to',\n",
       " 'concatenate',\n",
       " 'binary',\n",
       " 'files',\n",
       " 'where',\n",
       " 'it',\n",
       " 'will',\n",
       " 'just',\n",
       " 'concatenate',\n",
       " 'sequence',\n",
       " 'of',\n",
       " 'bytes',\n",
       " 'a',\n",
       " 'common',\n",
       " 'interactive',\n",
       " 'use',\n",
       " 'of',\n",
       " 'cat',\n",
       " 'for',\n",
       " 'a',\n",
       " 'single',\n",
       " 'file',\n",
       " 'is',\n",
       " 'to',\n",
       " 'output',\n",
       " 'the',\n",
       " 'content',\n",
       " 'of',\n",
       " 'a',\n",
       " 'file',\n",
       " 'to',\n",
       " 'standard',\n",
       " 'output',\n",
       " 'cats',\n",
       " 'can',\n",
       " 'hear',\n",
       " 'sounds',\n",
       " 'too',\n",
       " 'faint',\n",
       " 'or',\n",
       " 'too',\n",
       " 'high',\n",
       " 'in',\n",
       " 'frequency',\n",
       " 'for',\n",
       " 'human',\n",
       " 'ears',\n",
       " 'such',\n",
       " 'as',\n",
       " 'those',\n",
       " 'made',\n",
       " 'by',\n",
       " 'mice',\n",
       " 'and',\n",
       " 'other',\n",
       " 'small',\n",
       " 'animals',\n",
       " 'in',\n",
       " 'one',\n",
       " 'people',\n",
       " 'deliberately',\n",
       " 'tamed',\n",
       " 'cats',\n",
       " 'in',\n",
       " 'a',\n",
       " 'process',\n",
       " 'of',\n",
       " 'artificial',\n",
       " 'selection',\n",
       " 'as',\n",
       " 'they',\n",
       " 'were',\n",
       " 'useful',\n",
       " 'predators',\n",
       " 'of',\n",
       " 'vermin',\n",
       " 'the',\n",
       " 'domesticated',\n",
       " 'cat',\n",
       " 'and',\n",
       " 'its',\n",
       " 'closest',\n",
       " 'wild',\n",
       " 'ancestor',\n",
       " 'are',\n",
       " 'both',\n",
       " 'diploid',\n",
       " 'organisms',\n",
       " 'that',\n",
       " 'possess',\n",
       " 'chromosomes',\n",
       " 'and',\n",
       " 'roughly',\n",
       " 'genes',\n",
       " 'domestic',\n",
       " 'cats',\n",
       " 'are',\n",
       " 'similar',\n",
       " 'in',\n",
       " 'size',\n",
       " 'to',\n",
       " 'the',\n",
       " 'other',\n",
       " 'members',\n",
       " 'of',\n",
       " 'the',\n",
       " 'genus',\n",
       " 'felis',\n",
       " 'typically',\n",
       " 'weighing',\n",
       " 'between',\n",
       " 'and',\n",
       " 'kg',\n",
       " 'and',\n",
       " 'lb',\n",
       " 'however',\n",
       " 'if',\n",
       " 'the',\n",
       " 'output',\n",
       " 'is',\n",
       " 'piped',\n",
       " 'or',\n",
       " 'redirected',\n",
       " 'cat',\n",
       " 'is',\n",
       " 'unnecessary',\n",
       " 'cat',\n",
       " 'with',\n",
       " 'one',\n",
       " 'named',\n",
       " 'file',\n",
       " 'is',\n",
       " 'safer',\n",
       " 'where',\n",
       " 'human',\n",
       " 'error',\n",
       " 'is',\n",
       " 'a',\n",
       " 'concern',\n",
       " 'one',\n",
       " 'wrong',\n",
       " 'use',\n",
       " 'of',\n",
       " 'the',\n",
       " 'default',\n",
       " 'redirection',\n",
       " 'symbol',\n",
       " 'instead',\n",
       " 'of',\n",
       " 'often',\n",
       " 'adjacent',\n",
       " 'on',\n",
       " 'keyboards',\n",
       " 'may',\n",
       " 'permanently',\n",
       " 'delete',\n",
       " 'the',\n",
       " 'file',\n",
       " 'you',\n",
       " 'were',\n",
       " 'just',\n",
       " 'needing',\n",
       " 'to',\n",
       " 'read',\n",
       " 'in',\n",
       " 'terms',\n",
       " 'of',\n",
       " 'legibility',\n",
       " 'a',\n",
       " 'sequence',\n",
       " 'of',\n",
       " 'commands',\n",
       " 'starting',\n",
       " 'with',\n",
       " 'cat',\n",
       " 'and',\n",
       " 'connected',\n",
       " 'by',\n",
       " 'pipes',\n",
       " 'has',\n",
       " 'a',\n",
       " 'clear',\n",
       " 'left',\n",
       " 'to',\n",
       " 'right',\n",
       " 'flow',\n",
       " 'of',\n",
       " 'information',\n",
       " 'cat',\n",
       " 'command',\n",
       " 'is',\n",
       " 'one',\n",
       " 'of',\n",
       " 'the',\n",
       " 'basic',\n",
       " 'commands',\n",
       " 'that',\n",
       " 'you',\n",
       " 'learned',\n",
       " 'when',\n",
       " 'you',\n",
       " 'started',\n",
       " 'in',\n",
       " 'the',\n",
       " 'unix',\n",
       " 'linux',\n",
       " 'world',\n",
       " 'using',\n",
       " 'cat',\n",
       " 'command',\n",
       " 'the',\n",
       " 'lines',\n",
       " 'received',\n",
       " 'from',\n",
       " 'stdin',\n",
       " 'can',\n",
       " 'be',\n",
       " 'redirected',\n",
       " 'to',\n",
       " 'a',\n",
       " 'new',\n",
       " 'file',\n",
       " 'using',\n",
       " 'redirection',\n",
       " 'symbols',\n",
       " 'when',\n",
       " 'you',\n",
       " 'type',\n",
       " 'simply',\n",
       " 'cat',\n",
       " 'command',\n",
       " 'without',\n",
       " 'any',\n",
       " 'arguments',\n",
       " 'it',\n",
       " 'just',\n",
       " 'receives',\n",
       " 'the',\n",
       " 'stdin',\n",
       " 'content',\n",
       " 'and',\n",
       " 'displays',\n",
       " 'it',\n",
       " 'in',\n",
       " 'the',\n",
       " 'stdout',\n",
       " 'leopard',\n",
       " 'was',\n",
       " 'released',\n",
       " 'on',\n",
       " 'october',\n",
       " 'as',\n",
       " 'the',\n",
       " 'successor',\n",
       " 'of',\n",
       " 'tiger',\n",
       " 'version',\n",
       " 'and',\n",
       " 'is',\n",
       " 'available',\n",
       " 'in',\n",
       " 'two',\n",
       " 'editions',\n",
       " 'according',\n",
       " 'to',\n",
       " 'apple',\n",
       " 'leopard',\n",
       " 'contains',\n",
       " 'over',\n",
       " 'changes',\n",
       " 'and',\n",
       " 'enhancements',\n",
       " 'over',\n",
       " 'its',\n",
       " 'predecessor',\n",
       " 'mac',\n",
       " 'os',\n",
       " 'x',\n",
       " 'tiger',\n",
       " 'as',\n",
       " 'of',\n",
       " 'mid',\n",
       " 'some',\n",
       " 'apple',\n",
       " 'computers',\n",
       " 'have',\n",
       " 'firmware',\n",
       " 'factory',\n",
       " 'installed',\n",
       " 'which',\n",
       " 'will',\n",
       " 'no',\n",
       " 'longer',\n",
       " 'allow',\n",
       " 'installation',\n",
       " 'of',\n",
       " 'mac',\n",
       " 'os',\n",
       " 'x',\n",
       " 'leopard',\n",
       " 'since',\n",
       " 'apple',\n",
       " 'moved',\n",
       " 'to',\n",
       " 'using',\n",
       " 'intel',\n",
       " 'processors',\n",
       " 'in',\n",
       " 'their',\n",
       " 'computers',\n",
       " 'the',\n",
       " 'osx',\n",
       " 'community',\n",
       " 'has',\n",
       " 'developed',\n",
       " 'and',\n",
       " 'now',\n",
       " 'also',\n",
       " 'allows',\n",
       " 'mac',\n",
       " 'os',\n",
       " 'x',\n",
       " 'tiger',\n",
       " 'and',\n",
       " 'later',\n",
       " 'releases',\n",
       " 'to',\n",
       " 'be',\n",
       " 'installed',\n",
       " 'on',\n",
       " 'non',\n",
       " 'apple',\n",
       " 'x',\n",
       " 'based',\n",
       " 'computers',\n",
       " 'os',\n",
       " 'x',\n",
       " 'mountain',\n",
       " 'lion',\n",
       " 'was',\n",
       " 'released',\n",
       " 'on',\n",
       " 'july',\n",
       " 'for',\n",
       " 'purchase',\n",
       " 'and',\n",
       " 'download',\n",
       " 'through',\n",
       " 'apple',\n",
       " 's',\n",
       " 'mac',\n",
       " 'app',\n",
       " 'store',\n",
       " 'as',\n",
       " 'part',\n",
       " 'of',\n",
       " 'a',\n",
       " 'switch',\n",
       " 'to',\n",
       " 'releasing',\n",
       " 'os',\n",
       " 'x',\n",
       " 'versions',\n",
       " 'online',\n",
       " 'and',\n",
       " 'every',\n",
       " 'year',\n",
       " 'apple',\n",
       " 'has',\n",
       " 'released',\n",
       " 'a',\n",
       " 'small',\n",
       " 'patch',\n",
       " 'for',\n",
       " 'the',\n",
       " 'three',\n",
       " 'most',\n",
       " 'recent',\n",
       " 'versions',\n",
       " 'of',\n",
       " 'safari',\n",
       " 'running',\n",
       " 'on',\n",
       " 'os',\n",
       " 'x',\n",
       " 'yosemite',\n",
       " 'mavericks',\n",
       " 'and',\n",
       " 'mountain',\n",
       " 'lion',\n",
       " 'the',\n",
       " 'mountain',\n",
       " 'lion',\n",
       " 'release',\n",
       " 'marks',\n",
       " 'the',\n",
       " 'second',\n",
       " 'time',\n",
       " 'apple',\n",
       " 'has',\n",
       " 'offered',\n",
       " 'an',\n",
       " 'incremental',\n",
       " 'upgrade',\n",
       " 'rather',\n",
       " 'than',\n",
       " 'releasing',\n",
       " 'a',\n",
       " 'new',\n",
       " 'cat',\n",
       " 'entirely',\n",
       " 'mac',\n",
       " 'os',\n",
       " 'x',\n",
       " 'mountain',\n",
       " 'lion',\n",
       " 'installs',\n",
       " 'in',\n",
       " 'place',\n",
       " 'so',\n",
       " 'you',\n",
       " 'won',\n",
       " 't',\n",
       " 'need',\n",
       " 'to',\n",
       " 'create',\n",
       " 'a',\n",
       " 'separate',\n",
       " 'disk',\n",
       " 'or',\n",
       " 'run',\n",
       " 'the',\n",
       " 'installation',\n",
       " 'off',\n",
       " 'an',\n",
       " 'external',\n",
       " 'drive',\n",
       " 'the',\n",
       " 'fifth',\n",
       " 'major',\n",
       " 'update',\n",
       " 'to',\n",
       " 'mac',\n",
       " 'os',\n",
       " 'x',\n",
       " 'leopard',\n",
       " 'contains',\n",
       " 'such',\n",
       " 'a',\n",
       " 'mountain',\n",
       " 'of',\n",
       " 'features',\n",
       " 'more',\n",
       " 'than',\n",
       " 'by',\n",
       " 'apple',\n",
       " 's',\n",
       " 'count']"
      ]
     },
     "execution_count": 44,
     "metadata": {},
     "output_type": "execute_result"
    }
   ],
   "source": [
    "read_data = re.split('[^a-z]', read_data)\n",
    "read_data = [x for x in read_data if x]\n",
    "read_data"
   ]
  },
  {
   "cell_type": "code",
   "execution_count": 45,
   "metadata": {},
   "outputs": [
    {
     "data": {
      "text/plain": [
       "{'from': 0,\n",
       " 'weighing': 1,\n",
       " 'lb': 2,\n",
       " 'that': 3,\n",
       " 'tamed': 4,\n",
       " 'may': 5,\n",
       " 'an': 6,\n",
       " 'external': 7,\n",
       " 'sounds': 8,\n",
       " 'such': 9,\n",
       " 'apple': 10,\n",
       " 'chromosomes': 11,\n",
       " 'interactive': 12,\n",
       " 'commands': 13,\n",
       " 'connected': 14,\n",
       " 'than': 15,\n",
       " 'stdin': 16,\n",
       " 'animals': 17,\n",
       " 'legibility': 18,\n",
       " 'releases': 19,\n",
       " 'two': 20,\n",
       " 'new': 21,\n",
       " 'time': 22,\n",
       " 'july': 23,\n",
       " 'terms': 24,\n",
       " 'computers': 25,\n",
       " 'keyboards': 26,\n",
       " 'you': 27,\n",
       " 'information': 28,\n",
       " 'basic': 29,\n",
       " 'mac': 30,\n",
       " 'most': 31,\n",
       " 'create': 32,\n",
       " 'fifth': 33,\n",
       " 'closest': 34,\n",
       " 'successor': 35,\n",
       " 'instead': 36,\n",
       " 'wrong': 37,\n",
       " 'mavericks': 38,\n",
       " 'by': 39,\n",
       " 'members': 40,\n",
       " 'type': 41,\n",
       " 'command': 42,\n",
       " 'since': 43,\n",
       " 'without': 44,\n",
       " 'every': 45,\n",
       " 'a': 46,\n",
       " 'installed': 47,\n",
       " 'symbols': 48,\n",
       " 'often': 49,\n",
       " 'receives': 50,\n",
       " 'to': 51,\n",
       " 'installs': 52,\n",
       " 'not': 53,\n",
       " 'second': 54,\n",
       " 'incremental': 55,\n",
       " 'typically': 56,\n",
       " 'upgrade': 57,\n",
       " 'so': 58,\n",
       " 'through': 59,\n",
       " 'need': 60,\n",
       " 'app': 61,\n",
       " 'output': 62,\n",
       " 'mid': 63,\n",
       " 'needing': 64,\n",
       " 'offered': 65,\n",
       " 'redirection': 66,\n",
       " 'some': 67,\n",
       " 'common': 68,\n",
       " 'has': 69,\n",
       " 'used': 70,\n",
       " 'read': 71,\n",
       " 'felis': 72,\n",
       " 'update': 73,\n",
       " 'lion': 74,\n",
       " 'and': 75,\n",
       " 'releasing': 76,\n",
       " 'is': 77,\n",
       " 'similar': 78,\n",
       " 'developed': 79,\n",
       " 'also': 80,\n",
       " 'using': 81,\n",
       " 'ancestor': 82,\n",
       " 'catenates': 83,\n",
       " 'predecessor': 84,\n",
       " 'recent': 85,\n",
       " 'yosemite': 86,\n",
       " 'error': 87,\n",
       " 'as': 88,\n",
       " 'running': 89,\n",
       " 'too': 90,\n",
       " 'are': 91,\n",
       " 'arguments': 92,\n",
       " 'any': 93,\n",
       " 'domestic': 94,\n",
       " 'domestication': 95,\n",
       " 'count': 96,\n",
       " 'deliberately': 97,\n",
       " 'which': 98,\n",
       " 'started': 99,\n",
       " 'mice': 100,\n",
       " 'of': 101,\n",
       " 't': 102,\n",
       " 'people': 103,\n",
       " 'non': 104,\n",
       " 'single': 105,\n",
       " 'those': 106,\n",
       " 'small': 107,\n",
       " 'kg': 108,\n",
       " 'artificial': 109,\n",
       " 'learned': 110,\n",
       " 'safer': 111,\n",
       " 'selection': 112,\n",
       " 'left': 113,\n",
       " 'part': 114,\n",
       " 'genes': 115,\n",
       " 'was': 116,\n",
       " 'starting': 117,\n",
       " 'displays': 118,\n",
       " 'wild': 119,\n",
       " 'leopard': 120,\n",
       " 'high': 121,\n",
       " 'redirected': 122,\n",
       " 'online': 123,\n",
       " 'entirely': 124,\n",
       " 'were': 125,\n",
       " 'process': 126,\n",
       " 'default': 127,\n",
       " 'intel': 128,\n",
       " 'comparison': 129,\n",
       " 'adjacent': 130,\n",
       " 'allow': 131,\n",
       " 'in': 132,\n",
       " 'available': 133,\n",
       " 'release': 134,\n",
       " 'permanently': 135,\n",
       " 'versions': 136,\n",
       " 'separate': 137,\n",
       " 'cat': 138,\n",
       " 'os': 139,\n",
       " 'drive': 140,\n",
       " 'run': 141,\n",
       " 'longer': 142,\n",
       " 'undergone': 143,\n",
       " 'with': 144,\n",
       " 'simply': 145,\n",
       " 'moved': 146,\n",
       " 'processors': 147,\n",
       " 'however': 148,\n",
       " 'standard': 149,\n",
       " 'place': 150,\n",
       " 'october': 151,\n",
       " 'size': 152,\n",
       " 'tiger': 153,\n",
       " 'major': 154,\n",
       " 'symbol': 155,\n",
       " 'content': 156,\n",
       " 'possess': 157,\n",
       " 'unix': 158,\n",
       " 'other': 159,\n",
       " 'factory': 160,\n",
       " 'store': 161,\n",
       " 'marks': 162,\n",
       " 'more': 163,\n",
       " 'rather': 164,\n",
       " 'ears': 165,\n",
       " 'x': 166,\n",
       " 'osx': 167,\n",
       " 'piped': 168,\n",
       " 'human': 169,\n",
       " 'download': 170,\n",
       " 'domesticated': 171,\n",
       " 'their': 172,\n",
       " 'the': 173,\n",
       " 'later': 174,\n",
       " 'faint': 175,\n",
       " 'when': 176,\n",
       " 'useful': 177,\n",
       " 'three': 178,\n",
       " 'vermin': 179,\n",
       " 'between': 180,\n",
       " 'if': 181,\n",
       " 'on': 182,\n",
       " 'over': 183,\n",
       " 'based': 184,\n",
       " 'streams': 185,\n",
       " 'enhancements': 186,\n",
       " 'unnecessary': 187,\n",
       " 'predators': 188,\n",
       " 'during': 189,\n",
       " 'installation': 190,\n",
       " 'diploid': 191,\n",
       " 'right': 192,\n",
       " 'version': 193,\n",
       " 'be': 194,\n",
       " 'roughly': 195,\n",
       " 'flow': 196,\n",
       " 'frequency': 197,\n",
       " 'stdout': 198,\n",
       " 'delete': 199,\n",
       " 'concatenate': 200,\n",
       " 'mountain': 201,\n",
       " 's': 202,\n",
       " 'linux': 203,\n",
       " 'named': 204,\n",
       " 'year': 205,\n",
       " 'firmware': 206,\n",
       " 'patch': 207,\n",
       " 'both': 208,\n",
       " 'safari': 209,\n",
       " 'according': 210,\n",
       " 'purchase': 211,\n",
       " 'files': 212,\n",
       " 'changes': 213,\n",
       " 'where': 214,\n",
       " 'just': 215,\n",
       " 'they': 216,\n",
       " 'it': 217,\n",
       " 'will': 218,\n",
       " 'sequence': 219,\n",
       " 'hear': 220,\n",
       " 'now': 221,\n",
       " 'allows': 222,\n",
       " 'use': 223,\n",
       " 'bytes': 224,\n",
       " 'concern': 225,\n",
       " 'can': 226,\n",
       " 'made': 227,\n",
       " 'genus': 228,\n",
       " 'received': 229,\n",
       " 'released': 230,\n",
       " 'contains': 231,\n",
       " 'community': 232,\n",
       " 'no': 233,\n",
       " 'won': 234,\n",
       " 'cats': 235,\n",
       " 'binary': 236,\n",
       " 'or': 237,\n",
       " 'world': 238,\n",
       " 'off': 239,\n",
       " 'pipes': 240,\n",
       " 'lines': 241,\n",
       " 'switch': 242,\n",
       " 'its': 243,\n",
       " 'have': 244,\n",
       " 'clear': 245,\n",
       " 'file': 246,\n",
       " 'one': 247,\n",
       " 'organisms': 248,\n",
       " 'disk': 249,\n",
       " 'dogs': 250,\n",
       " 'features': 251,\n",
       " 'for': 252,\n",
       " 'editions': 253}"
      ]
     },
     "execution_count": 45,
     "metadata": {},
     "output_type": "execute_result"
    }
   ],
   "source": [
    "read_data = dict(zip(set(read_data),range(len(set(read_data)))))\n",
    "read_data"
   ]
  },
  {
   "cell_type": "code",
   "execution_count": 54,
   "metadata": {},
   "outputs": [
    {
     "data": {
      "text/plain": [
       "array([[0., 0., 0., ..., 0., 0., 0.],\n",
       "       [0., 0., 0., ..., 0., 0., 0.],\n",
       "       [0., 0., 0., ..., 0., 1., 0.],\n",
       "       ...,\n",
       "       [0., 0., 0., ..., 0., 0., 0.],\n",
       "       [0., 0., 0., ..., 0., 0., 0.],\n",
       "       [0., 0., 0., ..., 1., 0., 0.]])"
      ]
     },
     "execution_count": 54,
     "metadata": {},
     "output_type": "execute_result"
    }
   ],
   "source": [
    "matrix = np.zeros((22,254))\n",
    "with open('cats.txt', 'r') as f:\n",
    "    counter = 0\n",
    "    for line in f:\n",
    "        line = line.lower()\n",
    "        line = re.split('[^a-z]', line)\n",
    "        line = [x for x in line if x]\n",
    "        for word in line:\n",
    "            matrix[counter,read_data[word]]+=1\n",
    "        counter+=1\n",
    "matrix"
   ]
  },
  {
   "cell_type": "code",
   "execution_count": 61,
   "metadata": {},
   "outputs": [
    {
     "data": {
      "text/plain": [
       "[0.0,\n",
       " 0.9527544408738466,\n",
       " 0.8644738145642124,\n",
       " 0.8951715163278082,\n",
       " 0.7770887149698589,\n",
       " 0.9402385695332803,\n",
       " 0.7327387580875756,\n",
       " 0.9258750683338899,\n",
       " 0.8842724875284311,\n",
       " 0.9055088817476932,\n",
       " 0.8328165362273942,\n",
       " 0.8804771390665607,\n",
       " 0.8396432548525454,\n",
       " 0.8703592552895671,\n",
       " 0.8740118423302576,\n",
       " 0.9442721787424647,\n",
       " 0.8406361854220809,\n",
       " 0.956644501523794,\n",
       " 0.9442721787424647,\n",
       " 0.8885443574849294,\n",
       " 0.8427572744917122,\n",
       " 0.8250364469440588]"
      ]
     },
     "execution_count": 61,
     "metadata": {},
     "output_type": "execute_result"
    }
   ],
   "source": [
    "l = []\n",
    "for i in range(matrix.shape[0]):\n",
    "    l.append(spatial.distance.cosine(matrix[0,:],matrix[i,:]))\n",
    "l1 = l.sort()\n",
    "l"
   ]
  },
  {
   "cell_type": "code",
   "execution_count": 2,
   "metadata": {},
   "outputs": [],
   "source": [
    "def f(x):\n",
    "    return (np.sin(x / 5.) * np.exp(x / 10.) + 5 * np.exp(-x / 2.))"
   ]
  },
  {
   "cell_type": "code",
   "execution_count": 67,
   "metadata": {},
   "outputs": [
    {
     "data": {
      "image/png": "[encoded data removed]",
      "text/plain": [
       "<Figure size 432x288 with 1 Axes>"
      ]
     },
     "metadata": {
      "needs_background": "light"
     },
     "output_type": "display_data"
    }
   ],
   "source": [
    "plt.plot(np.arange(1,15,0.01),f(np.arange(1,15,0.01)))\n",
    "plt.show()"
   ]
  },
  {
   "cell_type": "code",
   "execution_count": 92,
   "metadata": {},
   "outputs": [],
   "source": [
    "A = [[1,1,1,1],\n",
    "     [1,4,4**2,4**3],\n",
    "     [1,10,10**2,10**3],\n",
    "     [1,15,15**2,15**3]]\n",
    "b = [f(1),f(4),f(10),f(15)]"
   ]
  },
  {
   "cell_type": "code",
   "execution_count": 93,
   "metadata": {},
   "outputs": [
    {
     "data": {
      "text/plain": [
       "array([ 4.36264154, -1.29552587,  0.19333685, -0.00823565])"
      ]
     },
     "execution_count": 93,
     "metadata": {},
     "output_type": "execute_result"
    }
   ],
   "source": [
    "w = linalg.solve(A,b)\n",
    "w"
   ]
  },
  {
   "cell_type": "code",
   "execution_count": 94,
   "metadata": {},
   "outputs": [],
   "source": [
    "ext_X = np.ones((len(np.arange(1,15,0.01)),4))\n",
    "ext_X[:,1] = np.arange(1,15,0.01)\n",
    "ext_X[:,2] = np.power(ext_X[:,1],2)\n",
    "ext_X[:,3] = np.power(ext_X[:,1],3)"
   ]
  },
  {
   "cell_type": "code",
   "execution_count": 95,
   "metadata": {},
   "outputs": [
    {
     "data": {
      "image/png": "[encoded data removed]",
      "text/plain": [
       "<Figure size 432x288 with 1 Axes>"
      ]
     },
     "metadata": {
      "needs_background": "light"
     },
     "output_type": "display_data"
    }
   ],
   "source": [
    "plt.plot(np.arange(1,15,0.01),f(np.arange(1,15,0.01)),color='blue')#,np.arange(1,15,0.01),np.dot(ext_X,w.T),color='green')\n",
    "plt.plot(np.arange(1,15,0.01),np.dot(ext_X,w.T),color='green')\n",
    "plt.show()"
   ]
  },
  {
   "cell_type": "markdown",
   "metadata": {},
   "source": [
    "# 2nd dz"
   ]
  },
  {
   "cell_type": "code",
   "execution_count": 3,
   "metadata": {},
   "outputs": [
    {
     "data": {
      "image/png": "[encoded data removed]",
      "text/plain": [
       "<Figure size 432x288 with 1 Axes>"
      ]
     },
     "metadata": {
      "needs_background": "light"
     },
     "output_type": "display_data"
    }
   ],
   "source": [
    "plt.plot(np.arange(1,30,0.01),f(np.arange(1,30,0.01)))\n",
    "plt.show()"
   ]
  },
  {
   "cell_type": "code",
   "execution_count": 9,
   "metadata": {},
   "outputs": [
    {
     "data": {
      "text/plain": [
       "      fun: -11.898894665971952\n",
       " hess_inv: array([[1.68469947]])\n",
       "      jac: array([-3.33786011e-06])\n",
       "  message: 'Optimization terminated successfully.'\n",
       "     nfev: 21\n",
       "      nit: 4\n",
       "     njev: 7\n",
       "   status: 0\n",
       "  success: True\n",
       "        x: array([25.88018742])"
      ]
     },
     "execution_count": 9,
     "metadata": {},
     "output_type": "execute_result"
    }
   ],
   "source": [
    "scipy.optimize.minimize(f,20)\n",
    "#min -11.89889"
   ]
  },
  {
   "cell_type": "code",
   "execution_count": 13,
   "metadata": {},
   "outputs": [
    {
     "data": {
      "text/plain": [
       "      fun: -11.898894665981285\n",
       " hess_inv: array([[1.67932484]])\n",
       "      jac: array([2.38418579e-07])\n",
       "  message: 'Optimization terminated successfully.'\n",
       "     nfev: 21\n",
       "      nit: 6\n",
       "     njev: 7\n",
       "   status: 0\n",
       "  success: True\n",
       "        x: array([25.88019339])"
      ]
     },
     "execution_count": 13,
     "metadata": {},
     "output_type": "execute_result"
    }
   ],
   "source": [
    "scipy.optimize.minimize(f,30,method='BFGS')"
   ]
  },
  {
   "cell_type": "code",
   "execution_count": 14,
   "metadata": {},
   "outputs": [
    {
     "data": {
      "text/plain": [
       "     fun: array([-11.89889467])\n",
       "     jac: array([1.77635684e-07])\n",
       " message: 'Optimization terminated successfully.'\n",
       "    nfev: 128\n",
       "     nit: 7\n",
       " success: True\n",
       "       x: array([25.88019324])"
      ]
     },
     "execution_count": 14,
     "metadata": {},
     "output_type": "execute_result"
    }
   ],
   "source": [
    "scipy.optimize.differential_evolution(f,[(0,30)])"
   ]
  },
  {
   "cell_type": "code",
   "execution_count": 16,
   "metadata": {},
   "outputs": [
    {
     "data": {
      "image/png": "[encoded data removed]",
      "text/plain": [
       "<Figure size 432x288 with 1 Axes>"
      ]
     },
     "metadata": {
      "needs_background": "light"
     },
     "output_type": "display_data"
    }
   ],
   "source": [
    "plt.plot(np.arange(1,30,0.01),f(np.arange(1,30,0.01)).astype(int))\n",
    "plt.show()"
   ]
  },
  {
   "cell_type": "code",
   "execution_count": 18,
   "metadata": {},
   "outputs": [],
   "source": [
    "def int_dec(our_f):\n",
    "    def wrapper(arg):\n",
    "        return int(our_f(arg))\n",
    "    return wrapper"
   ]
  },
  {
   "cell_type": "code",
   "execution_count": 19,
   "metadata": {},
   "outputs": [],
   "source": [
    "@int_dec\n",
    "def f(x):\n",
    "    return (np.sin(x / 5.) * np.exp(x / 10.) + 5 * np.exp(-x / 2.))"
   ]
  },
  {
   "cell_type": "code",
   "execution_count": 22,
   "metadata": {},
   "outputs": [
    {
     "data": {
      "text/plain": [
       "-5"
      ]
     },
     "execution_count": 22,
     "metadata": {},
     "output_type": "execute_result"
    }
   ],
   "source": [
    "#f(30)"
   ]
  },
  {
   "cell_type": "code",
   "execution_count": 24,
   "metadata": {},
   "outputs": [
    {
     "data": {
      "text/plain": [
       "      fun: -5\n",
       " hess_inv: array([[1]])\n",
       "      jac: array([0.])\n",
       "  message: 'Optimization terminated successfully.'\n",
       "     nfev: 3\n",
       "      nit: 0\n",
       "     njev: 1\n",
       "   status: 0\n",
       "  success: True\n",
       "        x: array([30.])"
      ]
     },
     "execution_count": 24,
     "metadata": {},
     "output_type": "execute_result"
    }
   ],
   "source": [
    "scipy.optimize.minimize(f,30,method='BFGS')"
   ]
  },
  {
   "cell_type": "code",
   "execution_count": 25,
   "metadata": {},
   "outputs": [
    {
     "data": {
      "text/plain": [
       "     fun: -11.0\n",
       " message: 'Optimization terminated successfully.'\n",
       "    nfev: 92\n",
       "     nit: 5\n",
       " success: True\n",
       "       x: array([25.49199906])"
      ]
     },
     "execution_count": 25,
     "metadata": {},
     "output_type": "execute_result"
    }
   ],
   "source": [
    "scipy.optimize.differential_evolution(f,[(0,30)])"
   ]
  },
  {
   "cell_type": "markdown",
   "metadata": {},
   "source": [
    "# 3rd dz\n",
    "## строим для chi2,  кол-во степеней свободы df = 4"
   ]
  },
  {
   "cell_type": "code",
   "execution_count": 111,
   "metadata": {},
   "outputs": [
    {
     "data": {
      "image/png": "[encoded data removed]",
      "text/plain": [
       "<Figure size 432x288 with 1 Axes>"
      ]
     },
     "metadata": {
      "needs_background": "light"
     },
     "output_type": "display_data"
    }
   ],
   "source": [
    "df = 4\n",
    "# генерим выборку\n",
    "r = chi2.rvs(df, size=1000)\n",
    "x = np.linspace(chi2.ppf(0.01, df),\n",
    "               chi2.ppf(0.99, df), 100)\n",
    "fig, ax = plt.subplots(1, 1)\n",
    "ax.plot(x, chi2.pdf(x, df),\n",
    "          'r-', lw=2, alpha=0.6, label='chi2 pdf')\n",
    "ax.hist(r,bins=30, normed=True, histtype='stepfilled', alpha=0.5)\n",
    "ax.legend(loc='best', frameon=False)\n",
    "ax.set_xlabel('x')\n",
    "ax.set_ylabel('pdf(x)')\n",
    "plt.show()"
   ]
  },
  {
   "cell_type": "code",
   "execution_count": 39,
   "metadata": {},
   "outputs": [],
   "source": [
    "# генерим выборку 1000 эл из выборочных средних\n",
    "def gen_count_av(n,df=4):\n",
    "    arr = list()\n",
    "    for i in range(1000):\n",
    "        vib = chi2.rvs(df, size=n)\n",
    "        arr.append(np.mean(vib))\n",
    "    return arr"
   ]
  },
  {
   "cell_type": "code",
   "execution_count": 112,
   "metadata": {},
   "outputs": [
    {
     "data": {
      "image/png": "[encoded data removed]",
      "text/plain": [
       "<Figure size 432x288 with 1 Axes>"
      ]
     },
     "metadata": {
      "needs_background": "light"
     },
     "output_type": "display_data"
    }
   ],
   "source": [
    "# далее строим для n гистограмму для выборки из 1000 выборочных средних и нормальное распред с mu, sigma\n",
    "# для chi2 mu == df, variance = 2*df\n",
    "n=3\n",
    "mu, sigma = 4,(8/float(n))**0.5\n",
    "x_norm = np.linspace(0,12, 1000)\n",
    "\n",
    "fig, ax = plt.subplots(1, 1)\n",
    "x = gen_count_av(n=n)\n",
    "ax.hist(x,bins=20, normed=True, histtype='stepfilled', alpha=0.8,label= 'n='+str(n)) \n",
    "ax.plot(x_norm, 1/(sigma * np.sqrt(2 * np.pi)) *\n",
    "                np.exp( - (x_norm - mu)**2 / (2 * sigma**2) ),\n",
    "          'r-', lw=2, alpha=0.6, label='norm pdf')\n",
    "ax.set_xlabel('x')\n",
    "ax.set_ylabel('pdf(x)')\n",
    "ax.legend(loc='best', frameon=False)\n",
    "plt.show()"
   ]
  },
  {
   "cell_type": "code",
   "execution_count": 113,
   "metadata": {},
   "outputs": [
    {
     "data": {
      "image/png": "[encoded data removed]",
      "text/plain": [
       "<Figure size 432x288 with 1 Axes>"
      ]
     },
     "metadata": {
      "needs_background": "light"
     },
     "output_type": "display_data"
    }
   ],
   "source": [
    "n=5\n",
    "mu, sigma = 4,(8/float(n))**0.5\n",
    "x_norm = np.linspace(0,12, 1000)\n",
    "\n",
    "fig, ax = plt.subplots(1, 1)\n",
    "x = gen_count_av(n=n)\n",
    "ax.hist(x,bins=20, normed=True, histtype='stepfilled', alpha=0.8,label= 'n='+str(n)) \n",
    "ax.plot(x_norm, 1/(sigma * np.sqrt(2 * np.pi)) *\n",
    "                np.exp( - (x_norm - mu)**2 / (2 * sigma**2) ),\n",
    "          'r-', lw=2, alpha=0.6, label='norm pdf')\n",
    "ax.set_xlabel('x')\n",
    "ax.set_ylabel('pdf(x)')\n",
    "ax.legend(loc='best', frameon=False)\n",
    "plt.show()"
   ]
  },
  {
   "cell_type": "code",
   "execution_count": 114,
   "metadata": {},
   "outputs": [
    {
     "data": {
      "image/png": "[encoded data removed]",
      "text/plain": [
       "<Figure size 432x288 with 1 Axes>"
      ]
     },
     "metadata": {
      "needs_background": "light"
     },
     "output_type": "display_data"
    }
   ],
   "source": [
    "n=25\n",
    "mu, sigma = 4,(8/float(n))**0.5\n",
    "x_norm = np.linspace(0,12, 1000)\n",
    "\n",
    "fig, ax = plt.subplots(1, 1)\n",
    "x = gen_count_av(n=n)\n",
    "ax.hist(x,bins=20, normed=True, histtype='stepfilled', alpha=0.8,label= 'n='+str(n)) \n",
    "ax.plot(x_norm, 1/(sigma * np.sqrt(2 * np.pi)) *\n",
    "                np.exp( - (x_norm - mu)**2 / (2 * sigma**2) ),\n",
    "          'r-', lw=2, alpha=0.6, label='norm pdf')\n",
    "ax.set_xlabel('x')\n",
    "ax.set_ylabel('pdf(x)')\n",
    "ax.legend(loc='best', frameon=False)\n",
    "plt.show()"
   ]
  },
  {
   "cell_type": "code",
   "execution_count": 115,
   "metadata": {},
   "outputs": [
    {
     "data": {
      "image/png": "[encoded data removed]",
      "text/plain": [
       "<Figure size 432x288 with 1 Axes>"
      ]
     },
     "metadata": {
      "needs_background": "light"
     },
     "output_type": "display_data"
    }
   ],
   "source": [
    "n=150\n",
    "mu, sigma = 4,(8/float(n))**0.5\n",
    "x_norm = np.linspace(2,6, 1000)\n",
    "\n",
    "fig, ax = plt.subplots(1, 1)\n",
    "x = gen_count_av(n=n)\n",
    "ax.hist(x,bins=20, normed=True, histtype='stepfilled', alpha=0.8,label= 'n='+str(n)) \n",
    "ax.plot(x_norm, 1/(sigma * np.sqrt(2 * np.pi)) *\n",
    "                np.exp( - (x_norm - mu)**2 / (2 * sigma**2) ),\n",
    "          'r-', lw=2, alpha=0.6, label='norm pdf')\n",
    "ax.set_xlabel('x')\n",
    "ax.set_ylabel('pdf(x)')\n",
    "ax.legend(loc='best', frameon=False)\n",
    "plt.show()"
   ]
  },
  {
   "cell_type": "markdown",
   "metadata": {},
   "source": [
    "При увеличении n плотность вероятности нормального распределения все более схожа с плотн. распред. выборочных средних"
   ]
  },
  {
   "cell_type": "code",
   "execution_count": null,
   "metadata": {},
   "outputs": [],
   "source": []
  }
 ],
 "metadata": {
  "kernelspec": {
   "display_name": "Python 3",
   "language": "python",
   "name": "python3"
  },
  "language_info": {
   "codemirror_mode": {
    "name": "ipython",
    "version": 3
   },
   "file_extension": ".py",
   "mimetype": "text/x-python",
   "name": "python",
   "nbconvert_exporter": "python",
   "pygments_lexer": "ipython3",
   "version": "3.7.1"
  }
 },
 "nbformat": 4,
 "nbformat_minor": 2
}
