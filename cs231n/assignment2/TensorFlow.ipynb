{
 "cells": [
  {
   "cell_type": "markdown",
   "metadata": {
    "tags": [
     "pdf-title"
    ]
   },
   "source": [
    "# What's this TensorFlow business?\n",
    "\n",
    "You've written a lot of code in this assignment to provide a whole host of neural network functionality. Dropout, Batch Norm, and 2D convolutions are some of the workhorses of deep learning in computer vision. You've also worked hard to make your code efficient and vectorized.\n",
    "\n",
    "For the last part of this assignment, though, we're going to leave behind your beautiful codebase and instead migrate to one of two popular deep learning frameworks: in this instance, TensorFlow (or PyTorch, if you choose to work with that notebook)."
   ]
  },
  {
   "cell_type": "code",
   "execution_count": 1,
   "metadata": {},
   "outputs": [
    {
     "data": {
      "text/plain": [
       "[name: \"/device:CPU:0\"\n",
       " device_type: \"CPU\"\n",
       " memory_limit: 268435456\n",
       " locality {\n",
       " }\n",
       " incarnation: 16536035177753630893, name: \"/device:XLA_CPU:0\"\n",
       " device_type: \"XLA_CPU\"\n",
       " memory_limit: 17179869184\n",
       " locality {\n",
       " }\n",
       " incarnation: 13846967110190031961\n",
       " physical_device_desc: \"device: XLA_CPU device\", name: \"/device:XLA_GPU:0\"\n",
       " device_type: \"XLA_GPU\"\n",
       " memory_limit: 17179869184\n",
       " locality {\n",
       " }\n",
       " incarnation: 5307614468952705065\n",
       " physical_device_desc: \"device: XLA_GPU device\", name: \"/device:GPU:0\"\n",
       " device_type: \"GPU\"\n",
       " memory_limit: 3492216832\n",
       " locality {\n",
       "   bus_id: 1\n",
       "   links {\n",
       "   }\n",
       " }\n",
       " incarnation: 16275598041213512906\n",
       " physical_device_desc: \"device: 0, name: GeForce GTX 1050 Ti, pci bus id: 0000:01:00.0, compute capability: 6.1\"]"
      ]
     },
     "execution_count": 1,
     "metadata": {},
     "output_type": "execute_result"
    }
   ],
   "source": [
    "from tensorflow.python.client import device_lib\n",
    "device_lib.list_local_devices()"
   ]
  },
  {
   "cell_type": "code",
   "execution_count": 2,
   "metadata": {},
   "outputs": [],
   "source": [
    "import tensorflow as tf\n",
    "tf.debugging.set_log_device_placement(False)"
   ]
  },
  {
   "cell_type": "code",
   "execution_count": 3,
   "metadata": {},
   "outputs": [
    {
     "name": "stdout",
     "output_type": "stream",
     "text": [
      "tf.Tensor(\n",
      "[[1. 0.]\n",
      " [1. 0.]], shape=(2, 2), dtype=float32)\n"
     ]
    }
   ],
   "source": [
    "import tensorflow as tf\n",
    "W = tf.Variable(tf.ones(shape=(2,2)), name=\"W\")\n",
    "b = tf.Variable(tf.zeros(shape=(2)), name=\"b\")\n",
    "\n",
    "@tf.function\n",
    "def forward(x):\n",
    "  return W * x + b\n",
    "\n",
    "out_a = forward([1,0])\n",
    "print(out_a)"
   ]
  },
  {
   "cell_type": "code",
   "execution_count": null,
   "metadata": {},
   "outputs": [
    {
     "name": "stdout",
     "output_type": "stream",
     "text": [
      "Train on 60000 samples\n",
      "Epoch 1/5\n",
      "60000/60000 [==============================] - 2s 40us/sample - loss: 0.2995 - accuracy: 0.9139\n",
      "Epoch 2/5\n",
      "60000/60000 [==============================] - 2s 36us/sample - loss: 0.1463 - accuracy: 0.9565\n",
      "Epoch 3/5\n",
      "60000/60000 [==============================] - 2s 36us/sample - loss: 0.1112 - accuracy: 0.9659\n",
      "Epoch 4/5\n",
      "60000/60000 [==============================] - 2s 39us/sample - loss: 0.0916 - accuracy: 0.9716\n",
      "Epoch 5/5\n",
      "60000/60000 [==============================] - 3s 42us/sample - loss: 0.0775 - accuracy: 0.9758\n",
      "10000/10000 [==============================] - 0s 28us/sample - loss: 0.0825 - accuracy: 0.9745\n",
      "12.023344278335571\n",
      "Train on 60000 samples\n",
      "Epoch 1/5\n",
      "60000/60000 [==============================] - 3s 55us/sample - loss: 0.2938 - accuracy: 0.9147\n",
      "Epoch 2/5\n",
      "60000/60000 [==============================] - 3s 50us/sample - loss: 0.1435 - accuracy: 0.9574\n",
      "Epoch 3/5\n",
      "59616/60000 [============================>.] - ETA: 0s - loss: 0.1071 - accuracy: 0.9676"
     ]
    }
   ],
   "source": [
    "import time\n",
    "\n",
    "cpu_slot = 0\n",
    "gpu_slot = 0\n",
    "\n",
    "# Using CPU at slot 0\n",
    "with tf.device('/CPU:' + str(cpu_slot)):\n",
    "    # Starting a timer\n",
    "    start = time.time()\n",
    "\n",
    "    # Doing operations on CPU\n",
    "    model = tf.keras.models.Sequential([\n",
    "  tf.keras.layers.Flatten(input_shape=(28, 28)),\n",
    "  tf.keras.layers.Dense(128, activation='relu'),\n",
    "  tf.keras.layers.Dropout(0.2),\n",
    "  tf.keras.layers.Dense(10, activation='softmax')\n",
    "])\n",
    "\n",
    "    model.compile(optimizer='adam',\n",
    "              loss='sparse_categorical_crossentropy',\n",
    "              metrics=['accuracy'])\n",
    "\n",
    "    model.fit(x_train, y_train, epochs=5)\n",
    "    model.evaluate(x_test, y_test)\n",
    "    # Printing how long it took with CPU\n",
    "    end = time.time() - start\n",
    "    print(end)\n",
    "\n",
    "# Using the GPU at slot 0\n",
    "with tf.device('/GPU:' + str(gpu_slot)):\n",
    "    # Starting a timer\n",
    "    start = time.time()\n",
    "\n",
    "    # Doing operations on CPU\n",
    "    model = tf.keras.models.Sequential([\n",
    "  tf.keras.layers.Flatten(input_shape=(28, 28)),\n",
    "  tf.keras.layers.Dense(128, activation='relu'),\n",
    "  tf.keras.layers.Dropout(0.2),\n",
    "  tf.keras.layers.Dense(10, activation='softmax')\n",
    "])\n",
    "\n",
    "    model.compile(optimizer='adam',\n",
    "              loss='sparse_categorical_crossentropy',\n",
    "              metrics=['accuracy'])\n",
    "\n",
    "    model.fit(x_train, y_train, epochs=5)\n",
    "    model.evaluate(x_test, y_test)\n",
    "\n",
    "    # Printing how long it took with CPU\n",
    "    end = time.time() - start\n",
    "    print(end)"
   ]
  },
  {
   "cell_type": "markdown",
   "metadata": {
    "tags": [
     "pdf-ignore"
    ]
   },
   "source": [
    "#### What is it?\n",
    "TensorFlow is a system for executing computational graphs over Tensor objects, with native support for performing backpropogation for its Variables. In it, we work with Tensors which are n-dimensional arrays analogous to the numpy ndarray.\n",
    "\n",
    "#### Why?\n",
    "\n",
    "* Our code will now run on GPUs! Much faster training. Writing your own modules to run on GPUs is beyond the scope of this class, unfortunately.\n",
    "* We want you to be ready to use one of these frameworks for your project so you can experiment more efficiently than if you were writing every feature you want to use by hand. \n",
    "* We want you to stand on the shoulders of giants! TensorFlow and PyTorch are both excellent frameworks that will make your lives a lot easier, and now that you understand their guts, you are free to use them :) \n",
    "* We want you to be exposed to the sort of deep learning code you might run into in academia or industry. "
   ]
  },
  {
   "cell_type": "markdown",
   "metadata": {
    "tags": [
     "pdf-ignore"
    ]
   },
   "source": [
    "## How will I learn TensorFlow?\n",
    "\n",
    "TensorFlow has many excellent tutorials available, including those from [Google themselves](https://www.tensorflow.org/get_started/get_started).\n",
    "\n",
    "Otherwise, this notebook will walk you through much of what you need to do to train models in TensorFlow. See the end of the notebook for some links to helpful tutorials if you want to learn more or need further clarification on topics that aren't fully explained here.\n",
    "\n",
    "**NOTE: This notebook is meant to teach you the latest version of Tensorflow 2.0. Most examples on the web today are still in 1.x, so be careful not to confuse the two when looking up documentation**.\n",
    "\n",
    "## Install Tensorflow 2.0\n",
    "Tensorflow 2.0 is still not in a fully 100% stable release, but it's still usable and more intuitive than TF 1.x. Please make sure you have it installed before moving on in this notebook! Here are some steps to get started:\n",
    "\n",
    "1. Have the latest version of Anaconda installed on your machine.\n",
    "2. Create a new conda environment starting from Python 3.7. In this setup example, we'll call it `tf_20_env`.\n",
    "3. Run the command: `source activate tf_20_env`\n",
    "4. Then pip install TF 2.0 as described here: https://www.tensorflow.org/install/pip \n",
    "\n",
    "A guide on creating Anaconda enviornments: https://uoa-eresearch.github.io/eresearch-cookbook/recipe/2014/11/20/conda/\n",
    "\n",
    "This will give you an new enviornemnt to play in TF 2.0. Generally, if you plan to also use TensorFlow in your other projects, you might also want to keep a seperate Conda environment or virtualenv in Python 3.7 that has Tensorflow 1.9, so you can switch back and forth at will. "
   ]
  },
  {
   "cell_type": "markdown",
   "metadata": {
    "tags": [
     "pdf-ignore"
    ]
   },
   "source": [
    "# Table of Contents\n",
    "\n",
    "This notebook has 5 parts. We will walk through TensorFlow at **three different levels of abstraction**, which should help you better understand it and prepare you for working on your project.\n",
    "\n",
    "1. Part I, Preparation: load the CIFAR-10 dataset.\n",
    "2. Part II, Barebone TensorFlow: **Abstraction Level 1**, we will work directly with low-level TensorFlow graphs. \n",
    "3. Part III, Keras Model API: **Abstraction Level 2**, we will use `tf.keras.Model` to define arbitrary neural network architecture. \n",
    "4. Part IV, Keras Sequential + Functional API: **Abstraction Level 3**, we will use `tf.keras.Sequential` to define a linear feed-forward network very conveniently, and then explore the functional libraries for building unique and uncommon models that require more flexibility.\n",
    "5. Part V, CIFAR-10 open-ended challenge: please implement your own network to get as high accuracy as possible on CIFAR-10. You can experiment with any layer, optimizer, hyperparameters or other advanced features. \n",
    "\n",
    "We will discuss Keras in more detail later in the notebook.\n",
    "\n",
    "Here is a table of comparison:\n",
    "\n",
    "| API           | Flexibility | Convenience |\n",
    "|---------------|-------------|-------------|\n",
    "| Barebone      | High        | Low         |\n",
    "| `tf.keras.Model`     | High        | Medium      |\n",
    "| `tf.keras.Sequential` | Low         | High        |"
   ]
  },
  {
   "cell_type": "markdown",
   "metadata": {},
   "source": [
    "# Part I: Preparation\n",
    "\n",
    "First, we load the CIFAR-10 dataset. This might take a few minutes to download the first time you run it, but after that the files should be cached on disk and loading should be faster.\n",
    "\n",
    "In previous parts of the assignment we used CS231N-specific code to download and read the CIFAR-10 dataset; however the `tf.keras.datasets` package in TensorFlow provides prebuilt utility functions for loading many common datasets.\n",
    "\n",
    "For the purposes of this assignment we will still write our own code to preprocess the data and iterate through it in minibatches. The `tf.data` package in TensorFlow provides tools for automating this process, but working with this package adds extra complication and is beyond the scope of this notebook. However using `tf.data` can be much more efficient than the simple approach used in this notebook, so you should consider using it for your project."
   ]
  },
  {
   "cell_type": "code",
   "execution_count": 1,
   "metadata": {
    "tags": [
     "pdf-ignore"
    ]
   },
   "outputs": [],
   "source": [
    "import os\n",
    "import tensorflow as tf\n",
    "import numpy as np\n",
    "import math\n",
    "import timeit\n",
    "import matplotlib.pyplot as plt\n",
    "\n",
    "%matplotlib inline"
   ]
  },
  {
   "cell_type": "code",
   "execution_count": 2,
   "metadata": {
    "tags": [
     "pdf-ignore"
    ]
   },
   "outputs": [
    {
     "name": "stdout",
     "output_type": "stream",
     "text": [
      "Train data shape:  (49000, 32, 32, 3)\n",
      "Train labels shape:  (49000,) int32\n",
      "Validation data shape:  (1000, 32, 32, 3)\n",
      "Validation labels shape:  (1000,)\n",
      "Test data shape:  (10000, 32, 32, 3)\n",
      "Test labels shape:  (10000,)\n"
     ]
    }
   ],
   "source": [
    "def load_cifar10(num_training=49000, num_validation=1000, num_test=10000):\n",
    "    \"\"\"\n",
    "    Fetch the CIFAR-10 dataset from the web and perform preprocessing to prepare\n",
    "    it for the two-layer neural net classifier. These are the same steps as\n",
    "    we used for the SVM, but condensed to a single function.\n",
    "    \"\"\"\n",
    "    # Load the raw CIFAR-10 dataset and use appropriate data types and shapes\n",
    "    cifar10 = tf.keras.datasets.cifar10.load_data()\n",
    "    (X_train, y_train), (X_test, y_test) = cifar10\n",
    "    X_train = np.asarray(X_train, dtype=np.float32)\n",
    "    y_train = np.asarray(y_train, dtype=np.int32).flatten()\n",
    "    X_test = np.asarray(X_test, dtype=np.float32)\n",
    "    y_test = np.asarray(y_test, dtype=np.int32).flatten()\n",
    "\n",
    "    # Subsample the data\n",
    "    mask = range(num_training, num_training + num_validation)\n",
    "    X_val = X_train[mask]\n",
    "    y_val = y_train[mask]\n",
    "    mask = range(num_training)\n",
    "    X_train = X_train[mask]\n",
    "    y_train = y_train[mask]\n",
    "    mask = range(num_test)\n",
    "    X_test = X_test[mask]\n",
    "    y_test = y_test[mask]\n",
    "\n",
    "    # Normalize the data: subtract the mean pixel and divide by std\n",
    "    mean_pixel = X_train.mean(axis=(0, 1, 2), keepdims=True)\n",
    "    std_pixel = X_train.std(axis=(0, 1, 2), keepdims=True)\n",
    "    X_train = (X_train - mean_pixel) / std_pixel\n",
    "    X_val = (X_val - mean_pixel) / std_pixel\n",
    "    X_test = (X_test - mean_pixel) / std_pixel\n",
    "\n",
    "    return X_train, y_train, X_val, y_val, X_test, y_test\n",
    "\n",
    "# If there are errors with SSL downloading involving self-signed certificates,\n",
    "# it may be that your Python version was recently installed on the current machine.\n",
    "# See: https://github.com/tensorflow/tensorflow/issues/10779\n",
    "# To fix, run the command: /Applications/Python\\ 3.7/Install\\ Certificates.command\n",
    "#   ...replacing paths as necessary.\n",
    "\n",
    "# Invoke the above function to get our data.\n",
    "NHW = (0, 1, 2)\n",
    "X_train, y_train, X_val, y_val, X_test, y_test = load_cifar10()\n",
    "print('Train data shape: ', X_train.shape)\n",
    "print('Train labels shape: ', y_train.shape, y_train.dtype)\n",
    "print('Validation data shape: ', X_val.shape)\n",
    "print('Validation labels shape: ', y_val.shape)\n",
    "print('Test data shape: ', X_test.shape)\n",
    "print('Test labels shape: ', y_test.shape)"
   ]
  },
  {
   "cell_type": "code",
   "execution_count": 3,
   "metadata": {
    "tags": [
     "pdf-ignore"
    ]
   },
   "outputs": [],
   "source": [
    "class Dataset(object):\n",
    "    def __init__(self, X, y, batch_size, shuffle=False):\n",
    "        \"\"\"\n",
    "        Construct a Dataset object to iterate over data X and labels y\n",
    "        \n",
    "        Inputs:\n",
    "        - X: Numpy array of data, of any shape\n",
    "        - y: Numpy array of labels, of any shape but with y.shape[0] == X.shape[0]\n",
    "        - batch_size: Integer giving number of elements per minibatch\n",
    "        - shuffle: (optional) Boolean, whether to shuffle the data on each epoch\n",
    "        \"\"\"\n",
    "        assert X.shape[0] == y.shape[0], 'Got different numbers of data and labels'\n",
    "        self.X, self.y = X, y\n",
    "        self.batch_size, self.shuffle = batch_size, shuffle\n",
    "\n",
    "    def __iter__(self):\n",
    "        N, B = self.X.shape[0], self.batch_size\n",
    "        idxs = np.arange(N)\n",
    "        if self.shuffle:\n",
    "            np.random.shuffle(idxs)\n",
    "        return iter((self.X[i:i+B], self.y[i:i+B]) for i in range(0, N, B))\n",
    "\n",
    "\n",
    "train_dset = Dataset(X_train, y_train, batch_size=64, shuffle=True)\n",
    "val_dset = Dataset(X_val, y_val, batch_size=64, shuffle=False)\n",
    "test_dset = Dataset(X_test, y_test, batch_size=64)"
   ]
  },
  {
   "cell_type": "code",
   "execution_count": 4,
   "metadata": {},
   "outputs": [
    {
     "name": "stdout",
     "output_type": "stream",
     "text": [
      "0 (64, 32, 32, 3) (64,)\n",
      "1 (64, 32, 32, 3) (64,)\n",
      "2 (64, 32, 32, 3) (64,)\n",
      "3 (64, 32, 32, 3) (64,)\n",
      "4 (64, 32, 32, 3) (64,)\n",
      "5 (64, 32, 32, 3) (64,)\n",
      "6 (64, 32, 32, 3) (64,)\n"
     ]
    }
   ],
   "source": [
    "# We can iterate through a dataset like this:\n",
    "for t, (x, y) in enumerate(train_dset):\n",
    "    print(t, x.shape, y.shape)\n",
    "    if t > 5: break"
   ]
  },
  {
   "cell_type": "markdown",
   "metadata": {},
   "source": [
    "You can optionally **use GPU by setting the flag to True below**. It's not neccessary to use a GPU for this assignment; if you are working on Google Cloud then we recommend that you do not use a GPU, as it will be significantly more expensive."
   ]
  },
  {
   "cell_type": "code",
   "execution_count": 5,
   "metadata": {
    "tags": [
     "pdf-ignore-input"
    ]
   },
   "outputs": [
    {
     "name": "stdout",
     "output_type": "stream",
     "text": [
      "Using device:  /device:GPU:0\n"
     ]
    }
   ],
   "source": [
    "# Set up some global variables\n",
    "USE_GPU = True\n",
    "\n",
    "if USE_GPU:\n",
    "    device = '/device:GPU:0'\n",
    "else:\n",
    "    device = '/cpu:0'\n",
    "\n",
    "# Constant to control how often we print when training models\n",
    "print_every = 100\n",
    "\n",
    "print('Using device: ', device)"
   ]
  },
  {
   "cell_type": "markdown",
   "metadata": {
    "tags": [
     "pdf-ignore"
    ]
   },
   "source": [
    "# Part II: Barebones TensorFlow\n",
    "TensorFlow ships with various high-level APIs which make it very convenient to define and train neural networks; we will cover some of these constructs in Part III and Part IV of this notebook. In this section we will start by building a model with basic TensorFlow constructs to help you better understand what's going on under the hood of the higher-level APIs.\n",
    "\n",
    "**\"Barebones Tensorflow\" is important to understanding the building blocks of TensorFlow, but much of it involves concepts from TensorFlow 1.x.** We will be working with legacy modules such as `tf.Variable`.\n",
    "\n",
    "Therefore, please read and understand the differences between legacy (1.x) TF and the new (2.0) TF.\n",
    "\n",
    "### Historical background on TensorFlow 1.x\n",
    "\n",
    "TensorFlow 1.x is primarily a framework for working with **static computational graphs**. Nodes in the computational graph are Tensors which will hold n-dimensional arrays when the graph is run; edges in the graph represent functions that will operate on Tensors when the graph is run to actually perform useful computation.\n",
    "\n",
    "Before Tensorflow 2.0, we had to configure the graph into two phases. There are plenty of tutorials online that explain this two-step process. The process generally looks like the following for TF 1.x:\n",
    "1. **Build a computational graph that describes the computation that you want to perform**. This stage doesn't actually perform any computation; it just builds up a symbolic representation of your computation. This stage will typically define one or more `placeholder` objects that represent inputs to the computational graph.\n",
    "2. **Run the computational graph many times.** Each time the graph is run (e.g. for one gradient descent step) you will specify which parts of the graph you want to compute, and pass a `feed_dict` dictionary that will give concrete values to any `placeholder`s in the graph.\n",
    "\n",
    "### The new paradigm in Tensorflow 2.0\n",
    "Now, with Tensorflow 2.0, we can simply adopt a functional form that is more Pythonic and similar in spirit to PyTorch and direct Numpy operation. Instead of the 2-step paradigm with computation graphs, making it (among other things) easier to debug TF code. You can read more details at https://www.tensorflow.org/guide/eager.\n",
    "\n",
    "The main difference between the TF 1.x and 2.0 approach is that the 2.0 approach doesn't make use of `tf.Session`, `tf.run`, `placeholder`, `feed_dict`. To get more details of what's different between the two version and how to convert between the two, check out the official migration guide: https://www.tensorflow.org/alpha/guide/migration_guide\n",
    "\n",
    "Later, in the rest of this notebook we'll focus on this new, simpler approach."
   ]
  },
  {
   "cell_type": "markdown",
   "metadata": {
    "tags": [
     "pdf-ignore"
    ]
   },
   "source": [
    "### TensorFlow warmup: Flatten Function\n",
    "\n",
    "We can see this in action by defining a simple `flatten` function that will reshape image data for use in a fully-connected network.\n",
    "\n",
    "In TensorFlow, data for convolutional feature maps is typically stored in a Tensor of shape N x H x W x C where:\n",
    "\n",
    "- N is the number of datapoints (minibatch size)\n",
    "- H is the height of the feature map\n",
    "- W is the width of the feature map\n",
    "- C is the number of channels in the feature map\n",
    "\n",
    "This is the right way to represent the data when we are doing something like a 2D convolution, that needs spatial understanding of where the intermediate features are relative to each other. When we use fully connected affine layers to process the image, however, we want each datapoint to be represented by a single vector -- it's no longer useful to segregate the different channels, rows, and columns of the data. So, we use a \"flatten\" operation to collapse the `H x W x C` values per representation into a single long vector. \n",
    "\n",
    "Notice the `tf.reshape` call has the target shape as `(N, -1)`, meaning it will reshape/keep the first dimension to be N, and then infer as necessary what the second dimension is in the output, so we can collapse the remaining dimensions from the input properly.\n",
    "\n",
    "**NOTE**: TensorFlow and PyTorch differ on the default Tensor layout; TensorFlow uses N x H x W x C but PyTorch uses N x C x H x W."
   ]
  },
  {
   "cell_type": "code",
   "execution_count": 6,
   "metadata": {
    "tags": [
     "pdf-ignore"
    ]
   },
   "outputs": [],
   "source": [
    "def flatten(x):\n",
    "    \"\"\"    \n",
    "    Input:\n",
    "    - TensorFlow Tensor of shape (N, D1, ..., DM)\n",
    "    \n",
    "    Output:\n",
    "    - TensorFlow Tensor of shape (N, D1 * ... * DM)\n",
    "    \"\"\"\n",
    "    N = tf.shape(x)[0]\n",
    "    return tf.reshape(x, (N, -1))"
   ]
  },
  {
   "cell_type": "code",
   "execution_count": 7,
   "metadata": {
    "tags": [
     "pdf-ignore-input"
    ]
   },
   "outputs": [
    {
     "name": "stdout",
     "output_type": "stream",
     "text": [
      "x_np:\n",
      " [[[ 0  1  2  3]\n",
      "  [ 4  5  6  7]\n",
      "  [ 8  9 10 11]]\n",
      "\n",
      " [[12 13 14 15]\n",
      "  [16 17 18 19]\n",
      "  [20 21 22 23]]] \n",
      "\n",
      "x_flat_np:\n",
      " tf.Tensor(\n",
      "[[ 0  1  2  3  4  5  6  7  8  9 10 11]\n",
      " [12 13 14 15 16 17 18 19 20 21 22 23]], shape=(2, 12), dtype=int64) \n",
      "\n"
     ]
    }
   ],
   "source": [
    "def test_flatten():\n",
    "    # Construct concrete values of the input data x using numpy\n",
    "    x_np = np.arange(24).reshape((2, 3, 4))\n",
    "    print('x_np:\\n', x_np, '\\n')\n",
    "    # Compute a concrete output value.\n",
    "    x_flat_np = flatten(x_np)\n",
    "    print('x_flat_np:\\n', x_flat_np, '\\n')\n",
    "\n",
    "test_flatten()"
   ]
  },
  {
   "cell_type": "markdown",
   "metadata": {},
   "source": [
    "### Barebones TensorFlow: Define a Two-Layer Network\n",
    "We will now implement our first neural network with TensorFlow: a fully-connected ReLU network with two hidden layers and no biases on the CIFAR10 dataset. For now we will use only low-level TensorFlow operators to define the network; later we will see how to use the higher-level abstractions provided by `tf.keras` to simplify the process.\n",
    "\n",
    "We will define the forward pass of the network in the function `two_layer_fc`; this will accept TensorFlow Tensors for the inputs and weights of the network, and return a TensorFlow Tensor for the scores. \n",
    "\n",
    "After defining the network architecture in the `two_layer_fc` function, we will test the implementation by checking the shape of the output.\n",
    "\n",
    "**It's important that you read and understand this implementation.**"
   ]
  },
  {
   "cell_type": "code",
   "execution_count": 8,
   "metadata": {
    "tags": [
     "pdf-ignore"
    ]
   },
   "outputs": [],
   "source": [
    "def two_layer_fc(x, params):\n",
    "    \"\"\"\n",
    "    A fully-connected neural network; the architecture is:\n",
    "    fully-connected layer -> ReLU -> fully connected layer.\n",
    "    Note that we only need to define the forward pass here; TensorFlow will take\n",
    "    care of computing the gradients for us.\n",
    "    \n",
    "    The input to the network will be a minibatch of data, of shape\n",
    "    (N, d1, ..., dM) where d1 * ... * dM = D. The hidden layer will have H units,\n",
    "    and the output layer will produce scores for C classes.\n",
    "\n",
    "    Inputs:\n",
    "    - x: A TensorFlow Tensor of shape (N, d1, ..., dM) giving a minibatch of\n",
    "      input data.\n",
    "    - params: A list [w1, w2] of TensorFlow Tensors giving weights for the\n",
    "      network, where w1 has shape (D, H) and w2 has shape (H, C).\n",
    "    \n",
    "    Returns:\n",
    "    - scores: A TensorFlow Tensor of shape (N, C) giving classification scores\n",
    "      for the input data x.\n",
    "    \"\"\"\n",
    "    w1, w2 = params                   # Unpack the parameters\n",
    "    x = flatten(x)                    # Flatten the input; now x has shape (N, D)\n",
    "    h = tf.nn.relu(tf.matmul(x, w1))  # Hidden layer: h has shape (N, H)\n",
    "    scores = tf.matmul(h, w2)         # Compute scores of shape (N, C)\n",
    "    return scores"
   ]
  },
  {
   "cell_type": "code",
   "execution_count": 9,
   "metadata": {
    "tags": [
     "pdf-ignore-input"
    ]
   },
   "outputs": [
    {
     "name": "stdout",
     "output_type": "stream",
     "text": [
      "(64, 10)\n"
     ]
    }
   ],
   "source": [
    "def two_layer_fc_test():\n",
    "    hidden_layer_size = 42\n",
    "\n",
    "    # Scoping our TF operations under a tf.device context manager \n",
    "    # lets us tell TensorFlow where we want these Tensors to be\n",
    "    # multiplied and/or operated on, e.g. on a CPU or a GPU.\n",
    "    with tf.device(device):        \n",
    "        x = tf.zeros((64, 32, 32, 3))\n",
    "        w1 = tf.zeros((32 * 32 * 3, hidden_layer_size))\n",
    "        w2 = tf.zeros((hidden_layer_size, 10))\n",
    "\n",
    "        # Call our two_layer_fc function for the forward pass of the network.\n",
    "        scores = two_layer_fc(x, [w1, w2])\n",
    "\n",
    "    print(scores.shape)\n",
    "\n",
    "two_layer_fc_test()"
   ]
  },
  {
   "cell_type": "markdown",
   "metadata": {},
   "source": [
    "### Barebones TensorFlow: Three-Layer ConvNet\n",
    "Here you will complete the implementation of the function `three_layer_convnet` which will perform the forward pass of a three-layer convolutional network. The network should have the following architecture:\n",
    "\n",
    "1. A convolutional layer (with bias) with `channel_1` filters, each with shape `KW1 x KH1`, and zero-padding of two\n",
    "2. ReLU nonlinearity\n",
    "3. A convolutional layer (with bias) with `channel_2` filters, each with shape `KW2 x KH2`, and zero-padding of one\n",
    "4. ReLU nonlinearity\n",
    "5. Fully-connected layer with bias, producing scores for `C` classes.\n",
    "\n",
    "**HINT**: For convolutions: https://www.tensorflow.org/versions/r2.0/api_docs/python/tf/nn/conv2d; be careful with padding!\n",
    "\n",
    "**HINT**: For biases: https://www.tensorflow.org/performance/xla/broadcasting"
   ]
  },
  {
   "cell_type": "code",
   "execution_count": 10,
   "metadata": {},
   "outputs": [],
   "source": [
    "def three_layer_convnet(x, params):\n",
    "    \"\"\"\n",
    "    A three-layer convolutional network with the architecture described above.\n",
    "    \n",
    "    Inputs:\n",
    "    - x: A TensorFlow Tensor of shape (N, H, W, 3) giving a minibatch of images\n",
    "    - params: A list of TensorFlow Tensors giving the weights and biases for the\n",
    "      network; should contain the following:\n",
    "      - conv_w1: TensorFlow Tensor of shape (KH1, KW1, 3, channel_1) giving\n",
    "        weights for the first convolutional layer.\n",
    "      - conv_b1: TensorFlow Tensor of shape (channel_1,) giving biases for the\n",
    "        first convolutional layer.\n",
    "      - conv_w2: TensorFlow Tensor of shape (KH2, KW2, channel_1, channel_2)\n",
    "        giving weights for the second convolutional layer\n",
    "      - conv_b2: TensorFlow Tensor of shape (channel_2,) giving biases for the\n",
    "        second convolutional layer.\n",
    "      - fc_w: TensorFlow Tensor giving weights for the fully-connected layer.\n",
    "        Can you figure out what the shape should be?\n",
    "      - fc_b: TensorFlow Tensor giving biases for the fully-connected layer.\n",
    "        Can you figure out what the shape should be?\n",
    "    \"\"\"\n",
    "    conv_w1, conv_b1, conv_w2, conv_b2, fc_w, fc_b = params\n",
    "    scores = None\n",
    "    ############################################################################\n",
    "    # TODO: Implement the forward pass for the three-layer ConvNet.            #\n",
    "    ############################################################################\n",
    "    # *****START OF YOUR CODE (DO NOT DELETE/MODIFY THIS LINE)*****\n",
    "\n",
    "    out = tf.nn.conv2d(x, conv_w1, 1, 'SAME', dilations = 2)\n",
    "    out = tf.nn.bias_add(out, conv_b1)\n",
    "    out = tf.nn.relu(out)\n",
    "    out = tf.nn.conv2d(out, conv_w2, 1, 'SAME', dilations = 1)\n",
    "    out = tf.nn.bias_add(out, conv_b2)\n",
    "    out = tf.nn.relu(out)\n",
    "    out = flatten(out)                   \n",
    "    out = tf.matmul(out, fc_w) \n",
    "    scores = tf.nn.bias_add(out, fc_b) \n",
    "\n",
    "    # *****END OF YOUR CODE (DO NOT DELETE/MODIFY THIS LINE)*****\n",
    "    ############################################################################\n",
    "    #                              END OF YOUR CODE                            #\n",
    "    ############################################################################\n",
    "    return scores"
   ]
  },
  {
   "cell_type": "markdown",
   "metadata": {},
   "source": [
    "After defing the forward pass of the three-layer ConvNet above, run the following cell to test your implementation. Like the two-layer network, we run the graph on a batch of zeros just to make sure the function doesn't crash, and produces outputs of the correct shape.\n",
    "\n",
    "When you run this function, `scores_np` should have shape `(64, 10)`."
   ]
  },
  {
   "cell_type": "code",
   "execution_count": 11,
   "metadata": {
    "tags": [
     "pdf-ignore-input"
    ]
   },
   "outputs": [
    {
     "name": "stdout",
     "output_type": "stream",
     "text": [
      "scores_np has shape:  (64, 10)\n"
     ]
    }
   ],
   "source": [
    "def three_layer_convnet_test():\n",
    "    \n",
    "    with tf.device(device):\n",
    "        x = tf.zeros((64, 32, 32, 3))\n",
    "        conv_w1 = tf.zeros((5, 5, 3, 6))\n",
    "        conv_b1 = tf.zeros((6,))\n",
    "        conv_w2 = tf.zeros((3, 3, 6, 9))\n",
    "        conv_b2 = tf.zeros((9,))\n",
    "        fc_w = tf.zeros((32 * 32 * 9, 10))\n",
    "        fc_b = tf.zeros((10,))\n",
    "        params = [conv_w1, conv_b1, conv_w2, conv_b2, fc_w, fc_b]\n",
    "        scores = three_layer_convnet(x, params)\n",
    "\n",
    "    # Inputs to convolutional layers are 4-dimensional arrays with shape\n",
    "    # [batch_size, height, width, channels]\n",
    "    print('scores_np has shape: ', scores.shape)\n",
    "\n",
    "three_layer_convnet_test()"
   ]
  },
  {
   "cell_type": "markdown",
   "metadata": {},
   "source": [
    "### Barebones TensorFlow: Training Step\n",
    "\n",
    "We now define the `training_step` function performs a single training step. This will take three basic steps:\n",
    "\n",
    "1. Compute the loss\n",
    "2. Compute the gradient of the loss with respect to all network weights\n",
    "3. Make a weight update step using (stochastic) gradient descent.\n",
    "\n",
    "\n",
    "We need to use a few new TensorFlow functions to do all of this:\n",
    "- For computing the cross-entropy loss we'll use `tf.nn.sparse_softmax_cross_entropy_with_logits`: https://www.tensorflow.org/versions/r2.0/api_docs/python/tf/nn/sparse_softmax_cross_entropy_with_logits\n",
    "\n",
    "- For averaging the loss across a minibatch of data we'll use `tf.reduce_mean`:\n",
    "https://www.tensorflow.org/versions/r2.0/api_docs/python/tf/reduce_mean\n",
    "\n",
    "- For computing gradients of the loss with respect to the weights we'll use `tf.GradientTape` (useful for Eager execution):  https://www.tensorflow.org/versions/r2.0/api_docs/python/tf/GradientTape\n",
    "\n",
    "- We'll mutate the weight values stored in a TensorFlow Tensor using `tf.assign_sub` (\"sub\" is for subtraction): https://www.tensorflow.org/api_docs/python/tf/assign_sub \n"
   ]
  },
  {
   "cell_type": "code",
   "execution_count": 12,
   "metadata": {
    "tags": [
     "pdf-ignore"
    ]
   },
   "outputs": [],
   "source": [
    "def training_step(model_fn, x, y, params, learning_rate):\n",
    "    with tf.GradientTape() as tape:\n",
    "        scores = model_fn(x, params) # Forward pass of the model\n",
    "        loss = tf.nn.sparse_softmax_cross_entropy_with_logits(labels=y, logits=scores)\n",
    "        total_loss = tf.reduce_mean(loss)\n",
    "        grad_params = tape.gradient(total_loss, params)\n",
    "\n",
    "        # Make a vanilla gradient descent step on all of the model parameters\n",
    "        # Manually update the weights using assign_sub()\n",
    "        for w, grad_w in zip(params, grad_params):\n",
    "            w.assign_sub(learning_rate * grad_w)\n",
    "                        \n",
    "        return total_loss"
   ]
  },
  {
   "cell_type": "code",
   "execution_count": 13,
   "metadata": {
    "tags": [
     "pdf-ignore"
    ]
   },
   "outputs": [],
   "source": [
    "def train_part2(model_fn, init_fn, learning_rate):\n",
    "    \"\"\"\n",
    "    Train a model on CIFAR-10.\n",
    "    \n",
    "    Inputs:\n",
    "    - model_fn: A Python function that performs the forward pass of the model\n",
    "      using TensorFlow; it should have the following signature:\n",
    "      scores = model_fn(x, params) where x is a TensorFlow Tensor giving a\n",
    "      minibatch of image data, params is a list of TensorFlow Tensors holding\n",
    "      the model weights, and scores is a TensorFlow Tensor of shape (N, C)\n",
    "      giving scores for all elements of x.\n",
    "    - init_fn: A Python function that initializes the parameters of the model.\n",
    "      It should have the signature params = init_fn() where params is a list\n",
    "      of TensorFlow Tensors holding the (randomly initialized) weights of the\n",
    "      model.\n",
    "    - learning_rate: Python float giving the learning rate to use for SGD.\n",
    "    \"\"\"\n",
    "    \n",
    "    \n",
    "    params = init_fn()  # Initialize the model parameters            \n",
    "        \n",
    "    for t, (x_np, y_np) in enumerate(train_dset):\n",
    "        # Run the graph on a batch of training data.\n",
    "        loss = training_step(model_fn, x_np, y_np, params, learning_rate)\n",
    "        \n",
    "        # Periodically print the loss and check accuracy on the val set.\n",
    "        if t % print_every == 0:\n",
    "            print('Iteration %d, loss = %.4f' % (t, loss))\n",
    "            check_accuracy(val_dset, x_np, model_fn, params)"
   ]
  },
  {
   "cell_type": "code",
   "execution_count": 14,
   "metadata": {
    "tags": [
     "pdf-ignore"
    ]
   },
   "outputs": [],
   "source": [
    "def check_accuracy(dset, x, model_fn, params):\n",
    "    \"\"\"\n",
    "    Check accuracy on a classification model, e.g. for validation.\n",
    "    \n",
    "    Inputs:\n",
    "    - dset: A Dataset object against which to check accuracy\n",
    "    - x: A TensorFlow placeholder Tensor where input images should be fed\n",
    "    - model_fn: the Model we will be calling to make predictions on x\n",
    "    - params: parameters for the model_fn to work with\n",
    "      \n",
    "    Returns: Nothing, but prints the accuracy of the model\n",
    "    \"\"\"\n",
    "    num_correct, num_samples = 0, 0\n",
    "    for x_batch, y_batch in dset:\n",
    "        scores_np = model_fn(x_batch, params).numpy()\n",
    "        y_pred = scores_np.argmax(axis=1)\n",
    "        num_samples += x_batch.shape[0]\n",
    "        num_correct += (y_pred == y_batch).sum()\n",
    "    acc = float(num_correct) / num_samples\n",
    "    print('Got %d / %d correct (%.2f%%)' % (num_correct, num_samples, 100 * acc))"
   ]
  },
  {
   "cell_type": "markdown",
   "metadata": {},
   "source": [
    "### Barebones TensorFlow: Initialization\n",
    "We'll use the following utility method to initialize the weight matrices for our models using Kaiming's normalization method.\n",
    "\n",
    "[1] He et al, *Delving Deep into Rectifiers: Surpassing Human-Level Performance on ImageNet Classification\n",
    "*, ICCV 2015, https://arxiv.org/abs/1502.01852"
   ]
  },
  {
   "cell_type": "code",
   "execution_count": 15,
   "metadata": {},
   "outputs": [],
   "source": [
    "def create_matrix_with_kaiming_normal(shape):\n",
    "    if len(shape) == 2:\n",
    "        fan_in, fan_out = shape[0], shape[1]\n",
    "    elif len(shape) == 4:\n",
    "        fan_in, fan_out = np.prod(shape[:3]), shape[3]\n",
    "    return tf.keras.backend.random_normal(shape) * np.sqrt(2.0 / fan_in)"
   ]
  },
  {
   "cell_type": "markdown",
   "metadata": {},
   "source": [
    "### Barebones TensorFlow: Train a Two-Layer Network\n",
    "We are finally ready to use all of the pieces defined above to train a two-layer fully-connected network on CIFAR-10.\n",
    "\n",
    "We just need to define a function to initialize the weights of the model, and call `train_part2`.\n",
    "\n",
    "Defining the weights of the network introduces another important piece of TensorFlow API: `tf.Variable`. A TensorFlow Variable is a Tensor whose value is stored in the graph and persists across runs of the computational graph; however unlike constants defined with `tf.zeros` or `tf.random_normal`, the values of a Variable can be mutated as the graph runs; these mutations will persist across graph runs. Learnable parameters of the network are usually stored in Variables.\n",
    "\n",
    "You don't need to tune any hyperparameters, but you should achieve validation accuracies above 40% after one epoch of training."
   ]
  },
  {
   "cell_type": "code",
   "execution_count": 16,
   "metadata": {},
   "outputs": [
    {
     "name": "stdout",
     "output_type": "stream",
     "text": [
      "Iteration 0, loss = 3.0987\n",
      "Got 121 / 1000 correct (12.10%)\n",
      "Iteration 100, loss = 1.8811\n",
      "Got 382 / 1000 correct (38.20%)\n",
      "Iteration 200, loss = 1.3872\n",
      "Got 391 / 1000 correct (39.10%)\n",
      "Iteration 300, loss = 1.7683\n",
      "Got 368 / 1000 correct (36.80%)\n",
      "Iteration 400, loss = 1.7726\n",
      "Got 408 / 1000 correct (40.80%)\n",
      "Iteration 500, loss = 1.8374\n",
      "Got 421 / 1000 correct (42.10%)\n",
      "Iteration 600, loss = 1.8745\n",
      "Got 419 / 1000 correct (41.90%)\n",
      "Iteration 700, loss = 1.9121\n",
      "Got 457 / 1000 correct (45.70%)\n"
     ]
    }
   ],
   "source": [
    "def two_layer_fc_init():\n",
    "    \"\"\"\n",
    "    Initialize the weights of a two-layer network, for use with the\n",
    "    two_layer_network function defined above. \n",
    "    You can use the `create_matrix_with_kaiming_normal` helper!\n",
    "    \n",
    "    Inputs: None\n",
    "    \n",
    "    Returns: A list of:\n",
    "    - w1: TensorFlow tf.Variable giving the weights for the first layer\n",
    "    - w2: TensorFlow tf.Variable giving the weights for the second layer\n",
    "    \"\"\"\n",
    "    hidden_layer_size = 4000\n",
    "    w1 = tf.Variable(create_matrix_with_kaiming_normal((3 * 32 * 32, 4000)))\n",
    "    w2 = tf.Variable(create_matrix_with_kaiming_normal((4000, 10)))\n",
    "    return [w1, w2]\n",
    "\n",
    "learning_rate = 1e-2\n",
    "train_part2(two_layer_fc, two_layer_fc_init, learning_rate)"
   ]
  },
  {
   "cell_type": "markdown",
   "metadata": {},
   "source": [
    "### Barebones TensorFlow: Train a three-layer ConvNet\n",
    "We will now use TensorFlow to train a three-layer ConvNet on CIFAR-10.\n",
    "\n",
    "You need to implement the `three_layer_convnet_init` function. Recall that the architecture of the network is:\n",
    "\n",
    "1. Convolutional layer (with bias) with 32 5x5 filters, with zero-padding 2\n",
    "2. ReLU\n",
    "3. Convolutional layer (with bias) with 16 3x3 filters, with zero-padding 1\n",
    "4. ReLU\n",
    "5. Fully-connected layer (with bias) to compute scores for 10 classes\n",
    "\n",
    "You don't need to do any hyperparameter tuning, but you should see validation accuracies above 43% after one epoch of training."
   ]
  },
  {
   "cell_type": "code",
   "execution_count": 17,
   "metadata": {},
   "outputs": [
    {
     "name": "stdout",
     "output_type": "stream",
     "text": [
      "Iteration 0, loss = 2.8345\n",
      "Got 91 / 1000 correct (9.10%)\n",
      "Iteration 100, loss = 1.9490\n",
      "Got 365 / 1000 correct (36.50%)\n",
      "Iteration 200, loss = 1.5442\n",
      "Got 398 / 1000 correct (39.80%)\n",
      "Iteration 300, loss = 1.7015\n",
      "Got 406 / 1000 correct (40.60%)\n",
      "Iteration 400, loss = 1.6082\n",
      "Got 449 / 1000 correct (44.90%)\n",
      "Iteration 500, loss = 1.7794\n",
      "Got 457 / 1000 correct (45.70%)\n",
      "Iteration 600, loss = 1.7129\n",
      "Got 460 / 1000 correct (46.00%)\n",
      "Iteration 700, loss = 1.6183\n",
      "Got 468 / 1000 correct (46.80%)\n"
     ]
    }
   ],
   "source": [
    "def three_layer_convnet_init():\n",
    "    \"\"\"\n",
    "    Initialize the weights of a Three-Layer ConvNet, for use with the\n",
    "    three_layer_convnet function defined above.\n",
    "    You can use the `create_matrix_with_kaiming_normal` helper!\n",
    "    \n",
    "    Inputs: None\n",
    "    \n",
    "    Returns a list containing:\n",
    "    - conv_w1: TensorFlow tf.Variable giving weights for the first conv layer\n",
    "    - conv_b1: TensorFlow tf.Variable giving biases for the first conv layer\n",
    "    - conv_w2: TensorFlow tf.Variable giving weights for the second conv layer\n",
    "    - conv_b2: TensorFlow tf.Variable giving biases for the second conv layer\n",
    "    - fc_w: TensorFlow tf.Variable giving weights for the fully-connected layer\n",
    "    - fc_b: TensorFlow tf.Variable giving biases for the fully-connected layer\n",
    "    \"\"\"\n",
    "    params = None\n",
    "    ############################################################################\n",
    "    # TODO: Initialize the parameters of the three-layer network.              #\n",
    "    ############################################################################\n",
    "    # *****START OF YOUR CODE (DO NOT DELETE/MODIFY THIS LINE)*****\n",
    "\n",
    "    conv_w1 = tf.Variable(create_matrix_with_kaiming_normal((5, 5, 3, 32)))\n",
    "    conv_b1 = tf.Variable(np.zeros((32,)), dtype = tf.float32)\n",
    "    conv_w2 = tf.Variable(create_matrix_with_kaiming_normal((3, 3, 32, 16)))\n",
    "    conv_b2 = tf.Variable(np.zeros((16,)), dtype = tf.float32)\n",
    "    fc_w = tf.Variable(create_matrix_with_kaiming_normal((32*32*16, 10)))\n",
    "    fc_b = tf.Variable(np.zeros((10,)), dtype = tf.float32)\n",
    "\n",
    "    params = (conv_w1, conv_b1, conv_w2, conv_b2, fc_w, fc_b)\n",
    "    # *****END OF YOUR CODE (DO NOT DELETE/MODIFY THIS LINE)*****\n",
    "    ############################################################################\n",
    "    #                             END OF YOUR CODE                             #\n",
    "    ############################################################################\n",
    "    return params\n",
    "\n",
    "learning_rate = 3e-3\n",
    "train_part2(three_layer_convnet, three_layer_convnet_init, learning_rate)"
   ]
  },
  {
   "cell_type": "markdown",
   "metadata": {
    "tags": [
     "pdf-ignore"
    ]
   },
   "source": [
    "# Part III: Keras Model Subclassing API\n",
    "\n",
    "Implementing a neural network using the low-level TensorFlow API is a good way to understand how TensorFlow works, but it's a little inconvenient - we had to manually keep track of all Tensors holding learnable parameters. This was fine for a small network, but could quickly become unweildy for a large complex model.\n",
    "\n",
    "Fortunately TensorFlow 2.0 provides higher-level APIs such as `tf.keras` which make it easy to build models out of modular, object-oriented layers. Further, TensorFlow 2.0 uses eager execution that evaluates operations immediately, without explicitly constructing any computational graphs. This makes it easy to write and debug models, and reduces the boilerplate code.\n",
    "\n",
    "In this part of the notebook we will define neural network models using the `tf.keras.Model` API. To implement your own model, you need to do the following:\n",
    "\n",
    "1. Define a new class which subclasses `tf.keras.Model`. Give your class an intuitive name that describes it, like `TwoLayerFC` or `ThreeLayerConvNet`.\n",
    "2. In the initializer `__init__()` for your new class, define all the layers you need as class attributes. The `tf.keras.layers` package provides many common neural-network layers, like `tf.keras.layers.Dense` for fully-connected layers and `tf.keras.layers.Conv2D` for convolutional layers. Under the hood, these layers will construct `Variable` Tensors for any learnable parameters. **Warning**: Don't forget to call `super(YourModelName, self).__init__()` as the first line in your initializer!\n",
    "3. Implement the `call()` method for your class; this implements the forward pass of your model, and defines the *connectivity* of your network. Layers defined in `__init__()` implement `__call__()` so they can be used as function objects that transform input Tensors into output Tensors. Don't define any new layers in `call()`; any layers you want to use in the forward pass should be defined in `__init__()`.\n",
    "\n",
    "After you define your `tf.keras.Model` subclass, you can instantiate it and use it like the model functions from Part II.\n",
    "\n",
    "### Keras Model Subclassing API: Two-Layer Network\n",
    "\n",
    "Here is a concrete example of using the `tf.keras.Model` API to define a two-layer network. There are a few new bits of API to be aware of here:\n",
    "\n",
    "We use an `Initializer` object to set up the initial values of the learnable parameters of the layers; in particular `tf.initializers.VarianceScaling` gives behavior similar to the Kaiming initialization method we used in Part II. You can read more about it here: https://www.tensorflow.org/versions/r2.0/api_docs/python/tf/initializers/VarianceScaling\n",
    "\n",
    "We construct `tf.keras.layers.Dense` objects to represent the two fully-connected layers of the model. In addition to multiplying their input by a weight matrix and adding a bias vector, these layer can also apply a nonlinearity for you. For the first layer we specify a ReLU activation function by passing `activation='relu'` to the constructor; the second layer uses softmax activation function. Finally, we use `tf.keras.layers.Flatten` to flatten the output from the previous fully-connected layer."
   ]
  },
  {
   "cell_type": "code",
   "execution_count": 18,
   "metadata": {
    "tags": [
     "pdf-ignore-input"
    ]
   },
   "outputs": [
    {
     "name": "stdout",
     "output_type": "stream",
     "text": [
      "(64, 10)\n"
     ]
    }
   ],
   "source": [
    "class TwoLayerFC(tf.keras.Model):\n",
    "    def __init__(self, hidden_size, num_classes):\n",
    "        super(TwoLayerFC, self).__init__()        \n",
    "        initializer = tf.initializers.VarianceScaling(scale=2.0)\n",
    "        self.fc1 = tf.keras.layers.Dense(hidden_size, activation='relu',\n",
    "                                   kernel_initializer=initializer)\n",
    "        self.fc2 = tf.keras.layers.Dense(num_classes, activation='softmax',\n",
    "                                   kernel_initializer=initializer)\n",
    "        self.flatten = tf.keras.layers.Flatten()\n",
    "    \n",
    "    def call(self, x, training=False):\n",
    "        x = self.flatten(x)\n",
    "        x = self.fc1(x)\n",
    "        x = self.fc2(x)\n",
    "        return x\n",
    "\n",
    "\n",
    "def test_TwoLayerFC():\n",
    "    \"\"\" A small unit test to exercise the TwoLayerFC model above. \"\"\"\n",
    "    input_size, hidden_size, num_classes = 50, 42, 10\n",
    "    x = tf.zeros((64, input_size))\n",
    "    model = TwoLayerFC(hidden_size, num_classes)\n",
    "    with tf.device(device):\n",
    "        scores = model(x)\n",
    "        print(scores.shape)\n",
    "        \n",
    "test_TwoLayerFC()"
   ]
  },
  {
   "cell_type": "markdown",
   "metadata": {},
   "source": [
    "### Keras Model Subclassing API: Three-Layer ConvNet\n",
    "Now it's your turn to implement a three-layer ConvNet using the `tf.keras.Model` API. Your model should have the same architecture used in Part II:\n",
    "\n",
    "1. Convolutional layer with 5 x 5 kernels, with zero-padding of 2\n",
    "2. ReLU nonlinearity\n",
    "3. Convolutional layer with 3 x 3 kernels, with zero-padding of 1\n",
    "4. ReLU nonlinearity\n",
    "5. Fully-connected layer to give class scores\n",
    "6. Softmax nonlinearity\n",
    "\n",
    "You should initialize the weights of your network using the same initialization method as was used in the two-layer network above.\n",
    "\n",
    "**Hint**: Refer to the documentation for `tf.keras.layers.Conv2D` and `tf.keras.layers.Dense`:\n",
    "\n",
    "https://www.tensorflow.org/versions/r2.0/api_docs/python/tf/keras/layers/Conv2D\n",
    "\n",
    "https://www.tensorflow.org/versions/r2.0/api_docs/python/tf/keras/layers/Dense"
   ]
  },
  {
   "cell_type": "code",
   "execution_count": 24,
   "metadata": {},
   "outputs": [],
   "source": [
    "class ThreeLayerConvNet(tf.keras.Model):\n",
    "    def __init__(self, channel_1, channel_2, num_classes):\n",
    "        super(ThreeLayerConvNet, self).__init__()\n",
    "        w_initializer = tf.initializers.VarianceScaling(scale=2.0)\n",
    "        ########################################################################\n",
    "        # TODO: Implement the __init__ method for a three-layer ConvNet. You   #\n",
    "        # should instantiate layer objects to be used in the forward pass.     #\n",
    "        ########################################################################\n",
    "        # *****START OF YOUR CODE (DO NOT DELETE/MODIFY THIS LINE)*****\n",
    "\n",
    "        self.conv_1 = tf.keras.layers.Conv2D(channel_1, (5, 5), (1, 1), 'same', activation = 'relu', use_bias = True,\n",
    "                                   kernel_initializer=w_initializer, bias_initializer = tf.zeros_initializer())\n",
    "        \n",
    "        self.conv_2 = tf.keras.layers.Conv2D(channel_2, (3, 3), (1, 1), 'same', activation = 'relu', use_bias = True,\n",
    "                                   kernel_initializer=w_initializer, bias_initializer = tf.zeros_initializer())\n",
    "        \n",
    "        self.fc = tf.keras.layers.Dense(num_classes, activation='softmax',\n",
    "                                   kernel_initializer=w_initializer)\n",
    "        \n",
    "        self.flatten = tf.keras.layers.Flatten()\n",
    "        # *****END OF YOUR CODE (DO NOT DELETE/MODIFY THIS LINE)*****\n",
    "        ########################################################################\n",
    "        #                           END OF YOUR CODE                           #\n",
    "        ########################################################################\n",
    "        \n",
    "    def call(self, x, training=False):\n",
    "        scores = None\n",
    "        ########################################################################\n",
    "        # TODO: Implement the forward pass for a three-layer ConvNet. You      #\n",
    "        # should use the layer objects defined in the __init__ method.         #\n",
    "        ########################################################################\n",
    "        # *****START OF YOUR CODE (DO NOT DELETE/MODIFY THIS LINE)*****\n",
    "\n",
    "        \n",
    "        x = self.conv_1(x)\n",
    "        x = self.conv_2(x)\n",
    "        x = self.flatten(x)\n",
    "        x = self.fc(x)\n",
    "        return x\n",
    "\n",
    "        # *****END OF YOUR CODE (DO NOT DELETE/MODIFY THIS LINE)*****\n",
    "        ########################################################################\n",
    "        #                           END OF YOUR CODE                           #\n",
    "        ########################################################################        \n",
    "        return scores"
   ]
  },
  {
   "cell_type": "markdown",
   "metadata": {},
   "source": [
    "Once you complete the implementation of the `ThreeLayerConvNet` above you can run the following to ensure that your implementation does not crash and produces outputs of the expected shape."
   ]
  },
  {
   "cell_type": "code",
   "execution_count": 25,
   "metadata": {},
   "outputs": [
    {
     "name": "stdout",
     "output_type": "stream",
     "text": [
      "(64, 10)\n"
     ]
    }
   ],
   "source": [
    "def test_ThreeLayerConvNet():    \n",
    "    channel_1, channel_2, num_classes = 12, 8, 10\n",
    "    model = ThreeLayerConvNet(channel_1, channel_2, num_classes)\n",
    "    with tf.device(device):\n",
    "        x = tf.zeros((64, 3, 32, 32))\n",
    "        scores = model(x)\n",
    "        print(scores.shape)\n",
    "\n",
    "test_ThreeLayerConvNet()"
   ]
  },
  {
   "cell_type": "markdown",
   "metadata": {},
   "source": [
    "### Keras Model Subclassing API: Eager Training\n",
    "\n",
    "While keras models have a builtin training loop (using the `model.fit`), sometimes you need more customization. Here's an example, of a training loop implemented with eager execution.\n",
    "\n",
    "In particular, notice `tf.GradientTape`. Automatic differentiation is used in the backend for implementing backpropagation in frameworks like TensorFlow. During eager execution, `tf.GradientTape` is used to trace operations for computing gradients later. A particular `tf.GradientTape` can only compute one gradient; subsequent calls to tape will throw a runtime error. \n",
    "\n",
    "TensorFlow 2.0 ships with easy-to-use built-in metrics under `tf.keras.metrics` module. Each metric is an object, and we can use `update_state()` to add observations and `reset_state()` to clear all observations. We can get the current result of a metric by calling `result()` on the metric object."
   ]
  },
  {
   "cell_type": "code",
   "execution_count": 114,
   "metadata": {
    "tags": [
     "pdf-ignore"
    ]
   },
   "outputs": [],
   "source": [
    "def train_part34(model_init_fn, optimizer_init_fn, params = None, num_epochs=1, is_training=False):\n",
    "    \"\"\"\n",
    "    Simple training loop for use with models defined using tf.keras. It trains\n",
    "    a model for one epoch on the CIFAR-10 training set and periodically checks\n",
    "    accuracy on the CIFAR-10 validation set.\n",
    "    \n",
    "    Inputs:\n",
    "    - model_init_fn: A function that takes no parameters; when called it\n",
    "      constructs the model we want to train: model = model_init_fn()\n",
    "    - optimizer_init_fn: A function which takes no parameters; when called it\n",
    "      constructs the Optimizer object we will use to optimize the model:\n",
    "      optimizer = optimizer_init_fn()\n",
    "    - num_epochs: The number of epochs to train for\n",
    "    \n",
    "    Returns: Nothing, but prints progress during trainingn\n",
    "    \"\"\"    \n",
    "    with tf.device(device):\n",
    "\n",
    "        # Compute the loss like we did in Part II\n",
    "        loss_fn = tf.keras.losses.SparseCategoricalCrossentropy()\n",
    "        \n",
    "        if params is not None:\n",
    "            model = model_init_fn(params)\n",
    "        else:\n",
    "            model = model_init_fn()\n",
    "            \n",
    "        optimizer = optimizer_init_fn()\n",
    "        \n",
    "        train_loss = tf.keras.metrics.Mean(name='train_loss')\n",
    "        train_accuracy = tf.keras.metrics.SparseCategoricalAccuracy(name='train_accuracy')\n",
    "    \n",
    "        val_loss = tf.keras.metrics.Mean(name='val_loss')\n",
    "        val_accuracy = tf.keras.metrics.SparseCategoricalAccuracy(name='val_accuracy')\n",
    "        \n",
    "        t = 0\n",
    "        val_acc_res = []\n",
    "        for epoch in range(num_epochs):\n",
    "            \n",
    "            # Reset the metrics - https://www.tensorflow.org/alpha/guide/migration_guide#new-style_metrics\n",
    "            train_loss.reset_states()\n",
    "            train_accuracy.reset_states()\n",
    "            \n",
    "            for x_np, y_np in train_dset:\n",
    "                with tf.GradientTape() as tape:\n",
    "                    \n",
    "                    # Use the model function to build the forward pass.\n",
    "                    scores = model(x_np, training=is_training)\n",
    "                    loss = loss_fn(y_np, scores)\n",
    "      \n",
    "                    gradients = tape.gradient(loss, model.trainable_variables)\n",
    "                    optimizer.apply_gradients(zip(gradients, model.trainable_variables))\n",
    "                    \n",
    "                    # Update the metrics\n",
    "                    train_loss.update_state(loss)\n",
    "                    train_accuracy.update_state(y_np, scores)\n",
    "                    \n",
    "                    if t % print_every == 0:\n",
    "                        val_loss.reset_states()\n",
    "                        val_accuracy.reset_states()\n",
    "                        for test_x, test_y in val_dset:\n",
    "                            # During validation at end of epoch, training set to False\n",
    "                            prediction = model(test_x, training=False)\n",
    "                            t_loss = loss_fn(test_y, prediction)\n",
    "\n",
    "                            val_loss.update_state(t_loss)\n",
    "                            val_accuracy.update_state(test_y, prediction)\n",
    "                        \n",
    "                        template = 'Iteration {}, Epoch {}, Loss: {}, Accuracy: {}, Val Loss: {}, Val Accuracy: {}'\n",
    "                        print (template.format(t, epoch+1,\n",
    "                                             train_loss.result(),\n",
    "                                             train_accuracy.result()*100,\n",
    "                                             val_loss.result(),\n",
    "                                             val_accuracy.result()*100))\n",
    "                        \n",
    "                        val_acc_res.append(val_accuracy.result()*100)\n",
    "                    t += 1\n",
    "                    \n",
    "        return val_acc_res"
   ]
  },
  {
   "cell_type": "markdown",
   "metadata": {},
   "source": [
    "### Keras Model Subclassing API: Train a Two-Layer Network\n",
    "We can now use the tools defined above to train a two-layer network on CIFAR-10. We define the `model_init_fn` and `optimizer_init_fn` that construct the model and optimizer respectively when called. Here we want to train the model using stochastic gradient descent with no momentum, so we construct a `tf.keras.optimizers.SGD` function; you can [read about it here](https://www.tensorflow.org/versions/r2.0/api_docs/python/tf/optimizers/SGD).\n",
    "\n",
    "You don't need to tune any hyperparameters here, but you should achieve validation accuracies above 40% after one epoch of training."
   ]
  },
  {
   "cell_type": "code",
   "execution_count": 27,
   "metadata": {},
   "outputs": [
    {
     "name": "stdout",
     "output_type": "stream",
     "text": [
      "Iteration 0, Epoch 1, Loss: 2.8635644912719727, Accuracy: 10.9375, Val Loss: 2.8266968727111816, Val Accuracy: 12.700000762939453\n",
      "Iteration 100, Epoch 1, Loss: 2.238638162612915, Accuracy: 28.54269790649414, Val Loss: 1.911389946937561, Val Accuracy: 37.599998474121094\n",
      "Iteration 200, Epoch 1, Loss: 2.076735258102417, Accuracy: 31.941852569580078, Val Loss: 1.8319023847579956, Val Accuracy: 41.10000228881836\n",
      "Iteration 300, Epoch 1, Loss: 2.0017738342285156, Accuracy: 33.98567199707031, Val Loss: 1.8704062700271606, Val Accuracy: 37.70000076293945\n",
      "Iteration 400, Epoch 1, Loss: 1.9315619468688965, Accuracy: 35.86346435546875, Val Loss: 1.7179980278015137, Val Accuracy: 42.69999694824219\n",
      "Iteration 500, Epoch 1, Loss: 1.886603593826294, Accuracy: 37.03842544555664, Val Loss: 1.6439082622528076, Val Accuracy: 44.5\n",
      "Iteration 600, Epoch 1, Loss: 1.8558626174926758, Accuracy: 38.043365478515625, Val Loss: 1.6555365324020386, Val Accuracy: 43.099998474121094\n",
      "Iteration 700, Epoch 1, Loss: 1.8292810916900635, Accuracy: 38.77496337890625, Val Loss: 1.6133432388305664, Val Accuracy: 44.20000076293945\n"
     ]
    }
   ],
   "source": [
    "hidden_size, num_classes = 4000, 10\n",
    "learning_rate = 1e-2\n",
    "\n",
    "def model_init_fn():\n",
    "    return TwoLayerFC(hidden_size, num_classes)\n",
    "\n",
    "def optimizer_init_fn():\n",
    "    return tf.keras.optimizers.SGD(learning_rate=learning_rate)\n",
    "\n",
    "train_part34(model_init_fn, optimizer_init_fn)"
   ]
  },
  {
   "cell_type": "markdown",
   "metadata": {},
   "source": [
    "### Keras Model Subclassing  API: Train a Three-Layer ConvNet\n",
    "Here you should use the tools we've defined above to train a three-layer ConvNet on CIFAR-10. Your ConvNet should use 32 filters in the first convolutional layer and 16 filters in the second layer.\n",
    "\n",
    "To train the model you should use gradient descent with Nesterov momentum 0.9.  \n",
    "\n",
    "**HINT**: https://www.tensorflow.org/versions/r2.0/api_docs/python/tf/optimizers/SGD\n",
    "\n",
    "You don't need to perform any hyperparameter tuning, but you should achieve validation accuracies above 50% after training for one epoch."
   ]
  },
  {
   "cell_type": "code",
   "execution_count": 29,
   "metadata": {},
   "outputs": [
    {
     "name": "stdout",
     "output_type": "stream",
     "text": [
      "Iteration 0, Epoch 1, Loss: 2.794455051422119, Accuracy: 15.625, Val Loss: 4.059069633483887, Val Accuracy: 8.5\n",
      "Iteration 100, Epoch 1, Loss: 1.979794979095459, Accuracy: 31.373764038085938, Val Loss: 1.6521517038345337, Val Accuracy: 40.599998474121094\n",
      "Iteration 200, Epoch 1, Loss: 1.7869868278503418, Accuracy: 37.352298736572266, Val Loss: 1.5009968280792236, Val Accuracy: 48.400001525878906\n",
      "Iteration 300, Epoch 1, Loss: 1.6847774982452393, Accuracy: 40.8534049987793, Val Loss: 1.4409409761428833, Val Accuracy: 50.30000305175781\n",
      "Iteration 400, Epoch 1, Loss: 1.6034390926361084, Accuracy: 43.539588928222656, Val Loss: 1.365257978439331, Val Accuracy: 52.29999923706055\n",
      "Iteration 500, Epoch 1, Loss: 1.5454312562942505, Accuracy: 45.51210021972656, Val Loss: 1.3203030824661255, Val Accuracy: 53.79999923706055\n",
      "Iteration 600, Epoch 1, Loss: 1.5096051692962646, Accuracy: 46.73200988769531, Val Loss: 1.2747169733047485, Val Accuracy: 55.80000305175781\n",
      "Iteration 700, Epoch 1, Loss: 1.47634756565094, Accuracy: 47.95158767700195, Val Loss: 1.2686080932617188, Val Accuracy: 55.900001525878906\n"
     ]
    }
   ],
   "source": [
    "learning_rate = 3e-3\n",
    "channel_1, channel_2, num_classes = 32, 16, 10\n",
    "\n",
    "def model_init_fn():\n",
    "    model = None\n",
    "    ############################################################################\n",
    "    # TODO: Complete the implementation of model_fn.                           #\n",
    "    ############################################################################\n",
    "    # *****START OF YOUR CODE (DO NOT DELETE/MODIFY THIS LINE)*****\n",
    "\n",
    "    model = ThreeLayerConvNet(32, 16, 10)\n",
    "\n",
    "    # *****END OF YOUR CODE (DO NOT DELETE/MODIFY THIS LINE)*****\n",
    "    ############################################################################\n",
    "    #                           END OF YOUR CODE                               #\n",
    "    ############################################################################\n",
    "    return model\n",
    "\n",
    "def optimizer_init_fn():\n",
    "    optimizer = None\n",
    "    ############################################################################\n",
    "    # TODO: Complete the implementation of model_fn.                           #\n",
    "    ############################################################################\n",
    "    # *****START OF YOUR CODE (DO NOT DELETE/MODIFY THIS LINE)*****\n",
    "\n",
    "    optimizer = tf.keras.optimizers.SGD(learning_rate=learning_rate, momentum=0.9, nesterov=True)\n",
    "\n",
    "    # *****END OF YOUR CODE (DO NOT DELETE/MODIFY THIS LINE)*****\n",
    "    ############################################################################\n",
    "    #                           END OF YOUR CODE                               #\n",
    "    ############################################################################\n",
    "    return optimizer\n",
    "\n",
    "train_part34(model_init_fn, optimizer_init_fn)"
   ]
  },
  {
   "cell_type": "markdown",
   "metadata": {},
   "source": [
    "# Part IV: Keras Sequential API\n",
    "In Part III we introduced the `tf.keras.Model` API, which allows you to define models with any number of learnable layers and with arbitrary connectivity between layers.\n",
    "\n",
    "However for many models you don't need such flexibility - a lot of models can be expressed as a sequential stack of layers, with the output of each layer fed to the next layer as input. If your model fits this pattern, then there is an even easier way to define your model: using `tf.keras.Sequential`. You don't need to write any custom classes; you simply call the `tf.keras.Sequential` constructor with a list containing a sequence of layer objects.\n",
    "\n",
    "One complication with `tf.keras.Sequential` is that you must define the shape of the input to the model by passing a value to the `input_shape` of the first layer in your model.\n",
    "\n",
    "### Keras Sequential API: Two-Layer Network\n",
    "In this subsection, we will rewrite the two-layer fully-connected network using `tf.keras.Sequential`, and train it using the training loop defined above.\n",
    "\n",
    "You don't need to perform any hyperparameter tuning here, but you should see validation accuracies above 40% after training for one epoch."
   ]
  },
  {
   "cell_type": "code",
   "execution_count": 30,
   "metadata": {},
   "outputs": [
    {
     "name": "stdout",
     "output_type": "stream",
     "text": [
      "Iteration 0, Epoch 1, Loss: 2.813981533050537, Accuracy: 12.5, Val Loss: 2.936058759689331, Val Accuracy: 13.199999809265137\n",
      "Iteration 100, Epoch 1, Loss: 2.2053191661834717, Accuracy: 28.743812561035156, Val Loss: 1.882741093635559, Val Accuracy: 38.0\n",
      "Iteration 200, Epoch 1, Loss: 2.060941457748413, Accuracy: 32.49378204345703, Val Loss: 1.8645280599594116, Val Accuracy: 40.099998474121094\n",
      "Iteration 300, Epoch 1, Loss: 1.992911458015442, Accuracy: 34.229652404785156, Val Loss: 1.8789253234863281, Val Accuracy: 39.89999771118164\n",
      "Iteration 400, Epoch 1, Loss: 1.9258369207382202, Accuracy: 35.99205017089844, Val Loss: 1.7133320569992065, Val Accuracy: 42.29999923706055\n",
      "Iteration 500, Epoch 1, Loss: 1.88282310962677, Accuracy: 37.10703659057617, Val Loss: 1.6521332263946533, Val Accuracy: 42.89999771118164\n",
      "Iteration 600, Epoch 1, Loss: 1.8544217348098755, Accuracy: 37.89517593383789, Val Loss: 1.702534794807434, Val Accuracy: 42.29999923706055\n",
      "Iteration 700, Epoch 1, Loss: 1.8289262056350708, Accuracy: 38.59218978881836, Val Loss: 1.634503960609436, Val Accuracy: 44.70000076293945\n"
     ]
    }
   ],
   "source": [
    "learning_rate = 1e-2\n",
    "\n",
    "def model_init_fn():\n",
    "    input_shape = (32, 32, 3)\n",
    "    hidden_layer_size, num_classes = 4000, 10\n",
    "    initializer = tf.initializers.VarianceScaling(scale=2.0)\n",
    "    layers = [\n",
    "        tf.keras.layers.Flatten(input_shape=input_shape),\n",
    "        tf.keras.layers.Dense(hidden_layer_size, activation='relu',\n",
    "                              kernel_initializer=initializer),\n",
    "        tf.keras.layers.Dense(num_classes, activation='softmax', \n",
    "                              kernel_initializer=initializer),\n",
    "    ]\n",
    "    model = tf.keras.Sequential(layers)\n",
    "    return model\n",
    "\n",
    "def optimizer_init_fn():\n",
    "    return tf.keras.optimizers.SGD(learning_rate=learning_rate) \n",
    "\n",
    "train_part34(model_init_fn, optimizer_init_fn)"
   ]
  },
  {
   "cell_type": "markdown",
   "metadata": {},
   "source": [
    "### Abstracting Away the Training Loop\n",
    "In the previous examples, we used a customised training loop to train models (e.g. `train_part34`). Writing your own training loop is only required if you need more flexibility and control during training your model. Alternately, you can also use  built-in APIs like `tf.keras.Model.fit()` and `tf.keras.Model.evaluate` to train and evaluate a model. Also remember to configure your model for training by calling `tf.keras.Model.compile.\n",
    "\n",
    "You don't need to perform any hyperparameter tuning here, but you should see validation and test accuracies above 42% after training for one epoch."
   ]
  },
  {
   "cell_type": "code",
   "execution_count": 31,
   "metadata": {},
   "outputs": [
    {
     "name": "stdout",
     "output_type": "stream",
     "text": [
      "Train on 49000 samples, validate on 1000 samples\n",
      "49000/49000 [==============================] - 5s 94us/sample - loss: 1.8283 - sparse_categorical_accuracy: 0.3901 - val_loss: 1.6303 - val_sparse_categorical_accuracy: 0.4420\n",
      "10000/10000 [==============================] - 1s 55us/sample - loss: 1.6196 - sparse_categorical_accuracy: 0.4383\n"
     ]
    },
    {
     "data": {
      "text/plain": [
       "[1.6196192615509033, 0.4383]"
      ]
     },
     "execution_count": 31,
     "metadata": {},
     "output_type": "execute_result"
    }
   ],
   "source": [
    "model = model_init_fn()\n",
    "model.compile(optimizer=tf.keras.optimizers.SGD(learning_rate=learning_rate),\n",
    "              loss='sparse_categorical_crossentropy',\n",
    "              metrics=[tf.keras.metrics.sparse_categorical_accuracy])\n",
    "model.fit(X_train, y_train, batch_size=64, epochs=1, validation_data=(X_val, y_val))\n",
    "model.evaluate(X_test, y_test)"
   ]
  },
  {
   "cell_type": "markdown",
   "metadata": {},
   "source": [
    "### Keras Sequential API: Three-Layer ConvNet\n",
    "Here you should use `tf.keras.Sequential` to reimplement the same three-layer ConvNet architecture used in Part II and Part III. As a reminder, your model should have the following architecture:\n",
    "\n",
    "1. Convolutional layer with 32 5x5 kernels, using zero padding of 2\n",
    "2. ReLU nonlinearity\n",
    "3. Convolutional layer with 16 3x3 kernels, using zero padding of 1\n",
    "4. ReLU nonlinearity\n",
    "5. Fully-connected layer giving class scores\n",
    "6. Softmax nonlinearity\n",
    "\n",
    "You should initialize the weights of the model using a `tf.initializers.VarianceScaling` as above.\n",
    "\n",
    "You should train the model using Nesterov momentum 0.9.\n",
    "\n",
    "You don't need to perform any hyperparameter search, but you should achieve accuracy above 45% after training for one epoch."
   ]
  },
  {
   "cell_type": "code",
   "execution_count": 35,
   "metadata": {},
   "outputs": [
    {
     "name": "stdout",
     "output_type": "stream",
     "text": [
      "Iteration 0, Epoch 1, Loss: 2.9021108150482178, Accuracy: 3.125, Val Loss: 2.6991894245147705, Val Accuracy: 9.899999618530273\n",
      "Iteration 100, Epoch 1, Loss: 2.009922981262207, Accuracy: 29.486385345458984, Val Loss: 1.8355036973953247, Val Accuracy: 36.5\n",
      "Iteration 200, Epoch 1, Loss: 1.8950520753860474, Accuracy: 33.348880767822266, Val Loss: 1.7188807725906372, Val Accuracy: 41.80000305175781\n",
      "Iteration 300, Epoch 1, Loss: 1.8247432708740234, Accuracy: 35.92192840576172, Val Loss: 1.6700085401535034, Val Accuracy: 44.70000076293945\n",
      "Iteration 400, Epoch 1, Loss: 1.766697883605957, Accuracy: 37.780548095703125, Val Loss: 1.6065661907196045, Val Accuracy: 45.10000228881836\n",
      "Iteration 500, Epoch 1, Loss: 1.7233586311340332, Accuracy: 39.40556335449219, Val Loss: 1.5637927055358887, Val Accuracy: 46.099998474121094\n",
      "Iteration 600, Epoch 1, Loss: 1.69314444065094, Accuracy: 40.56780242919922, Val Loss: 1.5257307291030884, Val Accuracy: 48.20000076293945\n",
      "Iteration 700, Epoch 1, Loss: 1.6668508052825928, Accuracy: 41.44748306274414, Val Loss: 1.5012925863265991, Val Accuracy: 47.79999923706055\n"
     ]
    }
   ],
   "source": [
    "def model_init_fn():\n",
    "    model = None\n",
    "    ############################################################################\n",
    "    # TODO: Construct a three-layer ConvNet using tf.keras.Sequential.         #\n",
    "    ############################################################################\n",
    "    # *****START OF YOUR CODE (DO NOT DELETE/MODIFY THIS LINE)*****\n",
    "\n",
    "    w_initializer = tf.initializers.VarianceScaling(scale=2.0)\n",
    "    layers = [\n",
    "        tf.keras.layers.Conv2D(32, (5, 5), (1, 1), 'same', activation = 'relu', use_bias = True,\n",
    "                                   kernel_initializer=w_initializer, bias_initializer = tf.zeros_initializer()),\n",
    "        \n",
    "        tf.keras.layers.Conv2D(16, (3, 3), (1, 1), 'same', activation = 'relu', use_bias = True,\n",
    "                                   kernel_initializer=w_initializer, bias_initializer = tf.zeros_initializer()),\n",
    "        \n",
    "        tf.keras.layers.Flatten(),\n",
    "        \n",
    "        tf.keras.layers.Dense(num_classes, activation='softmax',\n",
    "                                   kernel_initializer=w_initializer)\n",
    "    ]\n",
    "    model = tf.keras.Sequential(layers)\n",
    "\n",
    "    # *****END OF YOUR CODE (DO NOT DELETE/MODIFY THIS LINE)*****\n",
    "    ############################################################################\n",
    "    #                            END OF YOUR CODE                              #\n",
    "    ############################################################################\n",
    "    return model\n",
    "\n",
    "learning_rate = 5e-4\n",
    "def optimizer_init_fn():\n",
    "    optimizer = None\n",
    "    ############################################################################\n",
    "    # TODO: Complete the implementation of model_fn.                           #\n",
    "    ############################################################################\n",
    "    # *****START OF YOUR CODE (DO NOT DELETE/MODIFY THIS LINE)*****\n",
    "\n",
    "    optimizer = tf.keras.optimizers.SGD(learning_rate=learning_rate, momentum=0.9, nesterov=True)\n",
    "\n",
    "    # *****END OF YOUR CODE (DO NOT DELETE/MODIFY THIS LINE)*****\n",
    "    ############################################################################\n",
    "    #                           END OF YOUR CODE                               #\n",
    "    ############################################################################\n",
    "    return optimizer\n",
    "\n",
    "train_part34(model_init_fn, optimizer_init_fn)"
   ]
  },
  {
   "cell_type": "markdown",
   "metadata": {},
   "source": [
    "We will also train this model with the built-in training loop APIs provided by TensorFlow."
   ]
  },
  {
   "cell_type": "code",
   "execution_count": 38,
   "metadata": {},
   "outputs": [
    {
     "name": "stdout",
     "output_type": "stream",
     "text": [
      "Train on 49000 samples, validate on 1000 samples\n",
      "49000/49000 [==============================] - 6s 112us/sample - loss: 1.5932 - sparse_categorical_accuracy: 0.4408 - val_loss: 1.3826 - val_sparse_categorical_accuracy: 0.5120\n",
      "10000/10000 [==============================] - 1s 61us/sample - loss: 1.3902 - sparse_categorical_accuracy: 0.5132\n"
     ]
    },
    {
     "data": {
      "text/plain": [
       "[1.3901910892486573, 0.5132]"
      ]
     },
     "execution_count": 38,
     "metadata": {},
     "output_type": "execute_result"
    }
   ],
   "source": [
    "model = model_init_fn()\n",
    "model.compile(optimizer=tf.keras.optimizers.SGD(learning_rate=learning_rate, momentum=0.9, nesterov=True),\n",
    "              loss='sparse_categorical_crossentropy',\n",
    "              metrics=[tf.keras.metrics.sparse_categorical_accuracy])\n",
    "model.fit(X_train, y_train, batch_size=64, epochs=1, validation_data=(X_val, y_val))\n",
    "model.evaluate(X_test, y_test)"
   ]
  },
  {
   "cell_type": "markdown",
   "metadata": {},
   "source": [
    "##  Part IV: Functional API\n",
    "### Demonstration with a Two-Layer Network \n",
    "\n",
    "In the previous section, we saw how we can use `tf.keras.Sequential` to stack layers to quickly build simple models. But this comes at the cost of losing flexibility.\n",
    "\n",
    "Often we will have to write complex models that have non-sequential data flows: a layer can have **multiple inputs and/or outputs**, such as stacking the output of 2 previous layers together to feed as input to a third! (Some examples are residual connections and dense blocks.)\n",
    "\n",
    "In such cases, we can use Keras functional API to write models with complex topologies such as:\n",
    "\n",
    " 1. Multi-input models\n",
    " 2. Multi-output models\n",
    " 3. Models with shared layers (the same layer called several times)\n",
    " 4. Models with non-sequential data flows (e.g. residual connections)\n",
    "\n",
    "Writing a model with Functional API requires us to create a `tf.keras.Model` instance and explicitly write input tensors and output tensors for this model. "
   ]
  },
  {
   "cell_type": "code",
   "execution_count": 39,
   "metadata": {
    "tags": [
     "pdf-ignore"
    ]
   },
   "outputs": [
    {
     "name": "stdout",
     "output_type": "stream",
     "text": [
      "(64, 10)\n"
     ]
    }
   ],
   "source": [
    "def two_layer_fc_functional(input_shape, hidden_size, num_classes):  \n",
    "    initializer = tf.initializers.VarianceScaling(scale=2.0)\n",
    "    inputs = tf.keras.Input(shape=input_shape)\n",
    "    flattened_inputs = tf.keras.layers.Flatten()(inputs)\n",
    "    fc1_output = tf.keras.layers.Dense(hidden_size, activation='relu',\n",
    "                                 kernel_initializer=initializer)(flattened_inputs)\n",
    "    scores = tf.keras.layers.Dense(num_classes, activation='softmax',\n",
    "                             kernel_initializer=initializer)(fc1_output)\n",
    "\n",
    "    # Instantiate the model given inputs and outputs.\n",
    "    model = tf.keras.Model(inputs=inputs, outputs=scores)\n",
    "    return model\n",
    "\n",
    "def test_two_layer_fc_functional():\n",
    "    \"\"\" A small unit test to exercise the TwoLayerFC model above. \"\"\"\n",
    "    input_size, hidden_size, num_classes = 50, 42, 10\n",
    "    input_shape = (50,)\n",
    "    \n",
    "    x = tf.zeros((64, input_size))\n",
    "    model = two_layer_fc_functional(input_shape, hidden_size, num_classes)\n",
    "    \n",
    "    with tf.device(device):\n",
    "        scores = model(x)\n",
    "        print(scores.shape)\n",
    "        \n",
    "test_two_layer_fc_functional()"
   ]
  },
  {
   "cell_type": "markdown",
   "metadata": {},
   "source": [
    "### Keras Functional API: Train a Two-Layer Network\n",
    "You can now train this two-layer network constructed using the functional API.\n",
    "\n",
    "You don't need to perform any hyperparameter tuning here, but you should see validation accuracies above 40% after training for one epoch."
   ]
  },
  {
   "cell_type": "code",
   "execution_count": 40,
   "metadata": {},
   "outputs": [
    {
     "name": "stdout",
     "output_type": "stream",
     "text": [
      "Iteration 0, Epoch 1, Loss: 3.305229663848877, Accuracy: 9.375, Val Loss: 2.8110616207122803, Val Accuracy: 14.399999618530273\n",
      "Iteration 100, Epoch 1, Loss: 2.218693733215332, Accuracy: 28.883045196533203, Val Loss: 1.8678802251815796, Val Accuracy: 39.39999771118164\n",
      "Iteration 200, Epoch 1, Loss: 2.055009603500366, Accuracy: 32.5948371887207, Val Loss: 1.8913031816482544, Val Accuracy: 38.29999923706055\n",
      "Iteration 300, Epoch 1, Loss: 1.9903390407562256, Accuracy: 34.31789779663086, Val Loss: 1.8542697429656982, Val Accuracy: 37.900001525878906\n",
      "Iteration 400, Epoch 1, Loss: 1.9227707386016846, Accuracy: 36.132328033447266, Val Loss: 1.6969269514083862, Val Accuracy: 42.39999771118164\n",
      "Iteration 500, Epoch 1, Loss: 1.8804831504821777, Accuracy: 37.12574768066406, Val Loss: 1.6438658237457275, Val Accuracy: 42.89999771118164\n",
      "Iteration 600, Epoch 1, Loss: 1.8509610891342163, Accuracy: 38.012168884277344, Val Loss: 1.6927673816680908, Val Accuracy: 40.599998474121094\n",
      "Iteration 700, Epoch 1, Loss: 1.8249969482421875, Accuracy: 38.759361267089844, Val Loss: 1.6270699501037598, Val Accuracy: 43.900001525878906\n"
     ]
    }
   ],
   "source": [
    "input_shape = (32, 32, 3)\n",
    "hidden_size, num_classes = 4000, 10\n",
    "learning_rate = 1e-2\n",
    "\n",
    "def model_init_fn():\n",
    "    return two_layer_fc_functional(input_shape, hidden_size, num_classes)\n",
    "\n",
    "def optimizer_init_fn():\n",
    "    return tf.keras.optimizers.SGD(learning_rate=learning_rate)\n",
    "\n",
    "train_part34(model_init_fn, optimizer_init_fn)"
   ]
  },
  {
   "cell_type": "markdown",
   "metadata": {},
   "source": [
    "# Part V: CIFAR-10 open-ended challenge\n",
    "\n",
    "In this section you can experiment with whatever ConvNet architecture you'd like on CIFAR-10.\n",
    "\n",
    "You should experiment with architectures, hyperparameters, loss functions, regularization, or anything else you can think of to train a model that achieves **at least 70%** accuracy on the **validation** set within 10 epochs. You can use the built-in train function, the `train_part34` function from above, or implement your own training loop.\n",
    "\n",
    "Describe what you did at the end of the notebook.\n",
    "\n",
    "### Some things you can try:\n",
    "- **Filter size**: Above we used 5x5 and 3x3; is this optimal?\n",
    "- **Number of filters**: Above we used 16 and 32 filters. Would more or fewer do better?\n",
    "- **Pooling**: We didn't use any pooling above. Would this improve the model?\n",
    "- **Normalization**: Would your model be improved with batch normalization, layer normalization, group normalization, or some other normalization strategy?\n",
    "- **Network architecture**: The ConvNet above has only three layers of trainable parameters. Would a deeper model do better?\n",
    "- **Global average pooling**: Instead of flattening after the final convolutional layer, would global average pooling do better? This strategy is used for example in Google's Inception network and in Residual Networks.\n",
    "- **Regularization**: Would some kind of regularization improve performance? Maybe weight decay or dropout?\n",
    "\n",
    "### NOTE: Batch Normalization / Dropout\n",
    "If you are using Batch Normalization and Dropout, remember to pass `is_training=True` if you use the `train_part34()` function. BatchNorm and Dropout layers have different behaviors at training and inference time. `training` is a specific keyword argument reserved for this purpose in any `tf.keras.Model`'s `call()` function. Read more about this here : https://www.tensorflow.org/versions/r2.0/api_docs/python/tf/keras/layers/BatchNormalization#methods\n",
    "https://www.tensorflow.org/versions/r2.0/api_docs/python/tf/keras/layers/Dropout#methods\n",
    "\n",
    "### Tips for training\n",
    "For each network architecture that you try, you should tune the learning rate and other hyperparameters. When doing this there are a couple important things to keep in mind: \n",
    "\n",
    "- If the parameters are working well, you should see improvement within a few hundred iterations\n",
    "- Remember the coarse-to-fine approach for hyperparameter tuning: start by testing a large range of hyperparameters for just a few training iterations to find the combinations of parameters that are working at all.\n",
    "- Once you have found some sets of parameters that seem to work, search more finely around these parameters. You may need to train for more epochs.\n",
    "- You should use the validation set for hyperparameter search, and save your test set for evaluating your architecture on the best parameters as selected by the validation set.\n",
    "\n",
    "### Going above and beyond\n",
    "If you are feeling adventurous there are many other features you can implement to try and improve your performance. You are **not required** to implement any of these, but don't miss the fun if you have time!\n",
    "\n",
    "- Alternative optimizers: you can try Adam, Adagrad, RMSprop, etc.\n",
    "- Alternative activation functions such as leaky ReLU, parametric ReLU, ELU, or MaxOut.\n",
    "- Model ensembles\n",
    "- Data augmentation\n",
    "- New Architectures\n",
    "  - [ResNets](https://arxiv.org/abs/1512.03385) where the input from the previous layer is added to the output.\n",
    "  - [DenseNets](https://arxiv.org/abs/1608.06993) where inputs into previous layers are concatenated together.\n",
    "  - [This blog has an in-depth overview](https://chatbotslife.com/resnets-highwaynets-and-densenets-oh-my-9bb15918ee32)\n",
    "  \n",
    "### Have fun and happy training! "
   ]
  },
  {
   "cell_type": "code",
   "execution_count": 118,
   "metadata": {},
   "outputs": [
    {
     "name": "stdout",
     "output_type": "stream",
     "text": [
      "Iteration 0, Epoch 1, Loss: 3.382180690765381, Accuracy: 4.6875, Val Loss: 2.926936626434326, Val Accuracy: 9.300000190734863\n",
      "Iteration 700, Epoch 1, Loss: 1.5755029916763306, Accuracy: 44.97815704345703, Val Loss: 1.412293553352356, Val Accuracy: 51.20000076293945\n",
      "Iteration 0, Epoch 1, Loss: 2.6304075717926025, Accuracy: 15.625, Val Loss: 2.673044443130493, Val Accuracy: 11.0\n",
      "Iteration 700, Epoch 1, Loss: 1.5461058616638184, Accuracy: 45.595577239990234, Val Loss: 1.3302404880523682, Val Accuracy: 53.29999923706055\n",
      "Iteration 0, Epoch 1, Loss: 3.6928939819335938, Accuracy: 7.8125, Val Loss: 3.229461908340454, Val Accuracy: 8.399999618530273\n",
      "Iteration 700, Epoch 1, Loss: 1.5695343017578125, Accuracy: 44.94472122192383, Val Loss: 1.3605314493179321, Val Accuracy: 53.20000076293945\n",
      "Iteration 0, Epoch 1, Loss: 3.0109381675720215, Accuracy: 3.125, Val Loss: 2.662790536880493, Val Accuracy: 10.40000057220459\n",
      "Iteration 700, Epoch 1, Loss: 1.581246018409729, Accuracy: 44.52790451049805, Val Loss: 1.3917152881622314, Val Accuracy: 52.10000228881836\n",
      "Iteration 0, Epoch 1, Loss: 2.7727036476135254, Accuracy: 15.625, Val Loss: 2.7695579528808594, Val Accuracy: 10.800000190734863\n",
      "Iteration 700, Epoch 1, Loss: 1.5528359413146973, Accuracy: 45.69364929199219, Val Loss: 1.3431559801101685, Val Accuracy: 53.500003814697266\n",
      "Iteration 0, Epoch 1, Loss: 2.8155105113983154, Accuracy: 12.5, Val Loss: 2.755277633666992, Val Accuracy: 11.200000762939453\n",
      "Iteration 700, Epoch 1, Loss: 1.5617287158966064, Accuracy: 45.247859954833984, Val Loss: 1.360860824584961, Val Accuracy: 51.79999923706055\n",
      "Iteration 0, Epoch 1, Loss: 3.0144567489624023, Accuracy: 14.0625, Val Loss: 2.767085075378418, Val Accuracy: 11.59999942779541\n",
      "Iteration 700, Epoch 1, Loss: 1.6010651588439941, Accuracy: 44.17573165893555, Val Loss: 1.3907558917999268, Val Accuracy: 52.89999771118164\n",
      "Iteration 0, Epoch 1, Loss: 2.7031562328338623, Accuracy: 12.5, Val Loss: 2.583827018737793, Val Accuracy: 13.699999809265137\n",
      "Iteration 700, Epoch 1, Loss: 1.5581378936767578, Accuracy: 45.316959381103516, Val Loss: 1.361522912979126, Val Accuracy: 53.60000228881836\n",
      "Iteration 0, Epoch 1, Loss: 2.75185489654541, Accuracy: 14.0625, Val Loss: 2.595602512359619, Val Accuracy: 13.899999618530273\n",
      "Iteration 700, Epoch 1, Loss: 1.529968023300171, Accuracy: 46.241973876953125, Val Loss: 1.3097615242004395, Val Accuracy: 55.400001525878906\n",
      "Iteration 0, Epoch 1, Loss: 2.7289981842041016, Accuracy: 12.5, Val Loss: 3.059227228164673, Val Accuracy: 9.199999809265137\n",
      "Iteration 700, Epoch 1, Loss: 1.504938006401062, Accuracy: 47.470130920410156, Val Loss: 1.306452751159668, Val Accuracy: 54.20000076293945\n",
      "Iteration 0, Epoch 1, Loss: 2.8612825870513916, Accuracy: 7.8125, Val Loss: 3.587963819503784, Val Accuracy: 12.399999618530273\n",
      "Iteration 700, Epoch 1, Loss: 1.4844352006912231, Accuracy: 48.141048431396484, Val Loss: 1.2763334512710571, Val Accuracy: 55.29999542236328\n",
      "Iteration 0, Epoch 1, Loss: 3.161795139312744, Accuracy: 4.6875, Val Loss: 3.7010586261749268, Val Accuracy: 11.200000762939453\n",
      "Iteration 700, Epoch 1, Loss: 1.4904851913452148, Accuracy: 48.07640838623047, Val Loss: 1.3046890497207642, Val Accuracy: 55.0\n",
      "Iteration 0, Epoch 1, Loss: 3.0384507179260254, Accuracy: 10.9375, Val Loss: 3.9412171840667725, Val Accuracy: 11.200000762939453\n",
      "Iteration 700, Epoch 1, Loss: 1.549291729927063, Accuracy: 46.49385070800781, Val Loss: 1.3006988763809204, Val Accuracy: 55.0\n",
      "Iteration 0, Epoch 1, Loss: 3.0600485801696777, Accuracy: 7.8125, Val Loss: 4.158740997314453, Val Accuracy: 9.300000190734863\n",
      "Iteration 700, Epoch 1, Loss: 1.5008749961853027, Accuracy: 47.79779052734375, Val Loss: 1.277686357498169, Val Accuracy: 55.599998474121094\n",
      "Iteration 0, Epoch 1, Loss: 2.6370458602905273, Accuracy: 14.0625, Val Loss: 3.7477359771728516, Val Accuracy: 9.199999809265137\n",
      "Iteration 700, Epoch 1, Loss: 1.4880934953689575, Accuracy: 48.2056884765625, Val Loss: 1.266362190246582, Val Accuracy: 57.0\n",
      "Iteration 0, Epoch 1, Loss: 2.888807773590088, Accuracy: 15.625, Val Loss: 4.025200843811035, Val Accuracy: 9.300000190734863\n",
      "Iteration 700, Epoch 1, Loss: 1.5499577522277832, Accuracy: 46.409149169921875, Val Loss: 1.3142294883728027, Val Accuracy: 54.400001525878906\n",
      "Iteration 0, Epoch 1, Loss: 3.528085947036743, Accuracy: 3.125, Val Loss: 4.089838981628418, Val Accuracy: 12.100000381469727\n",
      "Iteration 700, Epoch 1, Loss: 1.5386924743652344, Accuracy: 46.5228271484375, Val Loss: 1.3263312578201294, Val Accuracy: 54.29999923706055\n",
      "Iteration 0, Epoch 1, Loss: 2.6912310123443604, Accuracy: 9.375, Val Loss: 3.307363271713257, Val Accuracy: 12.0\n",
      "Iteration 700, Epoch 1, Loss: 1.4809510707855225, Accuracy: 48.196773529052734, Val Loss: 1.2851470708847046, Val Accuracy: 56.69999694824219\n",
      "Iteration 0, Epoch 1, Loss: 3.109266519546509, Accuracy: 12.5, Val Loss: 3.0433125495910645, Val Accuracy: 9.800000190734863\n",
      "Iteration 700, Epoch 1, Loss: 1.5663496255874634, Accuracy: 45.2344856262207, Val Loss: 1.3535577058792114, Val Accuracy: 53.70000076293945\n",
      "Iteration 0, Epoch 1, Loss: 2.8923702239990234, Accuracy: 10.9375, Val Loss: 2.7742927074432373, Val Accuracy: 10.800000190734863\n",
      "Iteration 700, Epoch 1, Loss: 1.4929279088974, Accuracy: 47.470130920410156, Val Loss: 1.3114898204803467, Val Accuracy: 53.89999771118164\n",
      "Iteration 0, Epoch 1, Loss: 2.9306435585021973, Accuracy: 7.8125, Val Loss: 2.6101222038269043, Val Accuracy: 11.0\n",
      "Iteration 700, Epoch 1, Loss: 1.4970884323120117, Accuracy: 46.96192932128906, Val Loss: 1.2862528562545776, Val Accuracy: 55.29999542236328\n",
      "Iteration 0, Epoch 1, Loss: 2.7415549755096436, Accuracy: 9.375, Val Loss: 2.7605693340301514, Val Accuracy: 13.199999809265137\n",
      "Iteration 700, Epoch 1, Loss: 1.5400198698043823, Accuracy: 46.065887451171875, Val Loss: 1.346890926361084, Val Accuracy: 52.29999923706055\n",
      "Iteration 0, Epoch 1, Loss: 2.823237419128418, Accuracy: 15.625, Val Loss: 2.614750862121582, Val Accuracy: 9.600000381469727\n",
      "Iteration 700, Epoch 1, Loss: 1.5072169303894043, Accuracy: 47.02656936645508, Val Loss: 1.311323642730713, Val Accuracy: 52.70000076293945\n",
      "Iteration 0, Epoch 1, Loss: 2.931335926055908, Accuracy: 18.75, Val Loss: 2.9671847820281982, Val Accuracy: 10.40000057220459\n",
      "Iteration 700, Epoch 1, Loss: 1.522646427154541, Accuracy: 46.415836334228516, Val Loss: 1.2858024835586548, Val Accuracy: 55.29999542236328\n",
      "Iteration 0, Epoch 1, Loss: 3.2092199325561523, Accuracy: 10.9375, Val Loss: 2.8143680095672607, Val Accuracy: 10.300000190734863\n",
      "Iteration 700, Epoch 1, Loss: 1.54678213596344, Accuracy: 45.900943756103516, Val Loss: 1.3507899045944214, Val Accuracy: 52.20000076293945\n",
      "Iteration 0, Epoch 1, Loss: 2.602993965148926, Accuracy: 15.625, Val Loss: 2.7108137607574463, Val Accuracy: 9.09999942779541\n",
      "Iteration 700, Epoch 1, Loss: 1.5278135538101196, Accuracy: 46.230831146240234, Val Loss: 1.3303284645080566, Val Accuracy: 53.60000228881836\n",
      "Iteration 0, Epoch 1, Loss: 2.762993812561035, Accuracy: 12.5, Val Loss: 2.8180365562438965, Val Accuracy: 12.199999809265137\n",
      "Iteration 700, Epoch 1, Loss: 1.517181396484375, Accuracy: 46.59638214111328, Val Loss: 1.3016798496246338, Val Accuracy: 54.20000076293945\n",
      "Iteration 0, Epoch 1, Loss: 2.8035213947296143, Accuracy: 10.9375, Val Loss: 3.328622341156006, Val Accuracy: 13.0\n",
      "Iteration 700, Epoch 1, Loss: 1.4767695665359497, Accuracy: 48.21683120727539, Val Loss: 1.2887777090072632, Val Accuracy: 57.20000457763672\n",
      "Iteration 0, Epoch 1, Loss: 2.8973331451416016, Accuracy: 9.375, Val Loss: 3.0290069580078125, Val Accuracy: 10.899999618530273\n",
      "Iteration 700, Epoch 1, Loss: 1.4306049346923828, Accuracy: 49.948734283447266, Val Loss: 1.2143280506134033, Val Accuracy: 59.70000076293945\n",
      "Iteration 0, Epoch 1, Loss: 3.5251593589782715, Accuracy: 15.625, Val Loss: 3.687530755996704, Val Accuracy: 12.100000381469727\n",
      "Iteration 700, Epoch 1, Loss: 1.4659910202026367, Accuracy: 48.7629280090332, Val Loss: 1.2342792749404907, Val Accuracy: 55.69999694824219\n",
      "Iteration 0, Epoch 1, Loss: 3.0692052841186523, Accuracy: 14.0625, Val Loss: 3.076458215713501, Val Accuracy: 12.100000381469727\n",
      "Iteration 700, Epoch 1, Loss: 1.4883421659469604, Accuracy: 47.99839401245117, Val Loss: 1.2877103090286255, Val Accuracy: 55.400001525878906\n"
     ]
    },
    {
     "name": "stdout",
     "output_type": "stream",
     "text": [
      "Iteration 0, Epoch 1, Loss: 2.8986072540283203, Accuracy: 9.375, Val Loss: 3.0195231437683105, Val Accuracy: 14.0\n",
      "Iteration 700, Epoch 1, Loss: 1.4570980072021484, Accuracy: 49.079437255859375, Val Loss: 1.2327511310577393, Val Accuracy: 58.79999923706055\n",
      "Iteration 0, Epoch 1, Loss: 2.8543715476989746, Accuracy: 7.8125, Val Loss: 3.5518157482147217, Val Accuracy: 10.40000057220459\n",
      "Iteration 700, Epoch 1, Loss: 1.4581961631774902, Accuracy: 49.03486251831055, Val Loss: 1.2101213932037354, Val Accuracy: 57.70000076293945\n",
      "Iteration 0, Epoch 1, Loss: 3.1416707038879395, Accuracy: 6.25, Val Loss: 3.3631234169006348, Val Accuracy: 10.40000057220459\n",
      "Iteration 700, Epoch 1, Loss: 1.496401071548462, Accuracy: 47.77772903442383, Val Loss: 1.2873682975769043, Val Accuracy: 56.19999694824219\n",
      "Iteration 0, Epoch 1, Loss: 2.87436842918396, Accuracy: 1.5625, Val Loss: 2.928506851196289, Val Accuracy: 11.200000762939453\n",
      "Iteration 700, Epoch 1, Loss: 1.4661630392074585, Accuracy: 48.85877227783203, Val Loss: 1.252971887588501, Val Accuracy: 57.0\n",
      "Iteration 0, Epoch 1, Loss: 3.7292981147766113, Accuracy: 4.6875, Val Loss: 3.6739590167999268, Val Accuracy: 13.899999618530273\n",
      "Iteration 700, Epoch 1, Loss: 1.479029893875122, Accuracy: 48.141048431396484, Val Loss: 1.2425146102905273, Val Accuracy: 57.30000305175781\n",
      "Iteration 0, Epoch 1, Loss: 2.960265874862671, Accuracy: 7.8125, Val Loss: 2.9243857860565186, Val Accuracy: 8.600000381469727\n",
      "Iteration 700, Epoch 1, Loss: 1.5305339097976685, Accuracy: 46.08817672729492, Val Loss: 1.3266396522521973, Val Accuracy: 53.70000076293945\n",
      "Iteration 0, Epoch 1, Loss: 3.26275372505188, Accuracy: 6.25, Val Loss: 2.6925711631774902, Val Accuracy: 9.600000381469727\n",
      "Iteration 700, Epoch 1, Loss: 1.505650281906128, Accuracy: 47.1848258972168, Val Loss: 1.3071156740188599, Val Accuracy: 54.400001525878906\n",
      "Iteration 0, Epoch 1, Loss: 2.5370543003082275, Accuracy: 9.375, Val Loss: 2.6614789962768555, Val Accuracy: 10.59999942779541\n",
      "Iteration 700, Epoch 1, Loss: 1.5029062032699585, Accuracy: 46.935184478759766, Val Loss: 1.294616937637329, Val Accuracy: 54.70000076293945\n",
      "Iteration 0, Epoch 1, Loss: 2.8939807415008545, Accuracy: 4.6875, Val Loss: 2.8102757930755615, Val Accuracy: 11.800000190734863\n",
      "Iteration 700, Epoch 1, Loss: 1.5218604803085327, Accuracy: 46.714515686035156, Val Loss: 1.3055651187896729, Val Accuracy: 54.900001525878906\n",
      "Iteration 0, Epoch 1, Loss: 2.7920379638671875, Accuracy: 6.25, Val Loss: 2.7305831909179688, Val Accuracy: 10.300000190734863\n",
      "Iteration 700, Epoch 1, Loss: 1.5019452571868896, Accuracy: 46.99759292602539, Val Loss: 1.3022723197937012, Val Accuracy: 55.19999694824219\n",
      "Iteration 0, Epoch 1, Loss: 2.8294665813446045, Accuracy: 1.5625, Val Loss: 2.584866523742676, Val Accuracy: 11.200000762939453\n",
      "Iteration 700, Epoch 1, Loss: 1.4691718816757202, Accuracy: 48.49099349975586, Val Loss: 1.2121158838272095, Val Accuracy: 59.10000228881836\n",
      "Iteration 0, Epoch 1, Loss: 3.406831979751587, Accuracy: 9.375, Val Loss: 2.6968212127685547, Val Accuracy: 11.100000381469727\n",
      "Iteration 700, Epoch 1, Loss: 1.5435984134674072, Accuracy: 45.847450256347656, Val Loss: 1.3313056230545044, Val Accuracy: 52.39999771118164\n",
      "Iteration 0, Epoch 1, Loss: 3.278961658477783, Accuracy: 7.8125, Val Loss: 2.7557199001312256, Val Accuracy: 9.5\n",
      "Iteration 700, Epoch 1, Loss: 1.513033151626587, Accuracy: 46.814815521240234, Val Loss: 1.3122376203536987, Val Accuracy: 53.70000076293945\n",
      "Iteration 0, Epoch 1, Loss: 2.922365665435791, Accuracy: 15.625, Val Loss: 2.7448363304138184, Val Accuracy: 10.300000190734863\n",
      "Iteration 700, Epoch 1, Loss: 1.5211290121078491, Accuracy: 46.224143981933594, Val Loss: 1.3116873502731323, Val Accuracy: 53.500003814697266\n",
      "Iteration 0, Epoch 1, Loss: 3.3732194900512695, Accuracy: 7.8125, Val Loss: 3.5535171031951904, Val Accuracy: 11.800000190734863\n",
      "Iteration 700, Epoch 1, Loss: 1.4684056043624878, Accuracy: 48.81419372558594, Val Loss: 1.264326810836792, Val Accuracy: 56.0\n",
      "Iteration 0, Epoch 1, Loss: 3.3194327354431152, Accuracy: 6.25, Val Loss: 3.5698492527008057, Val Accuracy: 12.899999618530273\n",
      "Iteration 700, Epoch 1, Loss: 1.4522080421447754, Accuracy: 49.14630889892578, Val Loss: 1.2432318925857544, Val Accuracy: 57.70000076293945\n",
      "Iteration 0, Epoch 1, Loss: 2.736565589904785, Accuracy: 12.5, Val Loss: 3.8235249519348145, Val Accuracy: 9.899999618530273\n",
      "Iteration 700, Epoch 1, Loss: 1.45668363571167, Accuracy: 48.9791374206543, Val Loss: 1.228318691253662, Val Accuracy: 57.099998474121094\n",
      "Iteration 0, Epoch 1, Loss: 2.606161117553711, Accuracy: 10.9375, Val Loss: 3.9641408920288086, Val Accuracy: 9.5\n",
      "Iteration 700, Epoch 1, Loss: 1.4729102849960327, Accuracy: 48.59575653076172, Val Loss: 1.2631125450134277, Val Accuracy: 57.5\n",
      "Iteration 0, Epoch 1, Loss: 2.8625729084014893, Accuracy: 15.625, Val Loss: 3.3288307189941406, Val Accuracy: 9.700000762939453\n",
      "Iteration 700, Epoch 1, Loss: 1.4373044967651367, Accuracy: 49.696861267089844, Val Loss: 1.2329888343811035, Val Accuracy: 57.30000305175781\n",
      "Iteration 0, Epoch 1, Loss: 3.203432083129883, Accuracy: 7.8125, Val Loss: 3.8410472869873047, Val Accuracy: 9.399999618530273\n",
      "Iteration 700, Epoch 1, Loss: 1.4667414426803589, Accuracy: 48.435272216796875, Val Loss: 1.2717291116714478, Val Accuracy: 55.099998474121094\n",
      "Iteration 0, Epoch 1, Loss: 3.009136915206909, Accuracy: 12.5, Val Loss: 4.071159362792969, Val Accuracy: 10.800000190734863\n",
      "Iteration 700, Epoch 1, Loss: 1.5213521718978882, Accuracy: 47.37428665161133, Val Loss: 1.323228120803833, Val Accuracy: 55.80000305175781\n",
      "Iteration 0, Epoch 1, Loss: 3.128221035003662, Accuracy: 7.8125, Val Loss: 3.7252721786499023, Val Accuracy: 7.400000095367432\n",
      "Iteration 700, Epoch 1, Loss: 1.4746472835540771, Accuracy: 48.47985076904297, Val Loss: 1.2645347118377686, Val Accuracy: 55.900001525878906\n",
      "Iteration 0, Epoch 1, Loss: 2.814195394515991, Accuracy: 10.9375, Val Loss: 3.4425301551818848, Val Accuracy: 11.200000762939453\n",
      "Iteration 700, Epoch 1, Loss: 1.46642005443573, Accuracy: 48.45532989501953, Val Loss: 1.260474443435669, Val Accuracy: 57.0\n"
     ]
    }
   ],
   "source": [
    "class CustomConvNet(tf.keras.Model):\n",
    "    def __init__(self, channel_1, channel_2, num_classes, params = (32, 16, 5, 3)):\n",
    "        super(CustomConvNet, self).__init__()\n",
    "        w_initializer = tf.initializers.VarianceScaling(scale=2.0)\n",
    "        ############################################################################\n",
    "        # TODO: Construct a model that performs well on CIFAR-10                   #\n",
    "        ############################################################################\n",
    "        # *****START OF YOUR CODE (DO NOT DELETE/MODIFY THIS LINE)*****\n",
    "\n",
    "        self.conv_1 = tf.keras.layers.Conv2D(params[0], (params[2], params[2]), (1, 1), 'same', activation = None, use_bias = True,\n",
    "                                   kernel_initializer=w_initializer, bias_initializer = tf.zeros_initializer())\n",
    "        \n",
    "        self.relu =  tf.keras.layers.ReLU()\n",
    "        \n",
    "        self.bn = tf.keras.layers.BatchNormalization()\n",
    "        \n",
    "        self.conv_2 = tf.keras.layers.Conv2D(params[1], (params[3], params[3]), (1, 1), 'same', activation = None, use_bias = True,\n",
    "                                   kernel_initializer=w_initializer, bias_initializer = tf.zeros_initializer())\n",
    "        \n",
    "        self.fc = tf.keras.layers.Dense(num_classes, activation='softmax',\n",
    "                                   kernel_initializer=w_initializer)\n",
    "        \n",
    "        self.flatten = tf.keras.layers.Flatten()\n",
    "\n",
    "        # *****END OF YOUR CODE (DO NOT DELETE/MODIFY THIS LINE)*****\n",
    "        ############################################################################\n",
    "        #                            END OF YOUR CODE                              #\n",
    "        ############################################################################\n",
    "    \n",
    "    def call(self, input_tensor, training=False):\n",
    "        ############################################################################\n",
    "        # TODO: Construct a model that performs well on CIFAR-10                   #\n",
    "        ############################################################################\n",
    "        # *****START OF YOUR CODE (DO NOT DELETE/MODIFY THIS LINE)*****\n",
    "\n",
    "        x = self.conv_1(input_tensor)\n",
    "        x = self.relu(x)\n",
    "        x = self.conv_2(x)\n",
    "        x = self.relu(x)\n",
    "        x = self.flatten(x)\n",
    "        x = self.fc(x)\n",
    "\n",
    "        # *****END OF YOUR CODE (DO NOT DELETE/MODIFY THIS LINE)*****\n",
    "        ############################################################################\n",
    "        #                            END OF YOUR CODE                              #\n",
    "        ############################################################################\n",
    "        \n",
    "        return x\n",
    "\n",
    "device = '/device:GPU:0'   # Change this to a CPU/GPU as you wish!\n",
    "# device = '/cpu:0'        # Change this to a CPU/GPU as you wish!\n",
    "print_every = 700\n",
    "num_epochs = 1\n",
    "\n",
    "\n",
    "\n",
    "def model_init_fn(params):\n",
    "    return CustomConvNet(32, 16, 10, params)\n",
    "\n",
    "def optimizer_init_fn():\n",
    "    learning_rate = 1e-4\n",
    "    return tf.keras.optimizers.Adam(learning_rate) \n",
    "\n",
    "param1 = [32, 64, 128]\n",
    "param2 = [32, 64]\n",
    "param3 = [3,5,7]\n",
    "param4 = [3,5,7]\n",
    "\n",
    "param_combs = ((p1, p2, p3, p4) for p1 in param1 for p2 in param2 for p3 in param3 for p4 in param4)\n",
    "ans = []\n",
    "for comb in param_combs:\n",
    "    val_res = train_part34(model_init_fn, optimizer_init_fn, params = comb, num_epochs=num_epochs, is_training=True)\n",
    "    ans.append((comb, val_res[-1]))\n"
   ]
  },
  {
   "cell_type": "code",
   "execution_count": 129,
   "metadata": {},
   "outputs": [
    {
     "data": {
      "text/plain": [
       "[((64, 64, 3, 5), <tf.Tensor: shape=(), dtype=float32, numpy=59.7>),\n",
       " ((128, 32, 5, 7), <tf.Tensor: shape=(), dtype=float32, numpy=59.100002>),\n",
       " ((64, 64, 5, 5), <tf.Tensor: shape=(), dtype=float32, numpy=58.8>),\n",
       " ((64, 64, 5, 7), <tf.Tensor: shape=(), dtype=float32, numpy=57.7>),\n",
       " ((128, 64, 3, 5), <tf.Tensor: shape=(), dtype=float32, numpy=57.7>),\n",
       " ((128, 64, 5, 3), <tf.Tensor: shape=(), dtype=float32, numpy=57.5>),\n",
       " ((64, 64, 7, 7), <tf.Tensor: shape=(), dtype=float32, numpy=57.300003>),\n",
       " ((128, 64, 5, 5), <tf.Tensor: shape=(), dtype=float32, numpy=57.300003>),\n",
       " ((64, 64, 3, 3), <tf.Tensor: shape=(), dtype=float32, numpy=57.200005>),\n",
       " ((128, 64, 3, 7), <tf.Tensor: shape=(), dtype=float32, numpy=57.1>),\n",
       " ((32, 64, 5, 7), <tf.Tensor: shape=(), dtype=float32, numpy=57.0>),\n",
       " ((64, 64, 7, 5), <tf.Tensor: shape=(), dtype=float32, numpy=57.0>),\n",
       " ((128, 64, 7, 7), <tf.Tensor: shape=(), dtype=float32, numpy=57.0>),\n",
       " ((32, 64, 7, 7), <tf.Tensor: shape=(), dtype=float32, numpy=56.699997>),\n",
       " ((64, 64, 7, 3), <tf.Tensor: shape=(), dtype=float32, numpy=56.199997>),\n",
       " ((128, 64, 3, 3), <tf.Tensor: shape=(), dtype=float32, numpy=56.0>),\n",
       " ((128, 64, 7, 5), <tf.Tensor: shape=(), dtype=float32, numpy=55.9>),\n",
       " ((128, 64, 7, 3), <tf.Tensor: shape=(), dtype=float32, numpy=55.800003>),\n",
       " ((64, 64, 3, 7), <tf.Tensor: shape=(), dtype=float32, numpy=55.699997>),\n",
       " ((32, 64, 5, 5), <tf.Tensor: shape=(), dtype=float32, numpy=55.6>),\n",
       " ((32, 32, 7, 7), <tf.Tensor: shape=(), dtype=float32, numpy=55.4>),\n",
       " ((64, 64, 5, 3), <tf.Tensor: shape=(), dtype=float32, numpy=55.4>),\n",
       " ((32, 64, 3, 5), <tf.Tensor: shape=(), dtype=float32, numpy=55.299995>),\n",
       " ((64, 32, 3, 7), <tf.Tensor: shape=(), dtype=float32, numpy=55.299995>),\n",
       " ((64, 32, 5, 7), <tf.Tensor: shape=(), dtype=float32, numpy=55.299995>),\n",
       " ((128, 32, 5, 5), <tf.Tensor: shape=(), dtype=float32, numpy=55.199997>),\n",
       " ((128, 64, 5, 7), <tf.Tensor: shape=(), dtype=float32, numpy=55.1>),\n",
       " ((32, 64, 3, 7), <tf.Tensor: shape=(), dtype=float32, numpy=55.0>),\n",
       " ((32, 64, 5, 3), <tf.Tensor: shape=(), dtype=float32, numpy=55.0>),\n",
       " ((128, 32, 5, 3), <tf.Tensor: shape=(), dtype=float32, numpy=54.9>),\n",
       " ((128, 32, 3, 7), <tf.Tensor: shape=(), dtype=float32, numpy=54.7>),\n",
       " ((32, 64, 7, 3), <tf.Tensor: shape=(), dtype=float32, numpy=54.4>),\n",
       " ((128, 32, 3, 5), <tf.Tensor: shape=(), dtype=float32, numpy=54.4>),\n",
       " ((32, 64, 7, 5), <tf.Tensor: shape=(), dtype=float32, numpy=54.3>),\n",
       " ((32, 64, 3, 3), <tf.Tensor: shape=(), dtype=float32, numpy=54.2>),\n",
       " ((64, 32, 7, 7), <tf.Tensor: shape=(), dtype=float32, numpy=54.2>),\n",
       " ((64, 32, 3, 5), <tf.Tensor: shape=(), dtype=float32, numpy=53.899998>),\n",
       " ((64, 32, 3, 3), <tf.Tensor: shape=(), dtype=float32, numpy=53.7>),\n",
       " ((128, 32, 3, 3), <tf.Tensor: shape=(), dtype=float32, numpy=53.7>),\n",
       " ((128, 32, 7, 5), <tf.Tensor: shape=(), dtype=float32, numpy=53.7>),\n",
       " ((32, 32, 7, 5), <tf.Tensor: shape=(), dtype=float32, numpy=53.600002>),\n",
       " ((64, 32, 7, 5), <tf.Tensor: shape=(), dtype=float32, numpy=53.600002>),\n",
       " ((32, 32, 5, 5), <tf.Tensor: shape=(), dtype=float32, numpy=53.500004>),\n",
       " ((128, 32, 7, 7), <tf.Tensor: shape=(), dtype=float32, numpy=53.500004>),\n",
       " ((32, 32, 3, 5), <tf.Tensor: shape=(), dtype=float32, numpy=53.3>),\n",
       " ((32, 32, 3, 7), <tf.Tensor: shape=(), dtype=float32, numpy=53.2>),\n",
       " ((32, 32, 7, 3), <tf.Tensor: shape=(), dtype=float32, numpy=52.899998>),\n",
       " ((64, 32, 5, 5), <tf.Tensor: shape=(), dtype=float32, numpy=52.7>),\n",
       " ((128, 32, 7, 3), <tf.Tensor: shape=(), dtype=float32, numpy=52.399998>),\n",
       " ((64, 32, 5, 3), <tf.Tensor: shape=(), dtype=float32, numpy=52.3>),\n",
       " ((64, 32, 7, 3), <tf.Tensor: shape=(), dtype=float32, numpy=52.2>),\n",
       " ((32, 32, 5, 3), <tf.Tensor: shape=(), dtype=float32, numpy=52.100002>),\n",
       " ((32, 32, 5, 7), <tf.Tensor: shape=(), dtype=float32, numpy=51.8>),\n",
       " ((32, 32, 3, 3), <tf.Tensor: shape=(), dtype=float32, numpy=51.2>)]"
      ]
     },
     "execution_count": 129,
     "metadata": {},
     "output_type": "execute_result"
    }
   ],
   "source": [
    "sorted(ans, key = lambda x: x[1], reverse=True)"
   ]
  },
  {
   "cell_type": "code",
   "execution_count": 130,
   "metadata": {},
   "outputs": [
    {
     "name": "stdout",
     "output_type": "stream",
     "text": [
      "Iteration 0, Epoch 1, Loss: 3.031407356262207, Accuracy: 12.5, Val Loss: 3.9531350135803223, Val Accuracy: 11.5\n",
      "Iteration 700, Epoch 1, Loss: 1.4553437232971191, Accuracy: 49.469505310058594, Val Loss: 1.2490662336349487, Val Accuracy: 57.70000076293945\n",
      "Iteration 1400, Epoch 2, Loss: 1.0247313976287842, Accuracy: 64.8277587890625, Val Loss: 1.0980310440063477, Val Accuracy: 62.80000305175781\n",
      "Iteration 2100, Epoch 3, Loss: 0.8310472965240479, Accuracy: 72.14411163330078, Val Loss: 1.084821343421936, Val Accuracy: 64.5\n",
      "Iteration 2800, Epoch 4, Loss: 0.6828567385673523, Accuracy: 77.5751724243164, Val Loss: 1.1077790260314941, Val Accuracy: 65.5999984741211\n",
      "Iteration 3500, Epoch 5, Loss: 0.5665602087974548, Accuracy: 81.96510314941406, Val Loss: 1.0952270030975342, Val Accuracy: 66.29999542236328\n",
      "Iteration 4200, Epoch 6, Loss: 0.4637546241283417, Accuracy: 85.78166961669922, Val Loss: 1.1675693988800049, Val Accuracy: 66.0999984741211\n",
      "Iteration 4900, Epoch 7, Loss: 0.38123834133148193, Accuracy: 89.14958953857422, Val Loss: 1.2168852090835571, Val Accuracy: 62.69999694824219\n"
     ]
    },
    {
     "ename": "KeyboardInterrupt",
     "evalue": "",
     "output_type": "error",
     "traceback": [
      "\u001b[0;31m---------------------------------------------------------------------------\u001b[0m",
      "\u001b[0;31mKeyboardInterrupt\u001b[0m                         Traceback (most recent call last)",
      "\u001b[0;32m<ipython-input-130-617098fe73e9>\u001b[0m in \u001b[0;36m<module>\u001b[0;34m\u001b[0m\n\u001b[0;32m----> 1\u001b[0;31m \u001b[0mtrain_part34\u001b[0m\u001b[0;34m(\u001b[0m\u001b[0mmodel_init_fn\u001b[0m\u001b[0;34m,\u001b[0m \u001b[0moptimizer_init_fn\u001b[0m\u001b[0;34m,\u001b[0m \u001b[0mparams\u001b[0m \u001b[0;34m=\u001b[0m \u001b[0;34m(\u001b[0m\u001b[0;36m64\u001b[0m\u001b[0;34m,\u001b[0m \u001b[0;36m64\u001b[0m\u001b[0;34m,\u001b[0m \u001b[0;36m3\u001b[0m\u001b[0;34m,\u001b[0m \u001b[0;36m5\u001b[0m\u001b[0;34m)\u001b[0m\u001b[0;34m,\u001b[0m \u001b[0mnum_epochs\u001b[0m\u001b[0;34m=\u001b[0m\u001b[0;36m10\u001b[0m\u001b[0;34m,\u001b[0m \u001b[0mis_training\u001b[0m\u001b[0;34m=\u001b[0m\u001b[0;32mTrue\u001b[0m\u001b[0;34m)\u001b[0m\u001b[0;34m\u001b[0m\u001b[0;34m\u001b[0m\u001b[0m\n\u001b[0m",
      "\u001b[0;32m<ipython-input-114-3253cd393ec9>\u001b[0m in \u001b[0;36mtrain_part34\u001b[0;34m(model_init_fn, optimizer_init_fn, params, num_epochs, is_training)\u001b[0m\n\u001b[1;32m     46\u001b[0m                     \u001b[0;31m# Use the model function to build the forward pass.\u001b[0m\u001b[0;34m\u001b[0m\u001b[0;34m\u001b[0m\u001b[0;34m\u001b[0m\u001b[0m\n\u001b[1;32m     47\u001b[0m                     \u001b[0mscores\u001b[0m \u001b[0;34m=\u001b[0m \u001b[0mmodel\u001b[0m\u001b[0;34m(\u001b[0m\u001b[0mx_np\u001b[0m\u001b[0;34m,\u001b[0m \u001b[0mtraining\u001b[0m\u001b[0;34m=\u001b[0m\u001b[0mis_training\u001b[0m\u001b[0;34m)\u001b[0m\u001b[0;34m\u001b[0m\u001b[0;34m\u001b[0m\u001b[0m\n\u001b[0;32m---> 48\u001b[0;31m                     \u001b[0mloss\u001b[0m \u001b[0;34m=\u001b[0m \u001b[0mloss_fn\u001b[0m\u001b[0;34m(\u001b[0m\u001b[0my_np\u001b[0m\u001b[0;34m,\u001b[0m \u001b[0mscores\u001b[0m\u001b[0;34m)\u001b[0m\u001b[0;34m\u001b[0m\u001b[0;34m\u001b[0m\u001b[0m\n\u001b[0m\u001b[1;32m     49\u001b[0m \u001b[0;34m\u001b[0m\u001b[0m\n\u001b[1;32m     50\u001b[0m                     \u001b[0mgradients\u001b[0m \u001b[0;34m=\u001b[0m \u001b[0mtape\u001b[0m\u001b[0;34m.\u001b[0m\u001b[0mgradient\u001b[0m\u001b[0;34m(\u001b[0m\u001b[0mloss\u001b[0m\u001b[0;34m,\u001b[0m \u001b[0mmodel\u001b[0m\u001b[0;34m.\u001b[0m\u001b[0mtrainable_variables\u001b[0m\u001b[0;34m)\u001b[0m\u001b[0;34m\u001b[0m\u001b[0;34m\u001b[0m\u001b[0m\n",
      "\u001b[0;32m~/anaconda3/lib/python3.7/site-packages/tensorflow_core/python/keras/losses.py\u001b[0m in \u001b[0;36m__call__\u001b[0;34m(self, y_true, y_pred, sample_weight)\u001b[0m\n\u001b[1;32m    124\u001b[0m         y_true, y_pred, sample_weight)\n\u001b[1;32m    125\u001b[0m     \u001b[0;32mwith\u001b[0m \u001b[0mK\u001b[0m\u001b[0;34m.\u001b[0m\u001b[0mname_scope\u001b[0m\u001b[0;34m(\u001b[0m\u001b[0mscope_name\u001b[0m \u001b[0;32mor\u001b[0m \u001b[0mself\u001b[0m\u001b[0;34m.\u001b[0m\u001b[0m__class__\u001b[0m\u001b[0;34m.\u001b[0m\u001b[0m__name__\u001b[0m\u001b[0;34m)\u001b[0m\u001b[0;34m,\u001b[0m \u001b[0mgraph_ctx\u001b[0m\u001b[0;34m:\u001b[0m\u001b[0;34m\u001b[0m\u001b[0;34m\u001b[0m\u001b[0m\n\u001b[0;32m--> 126\u001b[0;31m       \u001b[0mlosses\u001b[0m \u001b[0;34m=\u001b[0m \u001b[0mself\u001b[0m\u001b[0;34m.\u001b[0m\u001b[0mcall\u001b[0m\u001b[0;34m(\u001b[0m\u001b[0my_true\u001b[0m\u001b[0;34m,\u001b[0m \u001b[0my_pred\u001b[0m\u001b[0;34m)\u001b[0m\u001b[0;34m\u001b[0m\u001b[0;34m\u001b[0m\u001b[0m\n\u001b[0m\u001b[1;32m    127\u001b[0m       return losses_utils.compute_weighted_loss(\n\u001b[1;32m    128\u001b[0m           losses, sample_weight, reduction=self._get_reduction())\n",
      "\u001b[0;32m~/anaconda3/lib/python3.7/site-packages/tensorflow_core/python/keras/losses.py\u001b[0m in \u001b[0;36mcall\u001b[0;34m(self, y_true, y_pred)\u001b[0m\n\u001b[1;32m    219\u001b[0m       y_pred, y_true = tf_losses_util.squeeze_or_expand_dimensions(\n\u001b[1;32m    220\u001b[0m           y_pred, y_true)\n\u001b[0;32m--> 221\u001b[0;31m     \u001b[0;32mreturn\u001b[0m \u001b[0mself\u001b[0m\u001b[0;34m.\u001b[0m\u001b[0mfn\u001b[0m\u001b[0;34m(\u001b[0m\u001b[0my_true\u001b[0m\u001b[0;34m,\u001b[0m \u001b[0my_pred\u001b[0m\u001b[0;34m,\u001b[0m \u001b[0;34m**\u001b[0m\u001b[0mself\u001b[0m\u001b[0;34m.\u001b[0m\u001b[0m_fn_kwargs\u001b[0m\u001b[0;34m)\u001b[0m\u001b[0;34m\u001b[0m\u001b[0;34m\u001b[0m\u001b[0m\n\u001b[0m\u001b[1;32m    222\u001b[0m \u001b[0;34m\u001b[0m\u001b[0m\n\u001b[1;32m    223\u001b[0m   \u001b[0;32mdef\u001b[0m \u001b[0mget_config\u001b[0m\u001b[0;34m(\u001b[0m\u001b[0mself\u001b[0m\u001b[0;34m)\u001b[0m\u001b[0;34m:\u001b[0m\u001b[0;34m\u001b[0m\u001b[0;34m\u001b[0m\u001b[0m\n",
      "\u001b[0;32m~/anaconda3/lib/python3.7/site-packages/tensorflow_core/python/keras/losses.py\u001b[0m in \u001b[0;36msparse_categorical_crossentropy\u001b[0;34m(y_true, y_pred, from_logits, axis)\u001b[0m\n\u001b[1;32m    976\u001b[0m \u001b[0;32mdef\u001b[0m \u001b[0msparse_categorical_crossentropy\u001b[0m\u001b[0;34m(\u001b[0m\u001b[0my_true\u001b[0m\u001b[0;34m,\u001b[0m \u001b[0my_pred\u001b[0m\u001b[0;34m,\u001b[0m \u001b[0mfrom_logits\u001b[0m\u001b[0;34m=\u001b[0m\u001b[0;32mFalse\u001b[0m\u001b[0;34m,\u001b[0m \u001b[0maxis\u001b[0m\u001b[0;34m=\u001b[0m\u001b[0;34m-\u001b[0m\u001b[0;36m1\u001b[0m\u001b[0;34m)\u001b[0m\u001b[0;34m:\u001b[0m\u001b[0;34m\u001b[0m\u001b[0;34m\u001b[0m\u001b[0m\n\u001b[1;32m    977\u001b[0m   return K.sparse_categorical_crossentropy(\n\u001b[0;32m--> 978\u001b[0;31m       y_true, y_pred, from_logits=from_logits, axis=axis)\n\u001b[0m\u001b[1;32m    979\u001b[0m \u001b[0;34m\u001b[0m\u001b[0m\n\u001b[1;32m    980\u001b[0m \u001b[0;34m\u001b[0m\u001b[0m\n",
      "\u001b[0;32m~/anaconda3/lib/python3.7/site-packages/tensorflow_core/python/keras/backend.py\u001b[0m in \u001b[0;36msparse_categorical_crossentropy\u001b[0;34m(target, output, from_logits, axis)\u001b[0m\n\u001b[1;32m   4555\u001b[0m         'output tensor with unknown rank'.format(axis))\n\u001b[1;32m   4556\u001b[0m \u001b[0;34m\u001b[0m\u001b[0m\n\u001b[0;32m-> 4557\u001b[0;31m   \u001b[0mtarget\u001b[0m \u001b[0;34m=\u001b[0m \u001b[0mcast\u001b[0m\u001b[0;34m(\u001b[0m\u001b[0mtarget\u001b[0m\u001b[0;34m,\u001b[0m \u001b[0;34m'int64'\u001b[0m\u001b[0;34m)\u001b[0m\u001b[0;34m\u001b[0m\u001b[0;34m\u001b[0m\u001b[0m\n\u001b[0m\u001b[1;32m   4558\u001b[0m \u001b[0;34m\u001b[0m\u001b[0m\n\u001b[1;32m   4559\u001b[0m   \u001b[0;31m# Try to adjust the shape so that rank of labels = rank of logits - 1.\u001b[0m\u001b[0;34m\u001b[0m\u001b[0;34m\u001b[0m\u001b[0;34m\u001b[0m\u001b[0m\n",
      "\u001b[0;32m~/anaconda3/lib/python3.7/site-packages/tensorflow_core/python/keras/backend.py\u001b[0m in \u001b[0;36mcast\u001b[0;34m(x, dtype)\u001b[0m\n\u001b[1;32m   1553\u001b[0m \u001b[0;34m\u001b[0m\u001b[0m\n\u001b[1;32m   1554\u001b[0m   \"\"\"\n\u001b[0;32m-> 1555\u001b[0;31m   \u001b[0;32mreturn\u001b[0m \u001b[0mmath_ops\u001b[0m\u001b[0;34m.\u001b[0m\u001b[0mcast\u001b[0m\u001b[0;34m(\u001b[0m\u001b[0mx\u001b[0m\u001b[0;34m,\u001b[0m \u001b[0mdtype\u001b[0m\u001b[0;34m)\u001b[0m\u001b[0;34m\u001b[0m\u001b[0;34m\u001b[0m\u001b[0m\n\u001b[0m\u001b[1;32m   1556\u001b[0m \u001b[0;34m\u001b[0m\u001b[0m\n\u001b[1;32m   1557\u001b[0m \u001b[0;34m\u001b[0m\u001b[0m\n",
      "\u001b[0;32m~/anaconda3/lib/python3.7/site-packages/tensorflow_core/python/util/dispatch.py\u001b[0m in \u001b[0;36mwrapper\u001b[0;34m(*args, **kwargs)\u001b[0m\n\u001b[1;32m    178\u001b[0m     \u001b[0;34m\"\"\"Call target, and fall back on dispatchers if there is a TypeError.\"\"\"\u001b[0m\u001b[0;34m\u001b[0m\u001b[0;34m\u001b[0m\u001b[0m\n\u001b[1;32m    179\u001b[0m     \u001b[0;32mtry\u001b[0m\u001b[0;34m:\u001b[0m\u001b[0;34m\u001b[0m\u001b[0;34m\u001b[0m\u001b[0m\n\u001b[0;32m--> 180\u001b[0;31m       \u001b[0;32mreturn\u001b[0m \u001b[0mtarget\u001b[0m\u001b[0;34m(\u001b[0m\u001b[0;34m*\u001b[0m\u001b[0margs\u001b[0m\u001b[0;34m,\u001b[0m \u001b[0;34m**\u001b[0m\u001b[0mkwargs\u001b[0m\u001b[0;34m)\u001b[0m\u001b[0;34m\u001b[0m\u001b[0;34m\u001b[0m\u001b[0m\n\u001b[0m\u001b[1;32m    181\u001b[0m     \u001b[0;32mexcept\u001b[0m \u001b[0;34m(\u001b[0m\u001b[0mTypeError\u001b[0m\u001b[0;34m,\u001b[0m \u001b[0mValueError\u001b[0m\u001b[0;34m)\u001b[0m\u001b[0;34m:\u001b[0m\u001b[0;34m\u001b[0m\u001b[0;34m\u001b[0m\u001b[0m\n\u001b[1;32m    182\u001b[0m       \u001b[0;31m# Note: convert_to_eager_tensor currently raises a ValueError, not a\u001b[0m\u001b[0;34m\u001b[0m\u001b[0;34m\u001b[0m\u001b[0;34m\u001b[0m\u001b[0m\n",
      "\u001b[0;32m~/anaconda3/lib/python3.7/site-packages/tensorflow_core/python/ops/math_ops.py\u001b[0m in \u001b[0;36mcast\u001b[0;34m(x, dtype, name)\u001b[0m\n\u001b[1;32m    705\u001b[0m       \u001b[0mx\u001b[0m \u001b[0;34m=\u001b[0m \u001b[0mops\u001b[0m\u001b[0;34m.\u001b[0m\u001b[0mconvert_to_tensor\u001b[0m\u001b[0;34m(\u001b[0m\u001b[0mx\u001b[0m\u001b[0;34m,\u001b[0m \u001b[0mname\u001b[0m\u001b[0;34m=\u001b[0m\u001b[0;34m\"x\"\u001b[0m\u001b[0;34m)\u001b[0m\u001b[0;34m\u001b[0m\u001b[0;34m\u001b[0m\u001b[0m\n\u001b[1;32m    706\u001b[0m       \u001b[0;32mif\u001b[0m \u001b[0mx\u001b[0m\u001b[0;34m.\u001b[0m\u001b[0mdtype\u001b[0m\u001b[0;34m.\u001b[0m\u001b[0mbase_dtype\u001b[0m \u001b[0;34m!=\u001b[0m \u001b[0mbase_type\u001b[0m\u001b[0;34m:\u001b[0m\u001b[0;34m\u001b[0m\u001b[0;34m\u001b[0m\u001b[0m\n\u001b[0;32m--> 707\u001b[0;31m         \u001b[0mx\u001b[0m \u001b[0;34m=\u001b[0m \u001b[0mgen_math_ops\u001b[0m\u001b[0;34m.\u001b[0m\u001b[0mcast\u001b[0m\u001b[0;34m(\u001b[0m\u001b[0mx\u001b[0m\u001b[0;34m,\u001b[0m \u001b[0mbase_type\u001b[0m\u001b[0;34m,\u001b[0m \u001b[0mname\u001b[0m\u001b[0;34m=\u001b[0m\u001b[0mname\u001b[0m\u001b[0;34m)\u001b[0m\u001b[0;34m\u001b[0m\u001b[0;34m\u001b[0m\u001b[0m\n\u001b[0m\u001b[1;32m    708\u001b[0m     \u001b[0;32mif\u001b[0m \u001b[0mx\u001b[0m\u001b[0;34m.\u001b[0m\u001b[0mdtype\u001b[0m\u001b[0;34m.\u001b[0m\u001b[0mis_complex\u001b[0m \u001b[0;32mand\u001b[0m \u001b[0mbase_type\u001b[0m\u001b[0;34m.\u001b[0m\u001b[0mis_floating\u001b[0m\u001b[0;34m:\u001b[0m\u001b[0;34m\u001b[0m\u001b[0;34m\u001b[0m\u001b[0m\n\u001b[1;32m    709\u001b[0m       \u001b[0mlogging\u001b[0m\u001b[0;34m.\u001b[0m\u001b[0mwarn\u001b[0m\u001b[0;34m(\u001b[0m\u001b[0;34m\"Casting complex to real discards imaginary part.\"\u001b[0m\u001b[0;34m)\u001b[0m\u001b[0;34m\u001b[0m\u001b[0;34m\u001b[0m\u001b[0m\n",
      "\u001b[0;32m~/anaconda3/lib/python3.7/site-packages/tensorflow_core/python/ops/gen_math_ops.py\u001b[0m in \u001b[0;36mcast\u001b[0;34m(x, DstT, Truncate, name)\u001b[0m\n\u001b[1;32m   1960\u001b[0m       _result = _pywrap_tensorflow.TFE_Py_FastPathExecute(\n\u001b[1;32m   1961\u001b[0m         \u001b[0m_ctx\u001b[0m\u001b[0;34m.\u001b[0m\u001b[0m_context_handle\u001b[0m\u001b[0;34m,\u001b[0m \u001b[0mtld\u001b[0m\u001b[0;34m.\u001b[0m\u001b[0mdevice_name\u001b[0m\u001b[0;34m,\u001b[0m \u001b[0;34m\"Cast\"\u001b[0m\u001b[0;34m,\u001b[0m \u001b[0mname\u001b[0m\u001b[0;34m,\u001b[0m \u001b[0mtld\u001b[0m\u001b[0;34m.\u001b[0m\u001b[0mop_callbacks\u001b[0m\u001b[0;34m,\u001b[0m\u001b[0;34m\u001b[0m\u001b[0;34m\u001b[0m\u001b[0m\n\u001b[0;32m-> 1962\u001b[0;31m         x, \"DstT\", DstT, \"Truncate\", Truncate)\n\u001b[0m\u001b[1;32m   1963\u001b[0m       \u001b[0;32mreturn\u001b[0m \u001b[0m_result\u001b[0m\u001b[0;34m\u001b[0m\u001b[0;34m\u001b[0m\u001b[0m\n\u001b[1;32m   1964\u001b[0m     \u001b[0;32mexcept\u001b[0m \u001b[0m_core\u001b[0m\u001b[0;34m.\u001b[0m\u001b[0m_FallbackException\u001b[0m\u001b[0;34m:\u001b[0m\u001b[0;34m\u001b[0m\u001b[0;34m\u001b[0m\u001b[0m\n",
      "\u001b[0;31mKeyboardInterrupt\u001b[0m: "
     ]
    }
   ],
   "source": [
    "train_part34(model_init_fn, optimizer_init_fn, params = (64, 64, 3, 5), num_epochs=10, is_training=True)"
   ]
  },
  {
   "cell_type": "code",
   "execution_count": 131,
   "metadata": {},
   "outputs": [
    {
     "name": "stdout",
     "output_type": "stream",
     "text": [
      "Iteration 0, Epoch 1, Loss: 3.075291156768799, Accuracy: 12.5, Val Loss: 3.069270133972168, Val Accuracy: 11.300000190734863\n",
      "Iteration 700, Epoch 1, Loss: 1.5374486446380615, Accuracy: 46.14836120605469, Val Loss: 1.3050274848937988, Val Accuracy: 55.099998474121094\n",
      "Iteration 1400, Epoch 2, Loss: 1.1637150049209595, Accuracy: 59.586612701416016, Val Loss: 1.1532888412475586, Val Accuracy: 59.89999771118164\n",
      "Iteration 2100, Epoch 3, Loss: 0.9849926233291626, Accuracy: 66.06436920166016, Val Loss: 1.1049082279205322, Val Accuracy: 62.5\n",
      "Iteration 2800, Epoch 4, Loss: 0.8507297039031982, Accuracy: 71.02696228027344, Val Loss: 1.0911073684692383, Val Accuracy: 61.900001525878906\n"
     ]
    },
    {
     "ename": "KeyboardInterrupt",
     "evalue": "",
     "output_type": "error",
     "traceback": [
      "\u001b[0;31m---------------------------------------------------------------------------\u001b[0m",
      "\u001b[0;31mKeyboardInterrupt\u001b[0m                         Traceback (most recent call last)",
      "\u001b[0;32m<ipython-input-131-001f3e9b1465>\u001b[0m in \u001b[0;36m<module>\u001b[0;34m\u001b[0m\n\u001b[0;32m----> 1\u001b[0;31m \u001b[0mtrain_part34\u001b[0m\u001b[0;34m(\u001b[0m\u001b[0mmodel_init_fn\u001b[0m\u001b[0;34m,\u001b[0m \u001b[0moptimizer_init_fn\u001b[0m\u001b[0;34m,\u001b[0m \u001b[0mparams\u001b[0m \u001b[0;34m=\u001b[0m \u001b[0;34m(\u001b[0m\u001b[0;36m128\u001b[0m\u001b[0;34m,\u001b[0m \u001b[0;36m32\u001b[0m\u001b[0;34m,\u001b[0m \u001b[0;36m5\u001b[0m\u001b[0;34m,\u001b[0m \u001b[0;36m7\u001b[0m\u001b[0;34m)\u001b[0m\u001b[0;34m,\u001b[0m \u001b[0mnum_epochs\u001b[0m\u001b[0;34m=\u001b[0m\u001b[0;36m10\u001b[0m\u001b[0;34m,\u001b[0m \u001b[0mis_training\u001b[0m\u001b[0;34m=\u001b[0m\u001b[0;32mTrue\u001b[0m\u001b[0;34m)\u001b[0m\u001b[0;34m\u001b[0m\u001b[0;34m\u001b[0m\u001b[0m\n\u001b[0m",
      "\u001b[0;32m<ipython-input-114-3253cd393ec9>\u001b[0m in \u001b[0;36mtrain_part34\u001b[0;34m(model_init_fn, optimizer_init_fn, params, num_epochs, is_training)\u001b[0m\n\u001b[1;32m     52\u001b[0m \u001b[0;34m\u001b[0m\u001b[0m\n\u001b[1;32m     53\u001b[0m                     \u001b[0;31m# Update the metrics\u001b[0m\u001b[0;34m\u001b[0m\u001b[0;34m\u001b[0m\u001b[0;34m\u001b[0m\u001b[0m\n\u001b[0;32m---> 54\u001b[0;31m                     \u001b[0mtrain_loss\u001b[0m\u001b[0;34m.\u001b[0m\u001b[0mupdate_state\u001b[0m\u001b[0;34m(\u001b[0m\u001b[0mloss\u001b[0m\u001b[0;34m)\u001b[0m\u001b[0;34m\u001b[0m\u001b[0;34m\u001b[0m\u001b[0m\n\u001b[0m\u001b[1;32m     55\u001b[0m                     \u001b[0mtrain_accuracy\u001b[0m\u001b[0;34m.\u001b[0m\u001b[0mupdate_state\u001b[0m\u001b[0;34m(\u001b[0m\u001b[0my_np\u001b[0m\u001b[0;34m,\u001b[0m \u001b[0mscores\u001b[0m\u001b[0;34m)\u001b[0m\u001b[0;34m\u001b[0m\u001b[0;34m\u001b[0m\u001b[0m\n\u001b[1;32m     56\u001b[0m \u001b[0;34m\u001b[0m\u001b[0m\n",
      "\u001b[0;32m~/anaconda3/lib/python3.7/site-packages/tensorflow_core/python/keras/utils/metrics_utils.py\u001b[0m in \u001b[0;36mdecorated\u001b[0;34m(metric_obj, *args, **kwargs)\u001b[0m\n\u001b[1;32m     74\u001b[0m \u001b[0;34m\u001b[0m\u001b[0m\n\u001b[1;32m     75\u001b[0m     \u001b[0;32mwith\u001b[0m \u001b[0mtf_utils\u001b[0m\u001b[0;34m.\u001b[0m\u001b[0mgraph_context_for_symbolic_tensors\u001b[0m\u001b[0;34m(\u001b[0m\u001b[0;34m*\u001b[0m\u001b[0margs\u001b[0m\u001b[0;34m,\u001b[0m \u001b[0;34m**\u001b[0m\u001b[0mkwargs\u001b[0m\u001b[0;34m)\u001b[0m\u001b[0;34m:\u001b[0m\u001b[0;34m\u001b[0m\u001b[0;34m\u001b[0m\u001b[0m\n\u001b[0;32m---> 76\u001b[0;31m       \u001b[0mupdate_op\u001b[0m \u001b[0;34m=\u001b[0m \u001b[0mupdate_state_fn\u001b[0m\u001b[0;34m(\u001b[0m\u001b[0;34m*\u001b[0m\u001b[0margs\u001b[0m\u001b[0;34m,\u001b[0m \u001b[0;34m**\u001b[0m\u001b[0mkwargs\u001b[0m\u001b[0;34m)\u001b[0m\u001b[0;34m\u001b[0m\u001b[0;34m\u001b[0m\u001b[0m\n\u001b[0m\u001b[1;32m     77\u001b[0m     \u001b[0;32mif\u001b[0m \u001b[0mupdate_op\u001b[0m \u001b[0;32mis\u001b[0m \u001b[0;32mnot\u001b[0m \u001b[0;32mNone\u001b[0m\u001b[0;34m:\u001b[0m  \u001b[0;31m# update_op will be None in eager execution.\u001b[0m\u001b[0;34m\u001b[0m\u001b[0;34m\u001b[0m\u001b[0m\n\u001b[1;32m     78\u001b[0m       \u001b[0mmetric_obj\u001b[0m\u001b[0;34m.\u001b[0m\u001b[0madd_update\u001b[0m\u001b[0;34m(\u001b[0m\u001b[0mupdate_op\u001b[0m\u001b[0;34m)\u001b[0m\u001b[0;34m\u001b[0m\u001b[0;34m\u001b[0m\u001b[0m\n",
      "\u001b[0;31mKeyboardInterrupt\u001b[0m: "
     ]
    }
   ],
   "source": [
    "train_part34(model_init_fn, optimizer_init_fn, params = (128, 32, 5, 7), num_epochs=10, is_training=True)"
   ]
  },
  {
   "cell_type": "markdown",
   "metadata": {
    "tags": [
     "pdf-inline"
    ]
   },
   "source": [
    "TODO: Tell us what you did"
   ]
  }
 ],
 "metadata": {
  "kernelspec": {
   "display_name": "Python 3",
   "language": "python",
   "name": "python3"
  },
  "language_info": {
   "codemirror_mode": {
    "name": "ipython",
    "version": 3
   },
   "file_extension": ".py",
   "mimetype": "text/x-python",
   "name": "python",
   "nbconvert_exporter": "python",
   "pygments_lexer": "ipython3",
   "version": "3.7.4"
  }
 },
 "nbformat": 4,
 "nbformat_minor": 2
}
