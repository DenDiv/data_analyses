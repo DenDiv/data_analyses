{
 "cells": [
  {
   "cell_type": "code",
   "execution_count": 57,
   "metadata": {},
   "outputs": [],
   "source": [
    "import numpy as np\n",
    "import pandas as pd\n",
    "import re "
   ]
  },
  {
   "cell_type": "code",
   "execution_count": 10,
   "metadata": {},
   "outputs": [],
   "source": [
    "rus_alph = ['а','б','в','г','д','е','ж','з','и','й','к','л','м','н','о','п','р','с','т','у','ф','х','ц','ч','ш','щ','ъ','ы','ь','э','ю','я']\n",
    "eng_alph = ['a','b','c','d','e','f','g','h','i','j','k','l','m','n','o','p','q','r','s','t','u','v','w','x','y','z']"
   ]
  },
  {
   "cell_type": "code",
   "execution_count": 29,
   "metadata": {},
   "outputs": [],
   "source": [
    "with open('stats_files/raw_search_data.csv','r') as f:\n",
    "    st = f.readlines()"
   ]
  },
  {
   "cell_type": "code",
   "execution_count": 8,
   "metadata": {},
   "outputs": [
    {
     "data": {
      "text/plain": [
       "'\"Варшава-Заходня\" Адрес: Иерусалимские аллеи; дом 144\";2019-07-10 21:45:02;ru-RU;[21.0254, 61.458];18b83f64744022124f776561a212b61478f76636\\n'"
      ]
     },
     "execution_count": 8,
     "metadata": {},
     "output_type": "execute_result"
    }
   ],
   "source": [
    "st[22417]"
   ]
  },
  {
   "cell_type": "code",
   "execution_count": 12,
   "metadata": {},
   "outputs": [
    {
     "name": "stdout",
     "output_type": "stream",
     "text": [
      "\"Варшава-Заходня\" Адрес: Иерусалимские аллеи; дом 144\";2019-07-10 21:45:02;ru-RU;[21.0254, 61.458];18b83f64744022124f776561a212b61478f76636\n",
      "\n"
     ]
    }
   ],
   "source": [
    "line = '\"Варшава-Заходня\" Адрес: Иерусалимские аллеи; дом 144\";2019-07-10 21:45:02;ru-RU;[21.0254, 61.458];18b83f64744022124f776561a212b61478f76636\\n'\n",
    "print(line)"
   ]
  },
  {
   "cell_type": "code",
   "execution_count": null,
   "metadata": {},
   "outputs": [],
   "source": []
  },
  {
   "cell_type": "code",
   "execution_count": 51,
   "metadata": {},
   "outputs": [],
   "source": [
    "def preproc_str(line:str):\n",
    "    req = line[1:line.rfind('\"')].lower()\n",
    "    req = re.sub(r'ё', 'е', req)\n",
    "    req = re.sub(r'[^абвгдежзийклмнопрстуфхцчшщъыьэюяabcdefghijklmnopqrstuvwxyz]', ' ', req)      \n",
    "    req = re.sub(r'  ', ' ', req) \n",
    "    req = req.lstrip().rstrip()\n",
    "    if req.find(' ') != -1:\n",
    "        return []\n",
    "    if req:\n",
    "        uid = str(hash(line[line.rfind(';')+1:-1]))\n",
    "        if req[0] in rus_alph:\n",
    "            return [req, uid, 'rus']\n",
    "        if req[0] in eng_alph:\n",
    "            return [req, uid, 'eng']\n",
    "    return []"
   ]
  },
  {
   "cell_type": "code",
   "execution_count": 52,
   "metadata": {},
   "outputs": [],
   "source": [
    "with open('stats_files/new_raw_search_data.csv','w') as f:\n",
    "    f.write('req;uid;rus/eng\\n')\n",
    "    for i in range(1,len(st)):\n",
    "        args = preproc_str(st[i])\n",
    "        if args:\n",
    "            f.write(args[0]+';'+args[1]+';'+args[2]+ '\\n')\n",
    "        "
   ]
  },
  {
   "cell_type": "code",
   "execution_count": 53,
   "metadata": {},
   "outputs": [
    {
     "data": {
      "text/html": [
       "<div>\n",
       "<style scoped>\n",
       "    .dataframe tbody tr th:only-of-type {\n",
       "        vertical-align: middle;\n",
       "    }\n",
       "\n",
       "    .dataframe tbody tr th {\n",
       "        vertical-align: top;\n",
       "    }\n",
       "\n",
       "    .dataframe thead th {\n",
       "        text-align: right;\n",
       "    }\n",
       "</style>\n",
       "<table border=\"1\" class=\"dataframe\">\n",
       "  <thead>\n",
       "    <tr style=\"text-align: right;\">\n",
       "      <th></th>\n",
       "      <th>req</th>\n",
       "      <th>uid</th>\n",
       "      <th>rus/eng</th>\n",
       "    </tr>\n",
       "  </thead>\n",
       "  <tbody>\n",
       "    <tr>\n",
       "      <th>0</th>\n",
       "      <td>g</td>\n",
       "      <td>446396070047359768</td>\n",
       "      <td>eng</td>\n",
       "    </tr>\n",
       "    <tr>\n",
       "      <th>1</th>\n",
       "      <td>ge</td>\n",
       "      <td>446396070047359768</td>\n",
       "      <td>eng</td>\n",
       "    </tr>\n",
       "    <tr>\n",
       "      <th>2</th>\n",
       "      <td>gen</td>\n",
       "      <td>446396070047359768</td>\n",
       "      <td>eng</td>\n",
       "    </tr>\n",
       "    <tr>\n",
       "      <th>3</th>\n",
       "      <td>geno</td>\n",
       "      <td>446396070047359768</td>\n",
       "      <td>eng</td>\n",
       "    </tr>\n",
       "    <tr>\n",
       "      <th>4</th>\n",
       "      <td>genova</td>\n",
       "      <td>446396070047359768</td>\n",
       "      <td>eng</td>\n",
       "    </tr>\n",
       "  </tbody>\n",
       "</table>\n",
       "</div>"
      ],
      "text/plain": [
       "      req                 uid rus/eng\n",
       "0       g  446396070047359768     eng\n",
       "1      ge  446396070047359768     eng\n",
       "2     gen  446396070047359768     eng\n",
       "3    geno  446396070047359768     eng\n",
       "4  genova  446396070047359768     eng"
      ]
     },
     "execution_count": 53,
     "metadata": {},
     "output_type": "execute_result"
    }
   ],
   "source": [
    "df = pd.read_csv('stats_files/new_raw_search_data.csv',sep = ';')\n",
    "df.head()"
   ]
  },
  {
   "cell_type": "code",
   "execution_count": null,
   "metadata": {},
   "outputs": [],
   "source": []
  }
 ],
 "metadata": {
  "kernelspec": {
   "display_name": "Python 3",
   "language": "python",
   "name": "python3"
  },
  "language_info": {
   "codemirror_mode": {
    "name": "ipython",
    "version": 3
   },
   "file_extension": ".py",
   "mimetype": "text/x-python",
   "name": "python",
   "nbconvert_exporter": "python",
   "pygments_lexer": "ipython3",
   "version": "3.7.1"
  }
 },
 "nbformat": 4,
 "nbformat_minor": 2
}
